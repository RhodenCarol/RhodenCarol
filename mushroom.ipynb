{
 "cells": [
  {
   "cell_type": "code",
   "execution_count": 906,
   "metadata": {},
   "outputs": [],
   "source": [
    "#loading all packages\n",
    "import pandas as pd\n",
    "import numpy as np\n",
    "import matplotlib.pyplot as plt\n",
    "import warnings\n",
    "import sklearn.preprocessing\n",
    "from sklearn.linear_model import LinearRegression\n",
    "from sklearn import preprocessing\n",
    "from sklearn.preprocessing import StandardScaler\n",
    "\n",
    "from sklearn.decomposition import PCA\n",
    "from pathlib import Path\n",
    "from sklearn.neighbors import KNeighborsClassifier\n",
    "import scipy\n",
    "from scipy.stats import norm\n",
    "#from pylab import reParams\n",
    "import urllib\n",
    "from sklearn import preprocessing\n",
    "from sklearn.model_selection import train_test_split\n",
    "from sklearn import metrics\n",
    "from sklearn.datasets import make_classification\n",
    "from sklearn.metrics import confusion_matrix\n",
    "from sklearn.linear_model import LogisticRegression\n",
    "import statistics as stats\n"
   ]
  },
  {
   "cell_type": "code",
   "execution_count": 907,
   "metadata": {},
   "outputs": [],
   "source": [
    "warnings.filterwarnings('ignore')\n",
    "%matplotlib inline"
   ]
  },
  {
   "cell_type": "markdown",
   "metadata": {},
   "source": [
    "Reading datasets - Mushrooms in ireland "
   ]
  },
  {
   "cell_type": "code",
   "execution_count": 908,
   "metadata": {},
   "outputs": [],
   "source": [
    "output_in_income_url = 'AEA01.20211220T181206.csv'"
   ]
  },
  {
   "cell_type": "code",
   "execution_count": 909,
   "metadata": {},
   "outputs": [],
   "source": [
    "live_stock_df = pd.read_csv(output_in_income_url)"
   ]
  },
  {
   "cell_type": "markdown",
   "metadata": {},
   "source": [
    "Reading datasets - Euro to Dollar conversion rate"
   ]
  },
  {
   "cell_type": "code",
   "execution_count": 910,
   "metadata": {},
   "outputs": [],
   "source": [
    "euro_to_dollar_rates = 'Euro_To_dollar.csv'"
   ]
  },
  {
   "cell_type": "code",
   "execution_count": 911,
   "metadata": {},
   "outputs": [],
   "source": [
    "rates_df = pd.read_csv(euro_to_dollar_rates)"
   ]
  },
  {
   "cell_type": "markdown",
   "metadata": {},
   "source": [
    "Checking the data"
   ]
  },
  {
   "cell_type": "code",
   "execution_count": 912,
   "metadata": {
    "scrolled": true
   },
   "outputs": [
    {
     "data": {
      "text/html": [
       "<div>\n",
       "<style scoped>\n",
       "    .dataframe tbody tr th:only-of-type {\n",
       "        vertical-align: middle;\n",
       "    }\n",
       "\n",
       "    .dataframe tbody tr th {\n",
       "        vertical-align: top;\n",
       "    }\n",
       "\n",
       "    .dataframe thead th {\n",
       "        text-align: right;\n",
       "    }\n",
       "</style>\n",
       "<table border=\"1\" class=\"dataframe\">\n",
       "  <thead>\n",
       "    <tr style=\"text-align: right;\">\n",
       "      <th></th>\n",
       "      <th>Year</th>\n",
       "      <th>Rate</th>\n",
       "      <th>Unnamed: 2</th>\n",
       "    </tr>\n",
       "  </thead>\n",
       "  <tbody>\n",
       "    <tr>\n",
       "      <th>0</th>\n",
       "      <td>December 31, 1999</td>\n",
       "      <td>1.066116</td>\n",
       "      <td>NaN</td>\n",
       "    </tr>\n",
       "    <tr>\n",
       "      <th>1</th>\n",
       "      <td>December 31, 2000</td>\n",
       "      <td>0.923498</td>\n",
       "      <td>NaN</td>\n",
       "    </tr>\n",
       "    <tr>\n",
       "      <th>2</th>\n",
       "      <td>December 31, 2001</td>\n",
       "      <td>0.895969</td>\n",
       "      <td>NaN</td>\n",
       "    </tr>\n",
       "    <tr>\n",
       "      <th>3</th>\n",
       "      <td>December 31, 2002</td>\n",
       "      <td>0.942468</td>\n",
       "      <td>NaN</td>\n",
       "    </tr>\n",
       "    <tr>\n",
       "      <th>4</th>\n",
       "      <td>December 31, 2003</td>\n",
       "      <td>1.134134</td>\n",
       "      <td>NaN</td>\n",
       "    </tr>\n",
       "    <tr>\n",
       "      <th>5</th>\n",
       "      <td>December 31, 2004</td>\n",
       "      <td>1.244143</td>\n",
       "      <td>NaN</td>\n",
       "    </tr>\n",
       "    <tr>\n",
       "      <th>6</th>\n",
       "      <td>December 31, 2005</td>\n",
       "      <td>1.246376</td>\n",
       "      <td>NaN</td>\n",
       "    </tr>\n",
       "    <tr>\n",
       "      <th>7</th>\n",
       "      <td>December 31, 2006</td>\n",
       "      <td>1.256316</td>\n",
       "      <td>NaN</td>\n",
       "    </tr>\n",
       "    <tr>\n",
       "      <th>8</th>\n",
       "      <td>December 31, 2007</td>\n",
       "      <td>1.370412</td>\n",
       "      <td>NaN</td>\n",
       "    </tr>\n",
       "    <tr>\n",
       "      <th>9</th>\n",
       "      <td>December 31, 2008</td>\n",
       "      <td>1.471366</td>\n",
       "      <td>NaN</td>\n",
       "    </tr>\n",
       "  </tbody>\n",
       "</table>\n",
       "</div>"
      ],
      "text/plain": [
       "                Year      Rate  Unnamed: 2\n",
       "0  December 31, 1999  1.066116         NaN\n",
       "1  December 31, 2000  0.923498         NaN\n",
       "2  December 31, 2001  0.895969         NaN\n",
       "3  December 31, 2002  0.942468         NaN\n",
       "4  December 31, 2003  1.134134         NaN\n",
       "5  December 31, 2004  1.244143         NaN\n",
       "6  December 31, 2005  1.246376         NaN\n",
       "7  December 31, 2006  1.256316         NaN\n",
       "8  December 31, 2007  1.370412         NaN\n",
       "9  December 31, 2008  1.471366         NaN"
      ]
     },
     "execution_count": 912,
     "metadata": {},
     "output_type": "execute_result"
    }
   ],
   "source": [
    "rates_df.head(10)"
   ]
  },
  {
   "cell_type": "code",
   "execution_count": 913,
   "metadata": {
    "scrolled": true
   },
   "outputs": [
    {
     "data": {
      "text/html": [
       "<div>\n",
       "<style scoped>\n",
       "    .dataframe tbody tr th:only-of-type {\n",
       "        vertical-align: middle;\n",
       "    }\n",
       "\n",
       "    .dataframe tbody tr th {\n",
       "        vertical-align: top;\n",
       "    }\n",
       "\n",
       "    .dataframe thead th {\n",
       "        text-align: right;\n",
       "    }\n",
       "</style>\n",
       "<table border=\"1\" class=\"dataframe\">\n",
       "  <thead>\n",
       "    <tr style=\"text-align: right;\">\n",
       "      <th></th>\n",
       "      <th>Statistic</th>\n",
       "      <th>Year</th>\n",
       "      <th>State</th>\n",
       "      <th>UNIT</th>\n",
       "      <th>VALUE</th>\n",
       "    </tr>\n",
       "  </thead>\n",
       "  <tbody>\n",
       "    <tr>\n",
       "      <th>0</th>\n",
       "      <td>All Livestock</td>\n",
       "      <td>1990</td>\n",
       "      <td>State</td>\n",
       "      <td>Euro Million</td>\n",
       "      <td>2201.9</td>\n",
       "    </tr>\n",
       "    <tr>\n",
       "      <th>1</th>\n",
       "      <td>All Livestock</td>\n",
       "      <td>1991</td>\n",
       "      <td>State</td>\n",
       "      <td>Euro Million</td>\n",
       "      <td>2114.0</td>\n",
       "    </tr>\n",
       "    <tr>\n",
       "      <th>2</th>\n",
       "      <td>All Livestock</td>\n",
       "      <td>1992</td>\n",
       "      <td>State</td>\n",
       "      <td>Euro Million</td>\n",
       "      <td>2262.5</td>\n",
       "    </tr>\n",
       "    <tr>\n",
       "      <th>3</th>\n",
       "      <td>All Livestock</td>\n",
       "      <td>1993</td>\n",
       "      <td>State</td>\n",
       "      <td>Euro Million</td>\n",
       "      <td>2449.6</td>\n",
       "    </tr>\n",
       "    <tr>\n",
       "      <th>4</th>\n",
       "      <td>All Livestock</td>\n",
       "      <td>1994</td>\n",
       "      <td>State</td>\n",
       "      <td>Euro Million</td>\n",
       "      <td>2319.3</td>\n",
       "    </tr>\n",
       "  </tbody>\n",
       "</table>\n",
       "</div>"
      ],
      "text/plain": [
       "       Statistic  Year  State          UNIT   VALUE\n",
       "0  All Livestock  1990  State  Euro Million  2201.9\n",
       "1  All Livestock  1991  State  Euro Million  2114.0\n",
       "2  All Livestock  1992  State  Euro Million  2262.5\n",
       "3  All Livestock  1993  State  Euro Million  2449.6\n",
       "4  All Livestock  1994  State  Euro Million  2319.3"
      ]
     },
     "execution_count": 913,
     "metadata": {},
     "output_type": "execute_result"
    }
   ],
   "source": [
    "live_stock_df.head()"
   ]
  },
  {
   "cell_type": "code",
   "execution_count": 914,
   "metadata": {},
   "outputs": [
    {
     "data": {
      "text/plain": [
       "Index(['Statistic', 'Year', 'State', 'UNIT', 'VALUE'], dtype='object')"
      ]
     },
     "execution_count": 914,
     "metadata": {},
     "output_type": "execute_result"
    }
   ],
   "source": [
    "live_stock_df.columns"
   ]
  },
  {
   "cell_type": "code",
   "execution_count": 915,
   "metadata": {},
   "outputs": [
    {
     "data": {
      "text/plain": [
       "array([1990, 1991, 1992, 1993, 1994, 1995, 1996, 1997, 1998, 1999, 2000,\n",
       "       2001, 2002, 2003, 2004, 2005, 2006, 2007, 2008, 2009, 2010, 2011,\n",
       "       2012, 2013, 2014, 2015, 2016, 2017, 2018, 2019, 2020, 2021],\n",
       "      dtype=int64)"
      ]
     },
     "execution_count": 915,
     "metadata": {},
     "output_type": "execute_result"
    }
   ],
   "source": [
    "live_stock_df.Year.unique()"
   ]
  },
  {
   "cell_type": "code",
   "execution_count": 916,
   "metadata": {},
   "outputs": [
    {
     "data": {
      "text/plain": [
       "(1728, 5)"
      ]
     },
     "execution_count": 916,
     "metadata": {},
     "output_type": "execute_result"
    }
   ],
   "source": [
    "live_stock_df.shape"
   ]
  },
  {
   "cell_type": "markdown",
   "metadata": {},
   "source": [
    "Cleaning the dataset to leave only Mushrooms"
   ]
  },
  {
   "cell_type": "code",
   "execution_count": 917,
   "metadata": {},
   "outputs": [],
   "source": [
    "mushroom_value =  live_stock_df[live_stock_df['Statistic']=='Crops - Mushrooms']\n",
    "\n",
    "mushroom_value=mushroom_value.dropna()"
   ]
  },
  {
   "cell_type": "code",
   "execution_count": 918,
   "metadata": {},
   "outputs": [
    {
     "data": {
      "text/plain": [
       "(31, 5)"
      ]
     },
     "execution_count": 918,
     "metadata": {},
     "output_type": "execute_result"
    }
   ],
   "source": [
    "mushroom_value.shape"
   ]
  },
  {
   "cell_type": "code",
   "execution_count": 919,
   "metadata": {},
   "outputs": [
    {
     "data": {
      "text/plain": [
       "31"
      ]
     },
     "execution_count": 919,
     "metadata": {},
     "output_type": "execute_result"
    }
   ],
   "source": [
    "mushroom_size = mushroom_value.shape[0]\n",
    "mushroom_size"
   ]
  },
  {
   "cell_type": "code",
   "execution_count": 920,
   "metadata": {},
   "outputs": [
    {
     "data": {
      "text/html": [
       "<div>\n",
       "<style scoped>\n",
       "    .dataframe tbody tr th:only-of-type {\n",
       "        vertical-align: middle;\n",
       "    }\n",
       "\n",
       "    .dataframe tbody tr th {\n",
       "        vertical-align: top;\n",
       "    }\n",
       "\n",
       "    .dataframe thead th {\n",
       "        text-align: right;\n",
       "    }\n",
       "</style>\n",
       "<table border=\"1\" class=\"dataframe\">\n",
       "  <thead>\n",
       "    <tr style=\"text-align: right;\">\n",
       "      <th></th>\n",
       "      <th>Statistic</th>\n",
       "      <th>Year</th>\n",
       "      <th>State</th>\n",
       "      <th>UNIT</th>\n",
       "      <th>VALUE</th>\n",
       "    </tr>\n",
       "  </thead>\n",
       "  <tbody>\n",
       "    <tr>\n",
       "      <th>512</th>\n",
       "      <td>Crops - Mushrooms</td>\n",
       "      <td>1990</td>\n",
       "      <td>State</td>\n",
       "      <td>Euro Million</td>\n",
       "      <td>57.1</td>\n",
       "    </tr>\n",
       "    <tr>\n",
       "      <th>513</th>\n",
       "      <td>Crops - Mushrooms</td>\n",
       "      <td>1991</td>\n",
       "      <td>State</td>\n",
       "      <td>Euro Million</td>\n",
       "      <td>63.5</td>\n",
       "    </tr>\n",
       "    <tr>\n",
       "      <th>514</th>\n",
       "      <td>Crops - Mushrooms</td>\n",
       "      <td>1992</td>\n",
       "      <td>State</td>\n",
       "      <td>Euro Million</td>\n",
       "      <td>64.8</td>\n",
       "    </tr>\n",
       "    <tr>\n",
       "      <th>515</th>\n",
       "      <td>Crops - Mushrooms</td>\n",
       "      <td>1993</td>\n",
       "      <td>State</td>\n",
       "      <td>Euro Million</td>\n",
       "      <td>68.1</td>\n",
       "    </tr>\n",
       "    <tr>\n",
       "      <th>516</th>\n",
       "      <td>Crops - Mushrooms</td>\n",
       "      <td>1994</td>\n",
       "      <td>State</td>\n",
       "      <td>Euro Million</td>\n",
       "      <td>76.3</td>\n",
       "    </tr>\n",
       "  </tbody>\n",
       "</table>\n",
       "</div>"
      ],
      "text/plain": [
       "             Statistic  Year  State          UNIT  VALUE\n",
       "512  Crops - Mushrooms  1990  State  Euro Million   57.1\n",
       "513  Crops - Mushrooms  1991  State  Euro Million   63.5\n",
       "514  Crops - Mushrooms  1992  State  Euro Million   64.8\n",
       "515  Crops - Mushrooms  1993  State  Euro Million   68.1\n",
       "516  Crops - Mushrooms  1994  State  Euro Million   76.3"
      ]
     },
     "execution_count": 920,
     "metadata": {},
     "output_type": "execute_result"
    }
   ],
   "source": [
    "mushroom_value.head(5)"
   ]
  },
  {
   "cell_type": "code",
   "execution_count": 921,
   "metadata": {},
   "outputs": [
    {
     "data": {
      "text/html": [
       "<div>\n",
       "<style scoped>\n",
       "    .dataframe tbody tr th:only-of-type {\n",
       "        vertical-align: middle;\n",
       "    }\n",
       "\n",
       "    .dataframe tbody tr th {\n",
       "        vertical-align: top;\n",
       "    }\n",
       "\n",
       "    .dataframe thead th {\n",
       "        text-align: right;\n",
       "    }\n",
       "</style>\n",
       "<table border=\"1\" class=\"dataframe\">\n",
       "  <thead>\n",
       "    <tr style=\"text-align: right;\">\n",
       "      <th></th>\n",
       "      <th>Statistic</th>\n",
       "      <th>Year</th>\n",
       "      <th>State</th>\n",
       "      <th>UNIT</th>\n",
       "      <th>VALUE</th>\n",
       "    </tr>\n",
       "  </thead>\n",
       "  <tbody>\n",
       "    <tr>\n",
       "      <th>512</th>\n",
       "      <td>Crops - Mushrooms</td>\n",
       "      <td>1990</td>\n",
       "      <td>State</td>\n",
       "      <td>Euro Million</td>\n",
       "      <td>57.1</td>\n",
       "    </tr>\n",
       "    <tr>\n",
       "      <th>513</th>\n",
       "      <td>Crops - Mushrooms</td>\n",
       "      <td>1991</td>\n",
       "      <td>State</td>\n",
       "      <td>Euro Million</td>\n",
       "      <td>63.5</td>\n",
       "    </tr>\n",
       "    <tr>\n",
       "      <th>514</th>\n",
       "      <td>Crops - Mushrooms</td>\n",
       "      <td>1992</td>\n",
       "      <td>State</td>\n",
       "      <td>Euro Million</td>\n",
       "      <td>64.8</td>\n",
       "    </tr>\n",
       "    <tr>\n",
       "      <th>515</th>\n",
       "      <td>Crops - Mushrooms</td>\n",
       "      <td>1993</td>\n",
       "      <td>State</td>\n",
       "      <td>Euro Million</td>\n",
       "      <td>68.1</td>\n",
       "    </tr>\n",
       "    <tr>\n",
       "      <th>516</th>\n",
       "      <td>Crops - Mushrooms</td>\n",
       "      <td>1994</td>\n",
       "      <td>State</td>\n",
       "      <td>Euro Million</td>\n",
       "      <td>76.3</td>\n",
       "    </tr>\n",
       "  </tbody>\n",
       "</table>\n",
       "</div>"
      ],
      "text/plain": [
       "             Statistic  Year  State          UNIT  VALUE\n",
       "512  Crops - Mushrooms  1990  State  Euro Million   57.1\n",
       "513  Crops - Mushrooms  1991  State  Euro Million   63.5\n",
       "514  Crops - Mushrooms  1992  State  Euro Million   64.8\n",
       "515  Crops - Mushrooms  1993  State  Euro Million   68.1\n",
       "516  Crops - Mushrooms  1994  State  Euro Million   76.3"
      ]
     },
     "execution_count": 921,
     "metadata": {},
     "output_type": "execute_result"
    }
   ],
   "source": [
    "mushroom_value.head()"
   ]
  },
  {
   "cell_type": "markdown",
   "metadata": {},
   "source": [
    "Checking rates table"
   ]
  },
  {
   "cell_type": "code",
   "execution_count": 922,
   "metadata": {},
   "outputs": [
    {
     "data": {
      "text/html": [
       "<div>\n",
       "<style scoped>\n",
       "    .dataframe tbody tr th:only-of-type {\n",
       "        vertical-align: middle;\n",
       "    }\n",
       "\n",
       "    .dataframe tbody tr th {\n",
       "        vertical-align: top;\n",
       "    }\n",
       "\n",
       "    .dataframe thead th {\n",
       "        text-align: right;\n",
       "    }\n",
       "</style>\n",
       "<table border=\"1\" class=\"dataframe\">\n",
       "  <thead>\n",
       "    <tr style=\"text-align: right;\">\n",
       "      <th></th>\n",
       "      <th>Year</th>\n",
       "      <th>Rate</th>\n",
       "      <th>Unnamed: 2</th>\n",
       "    </tr>\n",
       "  </thead>\n",
       "  <tbody>\n",
       "    <tr>\n",
       "      <th>0</th>\n",
       "      <td>December 31, 1999</td>\n",
       "      <td>1.066116</td>\n",
       "      <td>NaN</td>\n",
       "    </tr>\n",
       "    <tr>\n",
       "      <th>1</th>\n",
       "      <td>December 31, 2000</td>\n",
       "      <td>0.923498</td>\n",
       "      <td>NaN</td>\n",
       "    </tr>\n",
       "    <tr>\n",
       "      <th>2</th>\n",
       "      <td>December 31, 2001</td>\n",
       "      <td>0.895969</td>\n",
       "      <td>NaN</td>\n",
       "    </tr>\n",
       "    <tr>\n",
       "      <th>3</th>\n",
       "      <td>December 31, 2002</td>\n",
       "      <td>0.942468</td>\n",
       "      <td>NaN</td>\n",
       "    </tr>\n",
       "    <tr>\n",
       "      <th>4</th>\n",
       "      <td>December 31, 2003</td>\n",
       "      <td>1.134134</td>\n",
       "      <td>NaN</td>\n",
       "    </tr>\n",
       "  </tbody>\n",
       "</table>\n",
       "</div>"
      ],
      "text/plain": [
       "                Year      Rate  Unnamed: 2\n",
       "0  December 31, 1999  1.066116         NaN\n",
       "1  December 31, 2000  0.923498         NaN\n",
       "2  December 31, 2001  0.895969         NaN\n",
       "3  December 31, 2002  0.942468         NaN\n",
       "4  December 31, 2003  1.134134         NaN"
      ]
     },
     "execution_count": 922,
     "metadata": {},
     "output_type": "execute_result"
    }
   ],
   "source": [
    "rates_df.head()"
   ]
  },
  {
   "cell_type": "code",
   "execution_count": 923,
   "metadata": {},
   "outputs": [
    {
     "data": {
      "text/plain": [
       "24"
      ]
     },
     "execution_count": 923,
     "metadata": {},
     "output_type": "execute_result"
    }
   ],
   "source": [
    "rates_size = rates_df.shape[0]\n",
    "rates_size"
   ]
  },
  {
   "cell_type": "markdown",
   "metadata": {},
   "source": [
    "Creating new column with the value converted to US Dollar"
   ]
  },
  {
   "cell_type": "code",
   "execution_count": 924,
   "metadata": {},
   "outputs": [],
   "source": [
    "rate = []\n",
    "result = []\n",
    "\n",
    "for i in range(mushroom_size):\n",
    "    mYear = int(mushroom_value.iloc[i][\"Year\"])\n",
    "    \n",
    "    if mYear < 1999:\n",
    "        mYear = 1999\n",
    "    \n",
    "    for j in range(rates_size):\n",
    "        rYear = int(rates_df.iloc[j][\"Year\"].replace('December 31, ', '').replace('January 23, ', '').strip())\n",
    "\n",
    "        if rYear == mYear:\n",
    "            rate.append(rates_df.iloc[j][\"Rate\"])\n",
    "            result.append(rates_df.iloc[j][\"Rate\"]*mushroom_value.iloc[i][\"VALUE\"])\n",
    "            break\n",
    "\n",
    "mushroom_value[\"Rate\"] = rate               \n",
    "mushroom_value[\"US$\"] = result   "
   ]
  },
  {
   "cell_type": "code",
   "execution_count": 925,
   "metadata": {},
   "outputs": [
    {
     "data": {
      "text/html": [
       "<div>\n",
       "<style scoped>\n",
       "    .dataframe tbody tr th:only-of-type {\n",
       "        vertical-align: middle;\n",
       "    }\n",
       "\n",
       "    .dataframe tbody tr th {\n",
       "        vertical-align: top;\n",
       "    }\n",
       "\n",
       "    .dataframe thead th {\n",
       "        text-align: right;\n",
       "    }\n",
       "</style>\n",
       "<table border=\"1\" class=\"dataframe\">\n",
       "  <thead>\n",
       "    <tr style=\"text-align: right;\">\n",
       "      <th></th>\n",
       "      <th>Statistic</th>\n",
       "      <th>Year</th>\n",
       "      <th>State</th>\n",
       "      <th>UNIT</th>\n",
       "      <th>EUR$</th>\n",
       "      <th>Rate</th>\n",
       "      <th>US$</th>\n",
       "    </tr>\n",
       "  </thead>\n",
       "  <tbody>\n",
       "    <tr>\n",
       "      <th>512</th>\n",
       "      <td>Crops - Mushrooms</td>\n",
       "      <td>1990</td>\n",
       "      <td>State</td>\n",
       "      <td>Euro Million</td>\n",
       "      <td>57.1</td>\n",
       "      <td>1.066116</td>\n",
       "      <td>60.875224</td>\n",
       "    </tr>\n",
       "    <tr>\n",
       "      <th>513</th>\n",
       "      <td>Crops - Mushrooms</td>\n",
       "      <td>1991</td>\n",
       "      <td>State</td>\n",
       "      <td>Euro Million</td>\n",
       "      <td>63.5</td>\n",
       "      <td>1.066116</td>\n",
       "      <td>67.698366</td>\n",
       "    </tr>\n",
       "    <tr>\n",
       "      <th>514</th>\n",
       "      <td>Crops - Mushrooms</td>\n",
       "      <td>1992</td>\n",
       "      <td>State</td>\n",
       "      <td>Euro Million</td>\n",
       "      <td>64.8</td>\n",
       "      <td>1.066116</td>\n",
       "      <td>69.084317</td>\n",
       "    </tr>\n",
       "    <tr>\n",
       "      <th>515</th>\n",
       "      <td>Crops - Mushrooms</td>\n",
       "      <td>1993</td>\n",
       "      <td>State</td>\n",
       "      <td>Euro Million</td>\n",
       "      <td>68.1</td>\n",
       "      <td>1.066116</td>\n",
       "      <td>72.602500</td>\n",
       "    </tr>\n",
       "    <tr>\n",
       "      <th>516</th>\n",
       "      <td>Crops - Mushrooms</td>\n",
       "      <td>1994</td>\n",
       "      <td>State</td>\n",
       "      <td>Euro Million</td>\n",
       "      <td>76.3</td>\n",
       "      <td>1.066116</td>\n",
       "      <td>81.344651</td>\n",
       "    </tr>\n",
       "    <tr>\n",
       "      <th>517</th>\n",
       "      <td>Crops - Mushrooms</td>\n",
       "      <td>1995</td>\n",
       "      <td>State</td>\n",
       "      <td>Euro Million</td>\n",
       "      <td>78.0</td>\n",
       "      <td>1.066116</td>\n",
       "      <td>83.157048</td>\n",
       "    </tr>\n",
       "    <tr>\n",
       "      <th>518</th>\n",
       "      <td>Crops - Mushrooms</td>\n",
       "      <td>1996</td>\n",
       "      <td>State</td>\n",
       "      <td>Euro Million</td>\n",
       "      <td>92.3</td>\n",
       "      <td>1.066116</td>\n",
       "      <td>98.402507</td>\n",
       "    </tr>\n",
       "    <tr>\n",
       "      <th>519</th>\n",
       "      <td>Crops - Mushrooms</td>\n",
       "      <td>1997</td>\n",
       "      <td>State</td>\n",
       "      <td>Euro Million</td>\n",
       "      <td>101.9</td>\n",
       "      <td>1.066116</td>\n",
       "      <td>108.637220</td>\n",
       "    </tr>\n",
       "    <tr>\n",
       "      <th>520</th>\n",
       "      <td>Crops - Mushrooms</td>\n",
       "      <td>1998</td>\n",
       "      <td>State</td>\n",
       "      <td>Euro Million</td>\n",
       "      <td>106.7</td>\n",
       "      <td>1.066116</td>\n",
       "      <td>113.754577</td>\n",
       "    </tr>\n",
       "    <tr>\n",
       "      <th>521</th>\n",
       "      <td>Crops - Mushrooms</td>\n",
       "      <td>1999</td>\n",
       "      <td>State</td>\n",
       "      <td>Euro Million</td>\n",
       "      <td>111.4</td>\n",
       "      <td>1.066116</td>\n",
       "      <td>118.765322</td>\n",
       "    </tr>\n",
       "    <tr>\n",
       "      <th>522</th>\n",
       "      <td>Crops - Mushrooms</td>\n",
       "      <td>2000</td>\n",
       "      <td>State</td>\n",
       "      <td>Euro Million</td>\n",
       "      <td>114.8</td>\n",
       "      <td>0.923498</td>\n",
       "      <td>106.017570</td>\n",
       "    </tr>\n",
       "    <tr>\n",
       "      <th>523</th>\n",
       "      <td>Crops - Mushrooms</td>\n",
       "      <td>2001</td>\n",
       "      <td>State</td>\n",
       "      <td>Euro Million</td>\n",
       "      <td>115.6</td>\n",
       "      <td>0.895969</td>\n",
       "      <td>103.574016</td>\n",
       "    </tr>\n",
       "    <tr>\n",
       "      <th>524</th>\n",
       "      <td>Crops - Mushrooms</td>\n",
       "      <td>2002</td>\n",
       "      <td>State</td>\n",
       "      <td>Euro Million</td>\n",
       "      <td>137.7</td>\n",
       "      <td>0.942468</td>\n",
       "      <td>129.777844</td>\n",
       "    </tr>\n",
       "    <tr>\n",
       "      <th>525</th>\n",
       "      <td>Crops - Mushrooms</td>\n",
       "      <td>2003</td>\n",
       "      <td>State</td>\n",
       "      <td>Euro Million</td>\n",
       "      <td>124.5</td>\n",
       "      <td>1.134134</td>\n",
       "      <td>141.199683</td>\n",
       "    </tr>\n",
       "    <tr>\n",
       "      <th>526</th>\n",
       "      <td>Crops - Mushrooms</td>\n",
       "      <td>2004</td>\n",
       "      <td>State</td>\n",
       "      <td>Euro Million</td>\n",
       "      <td>114.7</td>\n",
       "      <td>1.244143</td>\n",
       "      <td>142.703202</td>\n",
       "    </tr>\n",
       "    <tr>\n",
       "      <th>527</th>\n",
       "      <td>Crops - Mushrooms</td>\n",
       "      <td>2005</td>\n",
       "      <td>State</td>\n",
       "      <td>Euro Million</td>\n",
       "      <td>110.0</td>\n",
       "      <td>1.246376</td>\n",
       "      <td>137.101360</td>\n",
       "    </tr>\n",
       "    <tr>\n",
       "      <th>528</th>\n",
       "      <td>Crops - Mushrooms</td>\n",
       "      <td>2006</td>\n",
       "      <td>State</td>\n",
       "      <td>Euro Million</td>\n",
       "      <td>99.9</td>\n",
       "      <td>1.256316</td>\n",
       "      <td>125.505968</td>\n",
       "    </tr>\n",
       "    <tr>\n",
       "      <th>529</th>\n",
       "      <td>Crops - Mushrooms</td>\n",
       "      <td>2007</td>\n",
       "      <td>State</td>\n",
       "      <td>Euro Million</td>\n",
       "      <td>99.6</td>\n",
       "      <td>1.370412</td>\n",
       "      <td>136.493035</td>\n",
       "    </tr>\n",
       "    <tr>\n",
       "      <th>530</th>\n",
       "      <td>Crops - Mushrooms</td>\n",
       "      <td>2008</td>\n",
       "      <td>State</td>\n",
       "      <td>Euro Million</td>\n",
       "      <td>102.8</td>\n",
       "      <td>1.471366</td>\n",
       "      <td>151.256425</td>\n",
       "    </tr>\n",
       "    <tr>\n",
       "      <th>531</th>\n",
       "      <td>Crops - Mushrooms</td>\n",
       "      <td>2009</td>\n",
       "      <td>State</td>\n",
       "      <td>Euro Million</td>\n",
       "      <td>98.8</td>\n",
       "      <td>1.394480</td>\n",
       "      <td>137.774624</td>\n",
       "    </tr>\n",
       "    <tr>\n",
       "      <th>532</th>\n",
       "      <td>Crops - Mushrooms</td>\n",
       "      <td>2010</td>\n",
       "      <td>State</td>\n",
       "      <td>Euro Million</td>\n",
       "      <td>98.5</td>\n",
       "      <td>1.327386</td>\n",
       "      <td>130.747521</td>\n",
       "    </tr>\n",
       "    <tr>\n",
       "      <th>533</th>\n",
       "      <td>Crops - Mushrooms</td>\n",
       "      <td>2011</td>\n",
       "      <td>State</td>\n",
       "      <td>Euro Million</td>\n",
       "      <td>100.2</td>\n",
       "      <td>1.392705</td>\n",
       "      <td>139.549041</td>\n",
       "    </tr>\n",
       "    <tr>\n",
       "      <th>534</th>\n",
       "      <td>Crops - Mushrooms</td>\n",
       "      <td>2012</td>\n",
       "      <td>State</td>\n",
       "      <td>Euro Million</td>\n",
       "      <td>111.9</td>\n",
       "      <td>1.285697</td>\n",
       "      <td>143.869494</td>\n",
       "    </tr>\n",
       "    <tr>\n",
       "      <th>535</th>\n",
       "      <td>Crops - Mushrooms</td>\n",
       "      <td>2013</td>\n",
       "      <td>State</td>\n",
       "      <td>Euro Million</td>\n",
       "      <td>121.5</td>\n",
       "      <td>1.328464</td>\n",
       "      <td>161.408376</td>\n",
       "    </tr>\n",
       "    <tr>\n",
       "      <th>536</th>\n",
       "      <td>Crops - Mushrooms</td>\n",
       "      <td>2014</td>\n",
       "      <td>State</td>\n",
       "      <td>Euro Million</td>\n",
       "      <td>133.2</td>\n",
       "      <td>1.329165</td>\n",
       "      <td>177.044778</td>\n",
       "    </tr>\n",
       "    <tr>\n",
       "      <th>537</th>\n",
       "      <td>Crops - Mushrooms</td>\n",
       "      <td>2015</td>\n",
       "      <td>State</td>\n",
       "      <td>Euro Million</td>\n",
       "      <td>137.0</td>\n",
       "      <td>1.109729</td>\n",
       "      <td>152.032873</td>\n",
       "    </tr>\n",
       "    <tr>\n",
       "      <th>538</th>\n",
       "      <td>Crops - Mushrooms</td>\n",
       "      <td>2016</td>\n",
       "      <td>State</td>\n",
       "      <td>Euro Million</td>\n",
       "      <td>121.7</td>\n",
       "      <td>1.106560</td>\n",
       "      <td>134.668352</td>\n",
       "    </tr>\n",
       "    <tr>\n",
       "      <th>539</th>\n",
       "      <td>Crops - Mushrooms</td>\n",
       "      <td>2017</td>\n",
       "      <td>State</td>\n",
       "      <td>Euro Million</td>\n",
       "      <td>118.2</td>\n",
       "      <td>1.130051</td>\n",
       "      <td>133.572028</td>\n",
       "    </tr>\n",
       "    <tr>\n",
       "      <th>540</th>\n",
       "      <td>Crops - Mushrooms</td>\n",
       "      <td>2018</td>\n",
       "      <td>State</td>\n",
       "      <td>Euro Million</td>\n",
       "      <td>117.1</td>\n",
       "      <td>1.181011</td>\n",
       "      <td>138.296388</td>\n",
       "    </tr>\n",
       "    <tr>\n",
       "      <th>541</th>\n",
       "      <td>Crops - Mushrooms</td>\n",
       "      <td>2019</td>\n",
       "      <td>State</td>\n",
       "      <td>Euro Million</td>\n",
       "      <td>119.2</td>\n",
       "      <td>1.120129</td>\n",
       "      <td>133.519377</td>\n",
       "    </tr>\n",
       "    <tr>\n",
       "      <th>542</th>\n",
       "      <td>Crops - Mushrooms</td>\n",
       "      <td>2020</td>\n",
       "      <td>State</td>\n",
       "      <td>Euro Million</td>\n",
       "      <td>123.8</td>\n",
       "      <td>1.142203</td>\n",
       "      <td>141.404731</td>\n",
       "    </tr>\n",
       "  </tbody>\n",
       "</table>\n",
       "</div>"
      ],
      "text/plain": [
       "             Statistic  Year  State          UNIT   EUR$      Rate         US$\n",
       "512  Crops - Mushrooms  1990  State  Euro Million   57.1  1.066116   60.875224\n",
       "513  Crops - Mushrooms  1991  State  Euro Million   63.5  1.066116   67.698366\n",
       "514  Crops - Mushrooms  1992  State  Euro Million   64.8  1.066116   69.084317\n",
       "515  Crops - Mushrooms  1993  State  Euro Million   68.1  1.066116   72.602500\n",
       "516  Crops - Mushrooms  1994  State  Euro Million   76.3  1.066116   81.344651\n",
       "517  Crops - Mushrooms  1995  State  Euro Million   78.0  1.066116   83.157048\n",
       "518  Crops - Mushrooms  1996  State  Euro Million   92.3  1.066116   98.402507\n",
       "519  Crops - Mushrooms  1997  State  Euro Million  101.9  1.066116  108.637220\n",
       "520  Crops - Mushrooms  1998  State  Euro Million  106.7  1.066116  113.754577\n",
       "521  Crops - Mushrooms  1999  State  Euro Million  111.4  1.066116  118.765322\n",
       "522  Crops - Mushrooms  2000  State  Euro Million  114.8  0.923498  106.017570\n",
       "523  Crops - Mushrooms  2001  State  Euro Million  115.6  0.895969  103.574016\n",
       "524  Crops - Mushrooms  2002  State  Euro Million  137.7  0.942468  129.777844\n",
       "525  Crops - Mushrooms  2003  State  Euro Million  124.5  1.134134  141.199683\n",
       "526  Crops - Mushrooms  2004  State  Euro Million  114.7  1.244143  142.703202\n",
       "527  Crops - Mushrooms  2005  State  Euro Million  110.0  1.246376  137.101360\n",
       "528  Crops - Mushrooms  2006  State  Euro Million   99.9  1.256316  125.505968\n",
       "529  Crops - Mushrooms  2007  State  Euro Million   99.6  1.370412  136.493035\n",
       "530  Crops - Mushrooms  2008  State  Euro Million  102.8  1.471366  151.256425\n",
       "531  Crops - Mushrooms  2009  State  Euro Million   98.8  1.394480  137.774624\n",
       "532  Crops - Mushrooms  2010  State  Euro Million   98.5  1.327386  130.747521\n",
       "533  Crops - Mushrooms  2011  State  Euro Million  100.2  1.392705  139.549041\n",
       "534  Crops - Mushrooms  2012  State  Euro Million  111.9  1.285697  143.869494\n",
       "535  Crops - Mushrooms  2013  State  Euro Million  121.5  1.328464  161.408376\n",
       "536  Crops - Mushrooms  2014  State  Euro Million  133.2  1.329165  177.044778\n",
       "537  Crops - Mushrooms  2015  State  Euro Million  137.0  1.109729  152.032873\n",
       "538  Crops - Mushrooms  2016  State  Euro Million  121.7  1.106560  134.668352\n",
       "539  Crops - Mushrooms  2017  State  Euro Million  118.2  1.130051  133.572028\n",
       "540  Crops - Mushrooms  2018  State  Euro Million  117.1  1.181011  138.296388\n",
       "541  Crops - Mushrooms  2019  State  Euro Million  119.2  1.120129  133.519377\n",
       "542  Crops - Mushrooms  2020  State  Euro Million  123.8  1.142203  141.404731"
      ]
     },
     "execution_count": 925,
     "metadata": {},
     "output_type": "execute_result"
    }
   ],
   "source": [
    "mushroom_value= mushroom_value.rename(columns = {\"VALUE\":\"EUR$\"})\n",
    "\n",
    "mushroom_value"
   ]
  },
  {
   "cell_type": "markdown",
   "metadata": {},
   "source": [
    "Ploting the value in euros and dollar"
   ]
  },
  {
   "cell_type": "code",
   "execution_count": 926,
   "metadata": {},
   "outputs": [
    {
     "data": {
      "image/png": "[encoded data removed]",
      "text/plain": [
       "<Figure size 2000x1200 with 1 Axes>"
      ]
     },
     "metadata": {
      "needs_background": "light"
     },
     "output_type": "display_data"
    },
    {
     "data": {
      "image/png": "[encoded data removed]",
      "text/plain": [
       "<Figure size 2000x1200 with 1 Axes>"
      ]
     },
     "metadata": {
      "needs_background": "light"
     },
     "output_type": "display_data"
    }
   ],
   "source": [
    "#Revenue in Euros\n",
    "plt.figure(figsize=(10, 6), dpi=200)\n",
    "plt.plot(mushroom_value[\"Year\"],mushroom_value[\"EUR$\"])\n",
    "plt.xticks(np.arange(min(mushroom_value['Year']), max(mushroom_value['Year'])+1, 2.0))\n",
    "for year in range (1990,2020):\n",
    "\n",
    "    plt.vlines(ls=\"--\",x=year, ymax=mushroom_value[mushroom_value['Year'] ==  year][\"EUR$\"].tolist()[0], ymin=0)\n",
    "\n",
    "plt.show()    \n",
    "\n",
    "\n",
    "#Revenue in US Dollars\n",
    "#We don't have a deep decrease in revenue because the euro x dollar ratio increased\n",
    "plt.figure(figsize=(10, 6), dpi=200)\n",
    "plt.plot(mushroom_value[\"Year\"],mushroom_value[\"US$\"])\n",
    "plt.xticks(np.arange(min(mushroom_value['Year']), max(mushroom_value['Year'])+1, 2.0))\n",
    "for year in range (1990,2020):\n",
    "\n",
    "    plt.vlines(ls=\"--\",x=year, ymax=mushroom_value[mushroom_value['Year'] ==  year][\"US$\"].tolist()[0], ymin=0)        \n",
    "        \n",
    "\n",
    "\n",
    "plt.show()"
   ]
  },
  {
   "cell_type": "code",
   "execution_count": 927,
   "metadata": {},
   "outputs": [
    {
     "data": {
      "text/plain": [
       "129.77784359999998"
      ]
     },
     "execution_count": 927,
     "metadata": {},
     "output_type": "execute_result"
    }
   ],
   "source": [
    "mushroom_value[mushroom_value['Year'] ==  2002][\"US$\"].tolist()[0]"
   ]
  },
  {
   "cell_type": "code",
   "execution_count": 928,
   "metadata": {},
   "outputs": [
    {
     "data": {
      "text/plain": [
       "array(['Crops - Mushrooms'], dtype=object)"
      ]
     },
     "execution_count": 928,
     "metadata": {},
     "output_type": "execute_result"
    }
   ],
   "source": [
    "# list all the different statistics in this dataset\n",
    "mushroom_value.Statistic.unique()"
   ]
  },
  {
   "cell_type": "markdown",
   "metadata": {},
   "source": [
    "Checking mushroom statistics"
   ]
  },
  {
   "cell_type": "code",
   "execution_count": 929,
   "metadata": {},
   "outputs": [
    {
     "data": {
      "text/html": [
       "<div>\n",
       "<style scoped>\n",
       "    .dataframe tbody tr th:only-of-type {\n",
       "        vertical-align: middle;\n",
       "    }\n",
       "\n",
       "    .dataframe tbody tr th {\n",
       "        vertical-align: top;\n",
       "    }\n",
       "\n",
       "    .dataframe thead th {\n",
       "        text-align: right;\n",
       "    }\n",
       "</style>\n",
       "<table border=\"1\" class=\"dataframe\">\n",
       "  <thead>\n",
       "    <tr style=\"text-align: right;\">\n",
       "      <th></th>\n",
       "      <th>Statistic</th>\n",
       "      <th>Year</th>\n",
       "      <th>State</th>\n",
       "      <th>UNIT</th>\n",
       "      <th>EUR$</th>\n",
       "      <th>Rate</th>\n",
       "      <th>US$</th>\n",
       "    </tr>\n",
       "  </thead>\n",
       "  <tbody>\n",
       "    <tr>\n",
       "      <th>512</th>\n",
       "      <td>Crops - Mushrooms</td>\n",
       "      <td>1990</td>\n",
       "      <td>State</td>\n",
       "      <td>Euro Million</td>\n",
       "      <td>57.1</td>\n",
       "      <td>1.066116</td>\n",
       "      <td>60.875224</td>\n",
       "    </tr>\n",
       "    <tr>\n",
       "      <th>513</th>\n",
       "      <td>Crops - Mushrooms</td>\n",
       "      <td>1991</td>\n",
       "      <td>State</td>\n",
       "      <td>Euro Million</td>\n",
       "      <td>63.5</td>\n",
       "      <td>1.066116</td>\n",
       "      <td>67.698366</td>\n",
       "    </tr>\n",
       "    <tr>\n",
       "      <th>514</th>\n",
       "      <td>Crops - Mushrooms</td>\n",
       "      <td>1992</td>\n",
       "      <td>State</td>\n",
       "      <td>Euro Million</td>\n",
       "      <td>64.8</td>\n",
       "      <td>1.066116</td>\n",
       "      <td>69.084317</td>\n",
       "    </tr>\n",
       "    <tr>\n",
       "      <th>515</th>\n",
       "      <td>Crops - Mushrooms</td>\n",
       "      <td>1993</td>\n",
       "      <td>State</td>\n",
       "      <td>Euro Million</td>\n",
       "      <td>68.1</td>\n",
       "      <td>1.066116</td>\n",
       "      <td>72.602500</td>\n",
       "    </tr>\n",
       "    <tr>\n",
       "      <th>516</th>\n",
       "      <td>Crops - Mushrooms</td>\n",
       "      <td>1994</td>\n",
       "      <td>State</td>\n",
       "      <td>Euro Million</td>\n",
       "      <td>76.3</td>\n",
       "      <td>1.066116</td>\n",
       "      <td>81.344651</td>\n",
       "    </tr>\n",
       "  </tbody>\n",
       "</table>\n",
       "</div>"
      ],
      "text/plain": [
       "             Statistic  Year  State          UNIT  EUR$      Rate        US$\n",
       "512  Crops - Mushrooms  1990  State  Euro Million  57.1  1.066116  60.875224\n",
       "513  Crops - Mushrooms  1991  State  Euro Million  63.5  1.066116  67.698366\n",
       "514  Crops - Mushrooms  1992  State  Euro Million  64.8  1.066116  69.084317\n",
       "515  Crops - Mushrooms  1993  State  Euro Million  68.1  1.066116  72.602500\n",
       "516  Crops - Mushrooms  1994  State  Euro Million  76.3  1.066116  81.344651"
      ]
     },
     "metadata": {},
     "output_type": "display_data"
    },
    {
     "data": {
      "text/plain": [
       "Statistic    0\n",
       "Year         0\n",
       "State        0\n",
       "UNIT         0\n",
       "EUR$         0\n",
       "Rate         0\n",
       "US$          0\n",
       "dtype: int64"
      ]
     },
     "metadata": {},
     "output_type": "display_data"
    },
    {
     "data": {
      "text/html": [
       "<div>\n",
       "<style scoped>\n",
       "    .dataframe tbody tr th:only-of-type {\n",
       "        vertical-align: middle;\n",
       "    }\n",
       "\n",
       "    .dataframe tbody tr th {\n",
       "        vertical-align: top;\n",
       "    }\n",
       "\n",
       "    .dataframe thead th {\n",
       "        text-align: right;\n",
       "    }\n",
       "</style>\n",
       "<table border=\"1\" class=\"dataframe\">\n",
       "  <thead>\n",
       "    <tr style=\"text-align: right;\">\n",
       "      <th></th>\n",
       "      <th>Year</th>\n",
       "      <th>EUR$</th>\n",
       "      <th>Rate</th>\n",
       "      <th>US$</th>\n",
       "    </tr>\n",
       "  </thead>\n",
       "  <tbody>\n",
       "    <tr>\n",
       "      <th>count</th>\n",
       "      <td>31.000000</td>\n",
       "      <td>31.000000</td>\n",
       "      <td>31.000000</td>\n",
       "      <td>31.000000</td>\n",
       "    </tr>\n",
       "    <tr>\n",
       "      <th>mean</th>\n",
       "      <td>2005.000000</td>\n",
       "      <td>104.541935</td>\n",
       "      <td>1.161078</td>\n",
       "      <td>121.672207</td>\n",
       "    </tr>\n",
       "    <tr>\n",
       "      <th>std</th>\n",
       "      <td>9.092121</td>\n",
       "      <td>21.594548</td>\n",
       "      <td>0.146669</td>\n",
       "      <td>29.620943</td>\n",
       "    </tr>\n",
       "    <tr>\n",
       "      <th>min</th>\n",
       "      <td>1990.000000</td>\n",
       "      <td>57.100000</td>\n",
       "      <td>0.895969</td>\n",
       "      <td>60.875224</td>\n",
       "    </tr>\n",
       "    <tr>\n",
       "      <th>25%</th>\n",
       "      <td>1997.500000</td>\n",
       "      <td>98.650000</td>\n",
       "      <td>1.066116</td>\n",
       "      <td>104.795793</td>\n",
       "    </tr>\n",
       "    <tr>\n",
       "      <th>50%</th>\n",
       "      <td>2005.000000</td>\n",
       "      <td>110.000000</td>\n",
       "      <td>1.120129</td>\n",
       "      <td>133.519377</td>\n",
       "    </tr>\n",
       "    <tr>\n",
       "      <th>75%</th>\n",
       "      <td>2012.500000</td>\n",
       "      <td>118.700000</td>\n",
       "      <td>1.271006</td>\n",
       "      <td>140.374362</td>\n",
       "    </tr>\n",
       "    <tr>\n",
       "      <th>max</th>\n",
       "      <td>2020.000000</td>\n",
       "      <td>137.700000</td>\n",
       "      <td>1.471366</td>\n",
       "      <td>177.044778</td>\n",
       "    </tr>\n",
       "  </tbody>\n",
       "</table>\n",
       "</div>"
      ],
      "text/plain": [
       "              Year        EUR$       Rate         US$\n",
       "count    31.000000   31.000000  31.000000   31.000000\n",
       "mean   2005.000000  104.541935   1.161078  121.672207\n",
       "std       9.092121   21.594548   0.146669   29.620943\n",
       "min    1990.000000   57.100000   0.895969   60.875224\n",
       "25%    1997.500000   98.650000   1.066116  104.795793\n",
       "50%    2005.000000  110.000000   1.120129  133.519377\n",
       "75%    2012.500000  118.700000   1.271006  140.374362\n",
       "max    2020.000000  137.700000   1.471366  177.044778"
      ]
     },
     "metadata": {},
     "output_type": "display_data"
    },
    {
     "data": {
      "text/plain": [
       "Statistic    31\n",
       "Year         31\n",
       "State        31\n",
       "UNIT         31\n",
       "EUR$         31\n",
       "Rate         31\n",
       "US$          31\n",
       "dtype: int64"
      ]
     },
     "metadata": {},
     "output_type": "display_data"
    }
   ],
   "source": [
    "display(mushroom_value.head())\n",
    "display(mushroom_value.isna().sum())\n",
    "display(mushroom_value.describe())\n",
    "display(mushroom_value.count())"
   ]
  },
  {
   "cell_type": "code",
   "execution_count": 930,
   "metadata": {},
   "outputs": [
    {
     "data": {
      "text/html": [
       "<div>\n",
       "<style scoped>\n",
       "    .dataframe tbody tr th:only-of-type {\n",
       "        vertical-align: middle;\n",
       "    }\n",
       "\n",
       "    .dataframe tbody tr th {\n",
       "        vertical-align: top;\n",
       "    }\n",
       "\n",
       "    .dataframe thead th {\n",
       "        text-align: right;\n",
       "    }\n",
       "</style>\n",
       "<table border=\"1\" class=\"dataframe\">\n",
       "  <thead>\n",
       "    <tr style=\"text-align: right;\">\n",
       "      <th></th>\n",
       "      <th>Statistic</th>\n",
       "      <th>Year</th>\n",
       "      <th>State</th>\n",
       "      <th>UNIT</th>\n",
       "      <th>EUR$</th>\n",
       "      <th>Rate</th>\n",
       "      <th>US$</th>\n",
       "    </tr>\n",
       "  </thead>\n",
       "  <tbody>\n",
       "    <tr>\n",
       "      <th>512</th>\n",
       "      <td>Crops - Mushrooms</td>\n",
       "      <td>1990</td>\n",
       "      <td>State</td>\n",
       "      <td>Euro Million</td>\n",
       "      <td>57.1</td>\n",
       "      <td>1.066116</td>\n",
       "      <td>60.875224</td>\n",
       "    </tr>\n",
       "    <tr>\n",
       "      <th>513</th>\n",
       "      <td>Crops - Mushrooms</td>\n",
       "      <td>1991</td>\n",
       "      <td>State</td>\n",
       "      <td>Euro Million</td>\n",
       "      <td>63.5</td>\n",
       "      <td>1.066116</td>\n",
       "      <td>67.698366</td>\n",
       "    </tr>\n",
       "    <tr>\n",
       "      <th>514</th>\n",
       "      <td>Crops - Mushrooms</td>\n",
       "      <td>1992</td>\n",
       "      <td>State</td>\n",
       "      <td>Euro Million</td>\n",
       "      <td>64.8</td>\n",
       "      <td>1.066116</td>\n",
       "      <td>69.084317</td>\n",
       "    </tr>\n",
       "    <tr>\n",
       "      <th>515</th>\n",
       "      <td>Crops - Mushrooms</td>\n",
       "      <td>1993</td>\n",
       "      <td>State</td>\n",
       "      <td>Euro Million</td>\n",
       "      <td>68.1</td>\n",
       "      <td>1.066116</td>\n",
       "      <td>72.602500</td>\n",
       "    </tr>\n",
       "    <tr>\n",
       "      <th>516</th>\n",
       "      <td>Crops - Mushrooms</td>\n",
       "      <td>1994</td>\n",
       "      <td>State</td>\n",
       "      <td>Euro Million</td>\n",
       "      <td>76.3</td>\n",
       "      <td>1.066116</td>\n",
       "      <td>81.344651</td>\n",
       "    </tr>\n",
       "    <tr>\n",
       "      <th>517</th>\n",
       "      <td>Crops - Mushrooms</td>\n",
       "      <td>1995</td>\n",
       "      <td>State</td>\n",
       "      <td>Euro Million</td>\n",
       "      <td>78.0</td>\n",
       "      <td>1.066116</td>\n",
       "      <td>83.157048</td>\n",
       "    </tr>\n",
       "    <tr>\n",
       "      <th>518</th>\n",
       "      <td>Crops - Mushrooms</td>\n",
       "      <td>1996</td>\n",
       "      <td>State</td>\n",
       "      <td>Euro Million</td>\n",
       "      <td>92.3</td>\n",
       "      <td>1.066116</td>\n",
       "      <td>98.402507</td>\n",
       "    </tr>\n",
       "    <tr>\n",
       "      <th>519</th>\n",
       "      <td>Crops - Mushrooms</td>\n",
       "      <td>1997</td>\n",
       "      <td>State</td>\n",
       "      <td>Euro Million</td>\n",
       "      <td>101.9</td>\n",
       "      <td>1.066116</td>\n",
       "      <td>108.637220</td>\n",
       "    </tr>\n",
       "    <tr>\n",
       "      <th>520</th>\n",
       "      <td>Crops - Mushrooms</td>\n",
       "      <td>1998</td>\n",
       "      <td>State</td>\n",
       "      <td>Euro Million</td>\n",
       "      <td>106.7</td>\n",
       "      <td>1.066116</td>\n",
       "      <td>113.754577</td>\n",
       "    </tr>\n",
       "    <tr>\n",
       "      <th>521</th>\n",
       "      <td>Crops - Mushrooms</td>\n",
       "      <td>1999</td>\n",
       "      <td>State</td>\n",
       "      <td>Euro Million</td>\n",
       "      <td>111.4</td>\n",
       "      <td>1.066116</td>\n",
       "      <td>118.765322</td>\n",
       "    </tr>\n",
       "    <tr>\n",
       "      <th>522</th>\n",
       "      <td>Crops - Mushrooms</td>\n",
       "      <td>2000</td>\n",
       "      <td>State</td>\n",
       "      <td>Euro Million</td>\n",
       "      <td>114.8</td>\n",
       "      <td>0.923498</td>\n",
       "      <td>106.017570</td>\n",
       "    </tr>\n",
       "    <tr>\n",
       "      <th>523</th>\n",
       "      <td>Crops - Mushrooms</td>\n",
       "      <td>2001</td>\n",
       "      <td>State</td>\n",
       "      <td>Euro Million</td>\n",
       "      <td>115.6</td>\n",
       "      <td>0.895969</td>\n",
       "      <td>103.574016</td>\n",
       "    </tr>\n",
       "    <tr>\n",
       "      <th>524</th>\n",
       "      <td>Crops - Mushrooms</td>\n",
       "      <td>2002</td>\n",
       "      <td>State</td>\n",
       "      <td>Euro Million</td>\n",
       "      <td>137.7</td>\n",
       "      <td>0.942468</td>\n",
       "      <td>129.777844</td>\n",
       "    </tr>\n",
       "    <tr>\n",
       "      <th>525</th>\n",
       "      <td>Crops - Mushrooms</td>\n",
       "      <td>2003</td>\n",
       "      <td>State</td>\n",
       "      <td>Euro Million</td>\n",
       "      <td>124.5</td>\n",
       "      <td>1.134134</td>\n",
       "      <td>141.199683</td>\n",
       "    </tr>\n",
       "    <tr>\n",
       "      <th>526</th>\n",
       "      <td>Crops - Mushrooms</td>\n",
       "      <td>2004</td>\n",
       "      <td>State</td>\n",
       "      <td>Euro Million</td>\n",
       "      <td>114.7</td>\n",
       "      <td>1.244143</td>\n",
       "      <td>142.703202</td>\n",
       "    </tr>\n",
       "    <tr>\n",
       "      <th>527</th>\n",
       "      <td>Crops - Mushrooms</td>\n",
       "      <td>2005</td>\n",
       "      <td>State</td>\n",
       "      <td>Euro Million</td>\n",
       "      <td>110.0</td>\n",
       "      <td>1.246376</td>\n",
       "      <td>137.101360</td>\n",
       "    </tr>\n",
       "    <tr>\n",
       "      <th>528</th>\n",
       "      <td>Crops - Mushrooms</td>\n",
       "      <td>2006</td>\n",
       "      <td>State</td>\n",
       "      <td>Euro Million</td>\n",
       "      <td>99.9</td>\n",
       "      <td>1.256316</td>\n",
       "      <td>125.505968</td>\n",
       "    </tr>\n",
       "    <tr>\n",
       "      <th>529</th>\n",
       "      <td>Crops - Mushrooms</td>\n",
       "      <td>2007</td>\n",
       "      <td>State</td>\n",
       "      <td>Euro Million</td>\n",
       "      <td>99.6</td>\n",
       "      <td>1.370412</td>\n",
       "      <td>136.493035</td>\n",
       "    </tr>\n",
       "    <tr>\n",
       "      <th>530</th>\n",
       "      <td>Crops - Mushrooms</td>\n",
       "      <td>2008</td>\n",
       "      <td>State</td>\n",
       "      <td>Euro Million</td>\n",
       "      <td>102.8</td>\n",
       "      <td>1.471366</td>\n",
       "      <td>151.256425</td>\n",
       "    </tr>\n",
       "    <tr>\n",
       "      <th>531</th>\n",
       "      <td>Crops - Mushrooms</td>\n",
       "      <td>2009</td>\n",
       "      <td>State</td>\n",
       "      <td>Euro Million</td>\n",
       "      <td>98.8</td>\n",
       "      <td>1.394480</td>\n",
       "      <td>137.774624</td>\n",
       "    </tr>\n",
       "    <tr>\n",
       "      <th>532</th>\n",
       "      <td>Crops - Mushrooms</td>\n",
       "      <td>2010</td>\n",
       "      <td>State</td>\n",
       "      <td>Euro Million</td>\n",
       "      <td>98.5</td>\n",
       "      <td>1.327386</td>\n",
       "      <td>130.747521</td>\n",
       "    </tr>\n",
       "    <tr>\n",
       "      <th>533</th>\n",
       "      <td>Crops - Mushrooms</td>\n",
       "      <td>2011</td>\n",
       "      <td>State</td>\n",
       "      <td>Euro Million</td>\n",
       "      <td>100.2</td>\n",
       "      <td>1.392705</td>\n",
       "      <td>139.549041</td>\n",
       "    </tr>\n",
       "    <tr>\n",
       "      <th>534</th>\n",
       "      <td>Crops - Mushrooms</td>\n",
       "      <td>2012</td>\n",
       "      <td>State</td>\n",
       "      <td>Euro Million</td>\n",
       "      <td>111.9</td>\n",
       "      <td>1.285697</td>\n",
       "      <td>143.869494</td>\n",
       "    </tr>\n",
       "    <tr>\n",
       "      <th>535</th>\n",
       "      <td>Crops - Mushrooms</td>\n",
       "      <td>2013</td>\n",
       "      <td>State</td>\n",
       "      <td>Euro Million</td>\n",
       "      <td>121.5</td>\n",
       "      <td>1.328464</td>\n",
       "      <td>161.408376</td>\n",
       "    </tr>\n",
       "    <tr>\n",
       "      <th>536</th>\n",
       "      <td>Crops - Mushrooms</td>\n",
       "      <td>2014</td>\n",
       "      <td>State</td>\n",
       "      <td>Euro Million</td>\n",
       "      <td>133.2</td>\n",
       "      <td>1.329165</td>\n",
       "      <td>177.044778</td>\n",
       "    </tr>\n",
       "    <tr>\n",
       "      <th>537</th>\n",
       "      <td>Crops - Mushrooms</td>\n",
       "      <td>2015</td>\n",
       "      <td>State</td>\n",
       "      <td>Euro Million</td>\n",
       "      <td>137.0</td>\n",
       "      <td>1.109729</td>\n",
       "      <td>152.032873</td>\n",
       "    </tr>\n",
       "    <tr>\n",
       "      <th>538</th>\n",
       "      <td>Crops - Mushrooms</td>\n",
       "      <td>2016</td>\n",
       "      <td>State</td>\n",
       "      <td>Euro Million</td>\n",
       "      <td>121.7</td>\n",
       "      <td>1.106560</td>\n",
       "      <td>134.668352</td>\n",
       "    </tr>\n",
       "    <tr>\n",
       "      <th>539</th>\n",
       "      <td>Crops - Mushrooms</td>\n",
       "      <td>2017</td>\n",
       "      <td>State</td>\n",
       "      <td>Euro Million</td>\n",
       "      <td>118.2</td>\n",
       "      <td>1.130051</td>\n",
       "      <td>133.572028</td>\n",
       "    </tr>\n",
       "    <tr>\n",
       "      <th>540</th>\n",
       "      <td>Crops - Mushrooms</td>\n",
       "      <td>2018</td>\n",
       "      <td>State</td>\n",
       "      <td>Euro Million</td>\n",
       "      <td>117.1</td>\n",
       "      <td>1.181011</td>\n",
       "      <td>138.296388</td>\n",
       "    </tr>\n",
       "    <tr>\n",
       "      <th>541</th>\n",
       "      <td>Crops - Mushrooms</td>\n",
       "      <td>2019</td>\n",
       "      <td>State</td>\n",
       "      <td>Euro Million</td>\n",
       "      <td>119.2</td>\n",
       "      <td>1.120129</td>\n",
       "      <td>133.519377</td>\n",
       "    </tr>\n",
       "    <tr>\n",
       "      <th>542</th>\n",
       "      <td>Crops - Mushrooms</td>\n",
       "      <td>2020</td>\n",
       "      <td>State</td>\n",
       "      <td>Euro Million</td>\n",
       "      <td>123.8</td>\n",
       "      <td>1.142203</td>\n",
       "      <td>141.404731</td>\n",
       "    </tr>\n",
       "  </tbody>\n",
       "</table>\n",
       "</div>"
      ],
      "text/plain": [
       "             Statistic  Year  State          UNIT   EUR$      Rate         US$\n",
       "512  Crops - Mushrooms  1990  State  Euro Million   57.1  1.066116   60.875224\n",
       "513  Crops - Mushrooms  1991  State  Euro Million   63.5  1.066116   67.698366\n",
       "514  Crops - Mushrooms  1992  State  Euro Million   64.8  1.066116   69.084317\n",
       "515  Crops - Mushrooms  1993  State  Euro Million   68.1  1.066116   72.602500\n",
       "516  Crops - Mushrooms  1994  State  Euro Million   76.3  1.066116   81.344651\n",
       "517  Crops - Mushrooms  1995  State  Euro Million   78.0  1.066116   83.157048\n",
       "518  Crops - Mushrooms  1996  State  Euro Million   92.3  1.066116   98.402507\n",
       "519  Crops - Mushrooms  1997  State  Euro Million  101.9  1.066116  108.637220\n",
       "520  Crops - Mushrooms  1998  State  Euro Million  106.7  1.066116  113.754577\n",
       "521  Crops - Mushrooms  1999  State  Euro Million  111.4  1.066116  118.765322\n",
       "522  Crops - Mushrooms  2000  State  Euro Million  114.8  0.923498  106.017570\n",
       "523  Crops - Mushrooms  2001  State  Euro Million  115.6  0.895969  103.574016\n",
       "524  Crops - Mushrooms  2002  State  Euro Million  137.7  0.942468  129.777844\n",
       "525  Crops - Mushrooms  2003  State  Euro Million  124.5  1.134134  141.199683\n",
       "526  Crops - Mushrooms  2004  State  Euro Million  114.7  1.244143  142.703202\n",
       "527  Crops - Mushrooms  2005  State  Euro Million  110.0  1.246376  137.101360\n",
       "528  Crops - Mushrooms  2006  State  Euro Million   99.9  1.256316  125.505968\n",
       "529  Crops - Mushrooms  2007  State  Euro Million   99.6  1.370412  136.493035\n",
       "530  Crops - Mushrooms  2008  State  Euro Million  102.8  1.471366  151.256425\n",
       "531  Crops - Mushrooms  2009  State  Euro Million   98.8  1.394480  137.774624\n",
       "532  Crops - Mushrooms  2010  State  Euro Million   98.5  1.327386  130.747521\n",
       "533  Crops - Mushrooms  2011  State  Euro Million  100.2  1.392705  139.549041\n",
       "534  Crops - Mushrooms  2012  State  Euro Million  111.9  1.285697  143.869494\n",
       "535  Crops - Mushrooms  2013  State  Euro Million  121.5  1.328464  161.408376\n",
       "536  Crops - Mushrooms  2014  State  Euro Million  133.2  1.329165  177.044778\n",
       "537  Crops - Mushrooms  2015  State  Euro Million  137.0  1.109729  152.032873\n",
       "538  Crops - Mushrooms  2016  State  Euro Million  121.7  1.106560  134.668352\n",
       "539  Crops - Mushrooms  2017  State  Euro Million  118.2  1.130051  133.572028\n",
       "540  Crops - Mushrooms  2018  State  Euro Million  117.1  1.181011  138.296388\n",
       "541  Crops - Mushrooms  2019  State  Euro Million  119.2  1.120129  133.519377\n",
       "542  Crops - Mushrooms  2020  State  Euro Million  123.8  1.142203  141.404731"
      ]
     },
     "execution_count": 930,
     "metadata": {},
     "output_type": "execute_result"
    }
   ],
   "source": [
    "mushroom_value"
   ]
  },
  {
   "cell_type": "markdown",
   "metadata": {},
   "source": [
    "Histogram"
   ]
  },
  {
   "cell_type": "code",
   "execution_count": 931,
   "metadata": {},
   "outputs": [
    {
     "data": {
      "image/png": "[encoded data removed]",
      "text/plain": [
       "<Figure size 432x288 with 1 Axes>"
      ]
     },
     "metadata": {
      "needs_background": "light"
     },
     "output_type": "display_data"
    },
    {
     "data": {
      "image/png": "[encoded data removed]",
      "text/plain": [
       "<Figure size 432x288 with 1 Axes>"
      ]
     },
     "metadata": {
      "needs_background": "light"
     },
     "output_type": "display_data"
    }
   ],
   "source": [
    "plt.hist(mushroom_value['EUR$'])\n",
    "plt.xlabel('Year')\n",
    "plt.ylabel('EUR$')\n",
    "plt.show()\n",
    "\n",
    "plt.hist(mushroom_value['US$'])\n",
    "plt.xlabel('Year')\n",
    "plt.ylabel('US$')\n",
    "plt.show()"
   ]
  },
  {
   "cell_type": "markdown",
   "metadata": {},
   "source": [
    "Boxplot"
   ]
  },
  {
   "cell_type": "code",
   "execution_count": 932,
   "metadata": {},
   "outputs": [
    {
     "data": {
      "text/plain": [
       "Text(0.5, 0, '')"
      ]
     },
     "execution_count": 932,
     "metadata": {},
     "output_type": "execute_result"
    },
    {
     "data": {
      "image/png": "[encoded data removed]",
      "text/plain": [
       "<Figure size 432x288 with 1 Axes>"
      ]
     },
     "metadata": {
      "needs_background": "light"
     },
     "output_type": "display_data"
    }
   ],
   "source": [
    "#looking at revenue in a boxplot to note outliers verses normal spread. Significant outliers either side\n",
    "mushroom_value.boxplot('EUR$')\n",
    "plt.title('Boxplot of revenue')\n",
    "plt.xlabel('')\n"
   ]
  },
  {
   "cell_type": "code",
   "execution_count": 933,
   "metadata": {},
   "outputs": [
    {
     "data": {
      "text/plain": [
       "Text(0.5, 0, '')"
      ]
     },
     "execution_count": 933,
     "metadata": {},
     "output_type": "execute_result"
    },
    {
     "data": {
      "image/png": "[encoded data removed]",
      "text/plain": [
       "<Figure size 432x288 with 1 Axes>"
      ]
     },
     "metadata": {
      "needs_background": "light"
     },
     "output_type": "display_data"
    }
   ],
   "source": [
    "mushroom_value.boxplot('US$')\n",
    "plt.title('Boxplot of revenue')\n",
    "plt.xlabel('')"
   ]
  },
  {
   "cell_type": "code",
   "execution_count": 934,
   "metadata": {},
   "outputs": [
    {
     "data": {
      "text/html": [
       "<div>\n",
       "<style scoped>\n",
       "    .dataframe tbody tr th:only-of-type {\n",
       "        vertical-align: middle;\n",
       "    }\n",
       "\n",
       "    .dataframe tbody tr th {\n",
       "        vertical-align: top;\n",
       "    }\n",
       "\n",
       "    .dataframe thead th {\n",
       "        text-align: right;\n",
       "    }\n",
       "</style>\n",
       "<table border=\"1\" class=\"dataframe\">\n",
       "  <thead>\n",
       "    <tr style=\"text-align: right;\">\n",
       "      <th></th>\n",
       "      <th>Year</th>\n",
       "      <th>EUR$</th>\n",
       "      <th>Rate</th>\n",
       "      <th>US$</th>\n",
       "    </tr>\n",
       "  </thead>\n",
       "  <tbody>\n",
       "    <tr>\n",
       "      <th>count</th>\n",
       "      <td>31.000000</td>\n",
       "      <td>31.000000</td>\n",
       "      <td>31.000000</td>\n",
       "      <td>31.000000</td>\n",
       "    </tr>\n",
       "    <tr>\n",
       "      <th>mean</th>\n",
       "      <td>2005.000000</td>\n",
       "      <td>104.541935</td>\n",
       "      <td>1.161078</td>\n",
       "      <td>121.672207</td>\n",
       "    </tr>\n",
       "    <tr>\n",
       "      <th>std</th>\n",
       "      <td>9.092121</td>\n",
       "      <td>21.594548</td>\n",
       "      <td>0.146669</td>\n",
       "      <td>29.620943</td>\n",
       "    </tr>\n",
       "    <tr>\n",
       "      <th>min</th>\n",
       "      <td>1990.000000</td>\n",
       "      <td>57.100000</td>\n",
       "      <td>0.895969</td>\n",
       "      <td>60.875224</td>\n",
       "    </tr>\n",
       "    <tr>\n",
       "      <th>25%</th>\n",
       "      <td>1997.500000</td>\n",
       "      <td>98.650000</td>\n",
       "      <td>1.066116</td>\n",
       "      <td>104.795793</td>\n",
       "    </tr>\n",
       "    <tr>\n",
       "      <th>50%</th>\n",
       "      <td>2005.000000</td>\n",
       "      <td>110.000000</td>\n",
       "      <td>1.120129</td>\n",
       "      <td>133.519377</td>\n",
       "    </tr>\n",
       "    <tr>\n",
       "      <th>75%</th>\n",
       "      <td>2012.500000</td>\n",
       "      <td>118.700000</td>\n",
       "      <td>1.271006</td>\n",
       "      <td>140.374362</td>\n",
       "    </tr>\n",
       "    <tr>\n",
       "      <th>max</th>\n",
       "      <td>2020.000000</td>\n",
       "      <td>137.700000</td>\n",
       "      <td>1.471366</td>\n",
       "      <td>177.044778</td>\n",
       "    </tr>\n",
       "  </tbody>\n",
       "</table>\n",
       "</div>"
      ],
      "text/plain": [
       "              Year        EUR$       Rate         US$\n",
       "count    31.000000   31.000000  31.000000   31.000000\n",
       "mean   2005.000000  104.541935   1.161078  121.672207\n",
       "std       9.092121   21.594548   0.146669   29.620943\n",
       "min    1990.000000   57.100000   0.895969   60.875224\n",
       "25%    1997.500000   98.650000   1.066116  104.795793\n",
       "50%    2005.000000  110.000000   1.120129  133.519377\n",
       "75%    2012.500000  118.700000   1.271006  140.374362\n",
       "max    2020.000000  137.700000   1.471366  177.044778"
      ]
     },
     "execution_count": 934,
     "metadata": {},
     "output_type": "execute_result"
    }
   ],
   "source": [
    "mushroom_value.describe()"
   ]
  },
  {
   "cell_type": "markdown",
   "metadata": {},
   "source": [
    "fixing variables for normal distribution plot"
   ]
  },
  {
   "cell_type": "code",
   "execution_count": 935,
   "metadata": {},
   "outputs": [],
   "source": [
    "mean = stats.mean(mushroom_value[\"EUR$\"])\n",
    "sd = stats.stdev(mushroom_value[\"EUR$\"])\n",
    "revenue = mushroom_value[\"EUR$\"]\n",
    "\n",
    "mean2 = stats.mean(mushroom_value[\"US$\"])\n",
    "sd2 = stats.stdev(mushroom_value[\"US$\"])\n",
    "revenue2 = mushroom_value[\"US$\"]\n"
   ]
  },
  {
   "cell_type": "markdown",
   "metadata": {},
   "source": [
    "Normal distribution"
   ]
  },
  {
   "cell_type": "code",
   "execution_count": 936,
   "metadata": {},
   "outputs": [
    {
     "data": {
      "image/png": "[encoded data removed]",
      "text/plain": [
       "<Figure size 432x288 with 1 Axes>"
      ]
     },
     "metadata": {
      "needs_background": "light"
     },
     "output_type": "display_data"
    },
    {
     "data": {
      "image/png": "[encoded data removed]",
      "text/plain": [
       "<Figure size 432x288 with 1 Axes>"
      ]
     },
     "metadata": {
      "needs_background": "light"
     },
     "output_type": "display_data"
    }
   ],
   "source": [
    "\n",
    "plt.plot(revenue,norm.pdf(revenue,mean,sd))\n",
    "plt.title(\"Normal Distribution - revenue\")\n",
    "plt.xlabel(\"Output\")\n",
    "plt.ylabel(\"Count\")\n",
    "plt.show()\n",
    "\n",
    "plt.plot(revenue2,norm.pdf(revenue2,mean2,sd2))\n",
    "plt.title(\"Normal Distribution - revenue\")\n",
    "plt.xlabel(\"Output\")\n",
    "plt.ylabel(\"Count\")\n",
    "plt.show()"
   ]
  },
  {
   "cell_type": "code",
   "execution_count": 937,
   "metadata": {},
   "outputs": [
    {
     "data": {
      "text/plain": [
       "<matplotlib.collections.PathCollection at 0x1c5d0473850>"
      ]
     },
     "execution_count": 937,
     "metadata": {},
     "output_type": "execute_result"
    },
    {
     "data": {
      "image/png": "[encoded data removed]",
      "text/plain": [
       "<Figure size 432x288 with 1 Axes>"
      ]
     },
     "metadata": {
      "needs_background": "light"
     },
     "output_type": "display_data"
    }
   ],
   "source": [
    "#basic scatter plot to see potential correlation between year and revenue\n",
    "plt.scatter(mushroom_value[\"Year\"],mushroom_value[\"EUR$\"])\n",
    "plt.scatter(mushroom_value[\"Year\"],mushroom_value[\"US$\"])"
   ]
  },
  {
   "cell_type": "markdown",
   "metadata": {},
   "source": [
    "Correlation map displaying high correlation year and currency as well as between currencies (as expected)"
   ]
  },
  {
   "cell_type": "code",
   "execution_count": 938,
   "metadata": {},
   "outputs": [
    {
     "data": {
      "text/plain": [
       "<AxesSubplot:>"
      ]
     },
     "execution_count": 938,
     "metadata": {},
     "output_type": "execute_result"
    },
    {
     "data": {
      "image/png": "[encoded data removed]",
      "text/plain": [
       "<Figure size 1152x1152 with 2 Axes>"
      ]
     },
     "metadata": {
      "needs_background": "light"
     },
     "output_type": "display_data"
    }
   ],
   "source": [
    "#plotting large correlation heatmap to see how variables are linked. \n",
    "#year and currency correlation (0.84) is the highest \n",
    "plt.figure(figsize = (16,16))\n",
    "sns.heatmap(mushroom_value.corr(), annot = True, fmt = '.2f', linewidths = 0.5)"
   ]
  },
  {
   "cell_type": "code",
   "execution_count": 939,
   "metadata": {},
   "outputs": [
    {
     "data": {
      "image/png": "[encoded data removed]",
      "text/plain": [
       "<Figure size 1440x1440 with 4 Axes>"
      ]
     },
     "metadata": {
      "needs_background": "light"
     },
     "output_type": "display_data"
    }
   ],
   "source": [
    "# histograms of each variable \n",
    "fig = plt.figure(figsize = (20,20))             \n",
    "ax = fig.gca()                                \n",
    "mushroom_value.hist(ax = ax)                          \n",
    "plt.show()"
   ]
  },
  {
   "cell_type": "markdown",
   "metadata": {},
   "source": [
    "Removing unnecessary columns and making copy of main df before I try standardize it, just in case"
   ]
  },
  {
   "cell_type": "code",
   "execution_count": 940,
   "metadata": {},
   "outputs": [],
   "source": [
    "\n",
    "mushroom_value.drop(['Statistic'], axis=1, inplace=True)\n",
    "mushroom_value.drop(['State'], axis=1, inplace=True)\n",
    "mushroom_value.drop(['UNIT'], axis=1, inplace=True)\n",
    "\n",
    "mushroom_value_scaled = mushroom_value.copy()"
   ]
  },
  {
   "cell_type": "code",
   "execution_count": 941,
   "metadata": {},
   "outputs": [
    {
     "data": {
      "text/html": [
       "<div>\n",
       "<style scoped>\n",
       "    .dataframe tbody tr th:only-of-type {\n",
       "        vertical-align: middle;\n",
       "    }\n",
       "\n",
       "    .dataframe tbody tr th {\n",
       "        vertical-align: top;\n",
       "    }\n",
       "\n",
       "    .dataframe thead th {\n",
       "        text-align: right;\n",
       "    }\n",
       "</style>\n",
       "<table border=\"1\" class=\"dataframe\">\n",
       "  <thead>\n",
       "    <tr style=\"text-align: right;\">\n",
       "      <th></th>\n",
       "      <th>Year</th>\n",
       "      <th>EUR$</th>\n",
       "      <th>Rate</th>\n",
       "      <th>US$</th>\n",
       "    </tr>\n",
       "  </thead>\n",
       "  <tbody>\n",
       "    <tr>\n",
       "      <th>512</th>\n",
       "      <td>1990</td>\n",
       "      <td>57.1</td>\n",
       "      <td>1.066116</td>\n",
       "      <td>60.875224</td>\n",
       "    </tr>\n",
       "    <tr>\n",
       "      <th>513</th>\n",
       "      <td>1991</td>\n",
       "      <td>63.5</td>\n",
       "      <td>1.066116</td>\n",
       "      <td>67.698366</td>\n",
       "    </tr>\n",
       "    <tr>\n",
       "      <th>514</th>\n",
       "      <td>1992</td>\n",
       "      <td>64.8</td>\n",
       "      <td>1.066116</td>\n",
       "      <td>69.084317</td>\n",
       "    </tr>\n",
       "    <tr>\n",
       "      <th>515</th>\n",
       "      <td>1993</td>\n",
       "      <td>68.1</td>\n",
       "      <td>1.066116</td>\n",
       "      <td>72.602500</td>\n",
       "    </tr>\n",
       "    <tr>\n",
       "      <th>516</th>\n",
       "      <td>1994</td>\n",
       "      <td>76.3</td>\n",
       "      <td>1.066116</td>\n",
       "      <td>81.344651</td>\n",
       "    </tr>\n",
       "    <tr>\n",
       "      <th>517</th>\n",
       "      <td>1995</td>\n",
       "      <td>78.0</td>\n",
       "      <td>1.066116</td>\n",
       "      <td>83.157048</td>\n",
       "    </tr>\n",
       "    <tr>\n",
       "      <th>518</th>\n",
       "      <td>1996</td>\n",
       "      <td>92.3</td>\n",
       "      <td>1.066116</td>\n",
       "      <td>98.402507</td>\n",
       "    </tr>\n",
       "    <tr>\n",
       "      <th>519</th>\n",
       "      <td>1997</td>\n",
       "      <td>101.9</td>\n",
       "      <td>1.066116</td>\n",
       "      <td>108.637220</td>\n",
       "    </tr>\n",
       "    <tr>\n",
       "      <th>520</th>\n",
       "      <td>1998</td>\n",
       "      <td>106.7</td>\n",
       "      <td>1.066116</td>\n",
       "      <td>113.754577</td>\n",
       "    </tr>\n",
       "    <tr>\n",
       "      <th>521</th>\n",
       "      <td>1999</td>\n",
       "      <td>111.4</td>\n",
       "      <td>1.066116</td>\n",
       "      <td>118.765322</td>\n",
       "    </tr>\n",
       "    <tr>\n",
       "      <th>522</th>\n",
       "      <td>2000</td>\n",
       "      <td>114.8</td>\n",
       "      <td>0.923498</td>\n",
       "      <td>106.017570</td>\n",
       "    </tr>\n",
       "    <tr>\n",
       "      <th>523</th>\n",
       "      <td>2001</td>\n",
       "      <td>115.6</td>\n",
       "      <td>0.895969</td>\n",
       "      <td>103.574016</td>\n",
       "    </tr>\n",
       "    <tr>\n",
       "      <th>524</th>\n",
       "      <td>2002</td>\n",
       "      <td>137.7</td>\n",
       "      <td>0.942468</td>\n",
       "      <td>129.777844</td>\n",
       "    </tr>\n",
       "    <tr>\n",
       "      <th>525</th>\n",
       "      <td>2003</td>\n",
       "      <td>124.5</td>\n",
       "      <td>1.134134</td>\n",
       "      <td>141.199683</td>\n",
       "    </tr>\n",
       "    <tr>\n",
       "      <th>526</th>\n",
       "      <td>2004</td>\n",
       "      <td>114.7</td>\n",
       "      <td>1.244143</td>\n",
       "      <td>142.703202</td>\n",
       "    </tr>\n",
       "    <tr>\n",
       "      <th>527</th>\n",
       "      <td>2005</td>\n",
       "      <td>110.0</td>\n",
       "      <td>1.246376</td>\n",
       "      <td>137.101360</td>\n",
       "    </tr>\n",
       "    <tr>\n",
       "      <th>528</th>\n",
       "      <td>2006</td>\n",
       "      <td>99.9</td>\n",
       "      <td>1.256316</td>\n",
       "      <td>125.505968</td>\n",
       "    </tr>\n",
       "    <tr>\n",
       "      <th>529</th>\n",
       "      <td>2007</td>\n",
       "      <td>99.6</td>\n",
       "      <td>1.370412</td>\n",
       "      <td>136.493035</td>\n",
       "    </tr>\n",
       "    <tr>\n",
       "      <th>530</th>\n",
       "      <td>2008</td>\n",
       "      <td>102.8</td>\n",
       "      <td>1.471366</td>\n",
       "      <td>151.256425</td>\n",
       "    </tr>\n",
       "    <tr>\n",
       "      <th>531</th>\n",
       "      <td>2009</td>\n",
       "      <td>98.8</td>\n",
       "      <td>1.394480</td>\n",
       "      <td>137.774624</td>\n",
       "    </tr>\n",
       "    <tr>\n",
       "      <th>532</th>\n",
       "      <td>2010</td>\n",
       "      <td>98.5</td>\n",
       "      <td>1.327386</td>\n",
       "      <td>130.747521</td>\n",
       "    </tr>\n",
       "    <tr>\n",
       "      <th>533</th>\n",
       "      <td>2011</td>\n",
       "      <td>100.2</td>\n",
       "      <td>1.392705</td>\n",
       "      <td>139.549041</td>\n",
       "    </tr>\n",
       "    <tr>\n",
       "      <th>534</th>\n",
       "      <td>2012</td>\n",
       "      <td>111.9</td>\n",
       "      <td>1.285697</td>\n",
       "      <td>143.869494</td>\n",
       "    </tr>\n",
       "    <tr>\n",
       "      <th>535</th>\n",
       "      <td>2013</td>\n",
       "      <td>121.5</td>\n",
       "      <td>1.328464</td>\n",
       "      <td>161.408376</td>\n",
       "    </tr>\n",
       "    <tr>\n",
       "      <th>536</th>\n",
       "      <td>2014</td>\n",
       "      <td>133.2</td>\n",
       "      <td>1.329165</td>\n",
       "      <td>177.044778</td>\n",
       "    </tr>\n",
       "    <tr>\n",
       "      <th>537</th>\n",
       "      <td>2015</td>\n",
       "      <td>137.0</td>\n",
       "      <td>1.109729</td>\n",
       "      <td>152.032873</td>\n",
       "    </tr>\n",
       "    <tr>\n",
       "      <th>538</th>\n",
       "      <td>2016</td>\n",
       "      <td>121.7</td>\n",
       "      <td>1.106560</td>\n",
       "      <td>134.668352</td>\n",
       "    </tr>\n",
       "    <tr>\n",
       "      <th>539</th>\n",
       "      <td>2017</td>\n",
       "      <td>118.2</td>\n",
       "      <td>1.130051</td>\n",
       "      <td>133.572028</td>\n",
       "    </tr>\n",
       "    <tr>\n",
       "      <th>540</th>\n",
       "      <td>2018</td>\n",
       "      <td>117.1</td>\n",
       "      <td>1.181011</td>\n",
       "      <td>138.296388</td>\n",
       "    </tr>\n",
       "    <tr>\n",
       "      <th>541</th>\n",
       "      <td>2019</td>\n",
       "      <td>119.2</td>\n",
       "      <td>1.120129</td>\n",
       "      <td>133.519377</td>\n",
       "    </tr>\n",
       "    <tr>\n",
       "      <th>542</th>\n",
       "      <td>2020</td>\n",
       "      <td>123.8</td>\n",
       "      <td>1.142203</td>\n",
       "      <td>141.404731</td>\n",
       "    </tr>\n",
       "  </tbody>\n",
       "</table>\n",
       "</div>"
      ],
      "text/plain": [
       "     Year   EUR$      Rate         US$\n",
       "512  1990   57.1  1.066116   60.875224\n",
       "513  1991   63.5  1.066116   67.698366\n",
       "514  1992   64.8  1.066116   69.084317\n",
       "515  1993   68.1  1.066116   72.602500\n",
       "516  1994   76.3  1.066116   81.344651\n",
       "517  1995   78.0  1.066116   83.157048\n",
       "518  1996   92.3  1.066116   98.402507\n",
       "519  1997  101.9  1.066116  108.637220\n",
       "520  1998  106.7  1.066116  113.754577\n",
       "521  1999  111.4  1.066116  118.765322\n",
       "522  2000  114.8  0.923498  106.017570\n",
       "523  2001  115.6  0.895969  103.574016\n",
       "524  2002  137.7  0.942468  129.777844\n",
       "525  2003  124.5  1.134134  141.199683\n",
       "526  2004  114.7  1.244143  142.703202\n",
       "527  2005  110.0  1.246376  137.101360\n",
       "528  2006   99.9  1.256316  125.505968\n",
       "529  2007   99.6  1.370412  136.493035\n",
       "530  2008  102.8  1.471366  151.256425\n",
       "531  2009   98.8  1.394480  137.774624\n",
       "532  2010   98.5  1.327386  130.747521\n",
       "533  2011  100.2  1.392705  139.549041\n",
       "534  2012  111.9  1.285697  143.869494\n",
       "535  2013  121.5  1.328464  161.408376\n",
       "536  2014  133.2  1.329165  177.044778\n",
       "537  2015  137.0  1.109729  152.032873\n",
       "538  2016  121.7  1.106560  134.668352\n",
       "539  2017  118.2  1.130051  133.572028\n",
       "540  2018  117.1  1.181011  138.296388\n",
       "541  2019  119.2  1.120129  133.519377\n",
       "542  2020  123.8  1.142203  141.404731"
      ]
     },
     "execution_count": 941,
     "metadata": {},
     "output_type": "execute_result"
    }
   ],
   "source": [
    "mushroom_value_scaled"
   ]
  },
  {
   "cell_type": "markdown",
   "metadata": {},
   "source": [
    "Applying standard scalar to copy of main df to bring all variables into a similar scale"
   ]
  },
  {
   "cell_type": "code",
   "execution_count": 942,
   "metadata": {},
   "outputs": [
    {
     "data": {
      "text/html": [
       "<div>\n",
       "<style scoped>\n",
       "    .dataframe tbody tr th:only-of-type {\n",
       "        vertical-align: middle;\n",
       "    }\n",
       "\n",
       "    .dataframe tbody tr th {\n",
       "        vertical-align: top;\n",
       "    }\n",
       "\n",
       "    .dataframe thead th {\n",
       "        text-align: right;\n",
       "    }\n",
       "</style>\n",
       "<table border=\"1\" class=\"dataframe\">\n",
       "  <thead>\n",
       "    <tr style=\"text-align: right;\">\n",
       "      <th></th>\n",
       "      <th>Year</th>\n",
       "      <th>EUR$</th>\n",
       "      <th>Rate</th>\n",
       "      <th>US$</th>\n",
       "    </tr>\n",
       "  </thead>\n",
       "  <tbody>\n",
       "    <tr>\n",
       "      <th>0</th>\n",
       "      <td>-1.677051</td>\n",
       "      <td>-2.233256</td>\n",
       "      <td>-0.65816</td>\n",
       "      <td>-2.086428</td>\n",
       "    </tr>\n",
       "    <tr>\n",
       "      <th>1</th>\n",
       "      <td>-1.565248</td>\n",
       "      <td>-1.931986</td>\n",
       "      <td>-0.65816</td>\n",
       "      <td>-1.852272</td>\n",
       "    </tr>\n",
       "    <tr>\n",
       "      <th>2</th>\n",
       "      <td>-1.453444</td>\n",
       "      <td>-1.870790</td>\n",
       "      <td>-0.65816</td>\n",
       "      <td>-1.804709</td>\n",
       "    </tr>\n",
       "    <tr>\n",
       "      <th>3</th>\n",
       "      <td>-1.341641</td>\n",
       "      <td>-1.715448</td>\n",
       "      <td>-0.65816</td>\n",
       "      <td>-1.683972</td>\n",
       "    </tr>\n",
       "    <tr>\n",
       "      <th>4</th>\n",
       "      <td>-1.229837</td>\n",
       "      <td>-1.329446</td>\n",
       "      <td>-0.65816</td>\n",
       "      <td>-1.383959</td>\n",
       "    </tr>\n",
       "  </tbody>\n",
       "</table>\n",
       "</div>"
      ],
      "text/plain": [
       "       Year      EUR$     Rate       US$\n",
       "0 -1.677051 -2.233256 -0.65816 -2.086428\n",
       "1 -1.565248 -1.931986 -0.65816 -1.852272\n",
       "2 -1.453444 -1.870790 -0.65816 -1.804709\n",
       "3 -1.341641 -1.715448 -0.65816 -1.683972\n",
       "4 -1.229837 -1.329446 -0.65816 -1.383959"
      ]
     },
     "execution_count": 942,
     "metadata": {},
     "output_type": "execute_result"
    }
   ],
   "source": [
    "\n",
    "scaler = StandardScaler()\n",
    "\n",
    "mushroom_value_scaled = pd.DataFrame(scaler.fit_transform(mushroom_value),columns=mushroom_value.columns)\n",
    "\n",
    "mushroom_value_scaled.head()"
   ]
  },
  {
   "cell_type": "markdown",
   "metadata": {},
   "source": [
    "Creating function of a loop to go through any column of choice and minus the first value from the fourth value.\n",
    "Idea behind this is to create a variable when there is an increase or decrease in the chosen variable across that time period. This will allow me to use 2020 data to try predict as far ahead as 2023"
   ]
  },
  {
   "cell_type": "code",
   "execution_count": 943,
   "metadata": {},
   "outputs": [],
   "source": [
    "def triennial_delta(df_temp,column_header):\n",
    "    #creating two empty variables that will be populated in this function\n",
    "    column_header_predictor=[]\n",
    "    pos_neg_allocation = []\n",
    "    #stopping loop when it gets to 3rd last row as it needs 3 rows ahead for calculation\n",
    "    for row in range(len(df_temp[column_header])-3):\n",
    "        calculated_value = df_temp.iloc[row+3][column_header]-df_temp.iloc[row][column_header]\n",
    "        #if statement for what to insert if difference is positive or not positive\n",
    "        if calculated_value <= 0:\n",
    "            pos_neg_allocation.insert(row,0)\n",
    "        else:\n",
    "            pos_neg_allocation.insert(row,1)\n",
    "        #populating the last 3 cells in pos_negallocation with none so that the df is right size as we have no values for it  \n",
    "    for i in range(3):\n",
    "        pos_neg_allocation.append(None)\n",
    "    #adding the predictor column to the df\n",
    "    df_temp[\"predictor\"] = pos_neg_allocation\n",
    "       \n",
    "    return df_temp\n",
    "    "
   ]
  },
  {
   "cell_type": "markdown",
   "metadata": {},
   "source": [
    "# Prediction in euros"
   ]
  },
  {
   "cell_type": "markdown",
   "metadata": {},
   "source": [
    "The question we want to answer is the following:\n",
    "Will the revenue increse in the next few years?"
   ]
  },
  {
   "cell_type": "code",
   "execution_count": 944,
   "metadata": {},
   "outputs": [],
   "source": [
    "#making another copy of main df scaled in case this all goes wrong\n",
    "mushroom_value_scaled_temp = mushroom_value_scaled.copy()"
   ]
  },
  {
   "cell_type": "code",
   "execution_count": 945,
   "metadata": {},
   "outputs": [
    {
     "data": {
      "text/html": [
       "<div>\n",
       "<style scoped>\n",
       "    .dataframe tbody tr th:only-of-type {\n",
       "        vertical-align: middle;\n",
       "    }\n",
       "\n",
       "    .dataframe tbody tr th {\n",
       "        vertical-align: top;\n",
       "    }\n",
       "\n",
       "    .dataframe thead th {\n",
       "        text-align: right;\n",
       "    }\n",
       "</style>\n",
       "<table border=\"1\" class=\"dataframe\">\n",
       "  <thead>\n",
       "    <tr style=\"text-align: right;\">\n",
       "      <th></th>\n",
       "      <th>Year</th>\n",
       "      <th>EUR$</th>\n",
       "      <th>Rate</th>\n",
       "      <th>US$</th>\n",
       "      <th>predictor</th>\n",
       "    </tr>\n",
       "  </thead>\n",
       "  <tbody>\n",
       "    <tr>\n",
       "      <th>26</th>\n",
       "      <td>1.229837</td>\n",
       "      <td>0.807689</td>\n",
       "      <td>-0.377852</td>\n",
       "      <td>0.446001</td>\n",
       "      <td>0.0</td>\n",
       "    </tr>\n",
       "    <tr>\n",
       "      <th>27</th>\n",
       "      <td>1.341641</td>\n",
       "      <td>0.642932</td>\n",
       "      <td>-0.215042</td>\n",
       "      <td>0.408377</td>\n",
       "      <td>1.0</td>\n",
       "    </tr>\n",
       "    <tr>\n",
       "      <th>28</th>\n",
       "      <td>1.453444</td>\n",
       "      <td>0.591152</td>\n",
       "      <td>0.138150</td>\n",
       "      <td>0.570508</td>\n",
       "      <td>NaN</td>\n",
       "    </tr>\n",
       "    <tr>\n",
       "      <th>29</th>\n",
       "      <td>1.565248</td>\n",
       "      <td>0.690006</td>\n",
       "      <td>-0.283809</td>\n",
       "      <td>0.406571</td>\n",
       "      <td>NaN</td>\n",
       "    </tr>\n",
       "    <tr>\n",
       "      <th>30</th>\n",
       "      <td>1.677051</td>\n",
       "      <td>0.906544</td>\n",
       "      <td>-0.130819</td>\n",
       "      <td>0.677180</td>\n",
       "      <td>NaN</td>\n",
       "    </tr>\n",
       "  </tbody>\n",
       "</table>\n",
       "</div>"
      ],
      "text/plain": [
       "        Year      EUR$      Rate       US$  predictor\n",
       "26  1.229837  0.807689 -0.377852  0.446001        0.0\n",
       "27  1.341641  0.642932 -0.215042  0.408377        1.0\n",
       "28  1.453444  0.591152  0.138150  0.570508        NaN\n",
       "29  1.565248  0.690006 -0.283809  0.406571        NaN\n",
       "30  1.677051  0.906544 -0.130819  0.677180        NaN"
      ]
     },
     "execution_count": 945,
     "metadata": {},
     "output_type": "execute_result"
    }
   ],
   "source": [
    "#applying function to EUR$ column to get new column for target outcomes for ML algorithms- checking tail to see if it worked\n",
    "mushroom_value_scaled_temp = triennial_delta(mushroom_value_scaled_temp,\"EUR$\")\n",
    "mushroom_value_scaled_temp.tail()"
   ]
  },
  {
   "cell_type": "code",
   "execution_count": 946,
   "metadata": {},
   "outputs": [
    {
     "data": {
      "text/html": [
       "<div>\n",
       "<style scoped>\n",
       "    .dataframe tbody tr th:only-of-type {\n",
       "        vertical-align: middle;\n",
       "    }\n",
       "\n",
       "    .dataframe tbody tr th {\n",
       "        vertical-align: top;\n",
       "    }\n",
       "\n",
       "    .dataframe thead th {\n",
       "        text-align: right;\n",
       "    }\n",
       "</style>\n",
       "<table border=\"1\" class=\"dataframe\">\n",
       "  <thead>\n",
       "    <tr style=\"text-align: right;\">\n",
       "      <th></th>\n",
       "      <th>Year</th>\n",
       "      <th>EUR$</th>\n",
       "      <th>Rate</th>\n",
       "      <th>US$</th>\n",
       "      <th>predictor</th>\n",
       "    </tr>\n",
       "  </thead>\n",
       "  <tbody>\n",
       "    <tr>\n",
       "      <th>0</th>\n",
       "      <td>-1.677051</td>\n",
       "      <td>-2.233256</td>\n",
       "      <td>-0.65816</td>\n",
       "      <td>-2.086428</td>\n",
       "      <td>1.0</td>\n",
       "    </tr>\n",
       "    <tr>\n",
       "      <th>1</th>\n",
       "      <td>-1.565248</td>\n",
       "      <td>-1.931986</td>\n",
       "      <td>-0.65816</td>\n",
       "      <td>-1.852272</td>\n",
       "      <td>1.0</td>\n",
       "    </tr>\n",
       "    <tr>\n",
       "      <th>2</th>\n",
       "      <td>-1.453444</td>\n",
       "      <td>-1.870790</td>\n",
       "      <td>-0.65816</td>\n",
       "      <td>-1.804709</td>\n",
       "      <td>1.0</td>\n",
       "    </tr>\n",
       "    <tr>\n",
       "      <th>3</th>\n",
       "      <td>-1.341641</td>\n",
       "      <td>-1.715448</td>\n",
       "      <td>-0.65816</td>\n",
       "      <td>-1.683972</td>\n",
       "      <td>1.0</td>\n",
       "    </tr>\n",
       "    <tr>\n",
       "      <th>4</th>\n",
       "      <td>-1.229837</td>\n",
       "      <td>-1.329446</td>\n",
       "      <td>-0.65816</td>\n",
       "      <td>-1.383959</td>\n",
       "      <td>1.0</td>\n",
       "    </tr>\n",
       "  </tbody>\n",
       "</table>\n",
       "</div>"
      ],
      "text/plain": [
       "       Year      EUR$     Rate       US$  predictor\n",
       "0 -1.677051 -2.233256 -0.65816 -2.086428        1.0\n",
       "1 -1.565248 -1.931986 -0.65816 -1.852272        1.0\n",
       "2 -1.453444 -1.870790 -0.65816 -1.804709        1.0\n",
       "3 -1.341641 -1.715448 -0.65816 -1.683972        1.0\n",
       "4 -1.229837 -1.329446 -0.65816 -1.383959        1.0"
      ]
     },
     "execution_count": 946,
     "metadata": {},
     "output_type": "execute_result"
    }
   ],
   "source": [
    "# also checking head to be 100% \n",
    "mushroom_value_scaled_temp.head()"
   ]
  },
  {
   "cell_type": "code",
   "execution_count": 947,
   "metadata": {},
   "outputs": [],
   "source": [
    "#creating new df without predictor column for x_test\n",
    "X = mushroom_value_scaled_temp.drop([\"predictor\"],axis=1)\n",
    "\n",
    "#creating df last_3_rows to store the last 3 rows which will be used to predict future years based on algorithms\n",
    "last_3_rows = X.tail(3)\n",
    "\n",
    "#dropping last 3 rows from X as they aren't going to be used yet\n",
    "X = X.drop(X.index[[-1,-2,-3]])\n"
   ]
  },
  {
   "cell_type": "code",
   "execution_count": 948,
   "metadata": {},
   "outputs": [],
   "source": [
    "#creating df y with target answers, dropping last 3 rows but storing for later use\n",
    "y = mushroom_value_scaled_temp[\"predictor\"]\n",
    "y = y.drop(y.index[[-1,-2,-3]])"
   ]
  },
  {
   "cell_type": "code",
   "execution_count": 949,
   "metadata": {},
   "outputs": [
    {
     "name": "stdout",
     "output_type": "stream",
     "text": [
      "(19, 4)\n",
      "(9, 4)\n",
      "(19,)\n",
      "(9,)\n",
      "(28, 4)\n",
      "(28,)\n"
     ]
    },
    {
     "data": {
      "text/plain": [
       "2     1.0\n",
       "9     1.0\n",
       "1     1.0\n",
       "5     1.0\n",
       "17    0.0\n",
       "16    0.0\n",
       "Name: predictor, dtype: float64"
      ]
     },
     "execution_count": 949,
     "metadata": {},
     "output_type": "execute_result"
    }
   ],
   "source": [
    "#splitting data into X and Y training and testing at a 0.3 split- random state set for reproducability\n",
    "X_train, X_test, Y_train, Y_test = train_test_split(X, y, test_size=0.3, random_state= 7)\n",
    "\n",
    "#making sure shapes make sense\n",
    "print(X_train.shape)\n",
    "print(X_test.shape)\n",
    "print(Y_train.shape)\n",
    "print(Y_test.shape)\n",
    "print(X.shape)\n",
    "print(y.shape)\n",
    "\n",
    "Y_test.head(6)"
   ]
  },
  {
   "cell_type": "code",
   "execution_count": 950,
   "metadata": {},
   "outputs": [
    {
     "name": "stdout",
     "output_type": "stream",
     "text": [
      "KNeighborsClassifier()\n"
     ]
    }
   ],
   "source": [
    "#Storing KNN classifier as clf and fitting to training data\n",
    "clf = sklearn.neighbors.KNeighborsClassifier()\n",
    "clf.fit(X_train,Y_train)\n",
    "print(clf)"
   ]
  },
  {
   "cell_type": "code",
   "execution_count": 951,
   "metadata": {},
   "outputs": [
    {
     "name": "stdout",
     "output_type": "stream",
     "text": [
      "              precision    recall  f1-score   support\n",
      "\n",
      "         0.0       0.50      0.25      0.33         4\n",
      "         1.0       0.57      0.80      0.67         5\n",
      "\n",
      "    accuracy                           0.56         9\n",
      "   macro avg       0.54      0.53      0.50         9\n",
      "weighted avg       0.54      0.56      0.52         9\n",
      "\n"
     ]
    }
   ],
   "source": [
    "#performing KNN classification and looking at classification report\n",
    "#recall = 56% accuracy\n",
    "y_expect = Y_test\n",
    "y_pred = clf.predict(X_test)\n",
    "\n",
    "print(metrics.classification_report(y_expect, y_pred))"
   ]
  },
  {
   "cell_type": "code",
   "execution_count": 952,
   "metadata": {},
   "outputs": [
    {
     "name": "stdout",
     "output_type": "stream",
     "text": [
      "[0. 0. 0.]\n"
     ]
    }
   ],
   "source": [
    "#Revenue - KNN\n",
    "#applying KNN algorithm to last 3 rows that were dropped earlier to predict whether there is an increase or not in revenue for 2021/2022/2023\n",
    "\n",
    "actual_predictions =  clf.predict(last_3_rows)\n",
    "print(actual_predictions)\n"
   ]
  },
  {
   "cell_type": "markdown",
   "metadata": {},
   "source": [
    "It predics no increse from 2019 for 2022\n",
    "It predics no increse from 2020 for 2023\n",
    "It predics no increse from 2021 for 2024"
   ]
  },
  {
   "cell_type": "code",
   "execution_count": 953,
   "metadata": {},
   "outputs": [
    {
     "data": {
      "text/plain": [
       "LogisticRegression()"
      ]
     },
     "execution_count": 953,
     "metadata": {},
     "output_type": "execute_result"
    }
   ],
   "source": [
    "#now performing Logistic regression in revenue predictions\n",
    "\n",
    "log_reg = LogisticRegression()\n",
    "log_reg.fit(X_train, Y_train)"
   ]
  },
  {
   "cell_type": "code",
   "execution_count": 954,
   "metadata": {},
   "outputs": [
    {
     "data": {
      "text/plain": [
       "array([[1, 3],\n",
       "       [1, 4]], dtype=int64)"
      ]
     },
     "execution_count": 954,
     "metadata": {},
     "output_type": "execute_result"
    }
   ],
   "source": [
    "#creating confusion matrix to show Success and error types in logistic regression\n",
    "#1 True positives, 4 true negatives, 3 false positive, 1 false negative \n",
    "\n",
    "y_pred_log_reg = log_reg.predict(X_test)\n",
    "confusion_matrix(Y_test, y_pred_log_reg)"
   ]
  },
  {
   "cell_type": "code",
   "execution_count": 955,
   "metadata": {},
   "outputs": [
    {
     "name": "stdout",
     "output_type": "stream",
     "text": [
      "[0. 0. 0.]\n"
     ]
    }
   ],
   "source": [
    "#Revenue - Log Reg - using the trained logistic regression algorithm on the last 3 rows of data to predict future revenue changes\n",
    "\n",
    "actual_predictions =  log_reg.predict(last_3_rows)\n",
    "print(actual_predictions)\n",
    "\n",
    "#### It predics no increse from 2019 for 2022\n",
    "#### It predics no increse from 2020 for 2023\n",
    "#### It predics no increse from 2021 for 2024"
   ]
  },
  {
   "cell_type": "code",
   "execution_count": 956,
   "metadata": {},
   "outputs": [
    {
     "name": "stdout",
     "output_type": "stream",
     "text": [
      "[0.69245027 0.26766411]\n"
     ]
    }
   ],
   "source": [
    "#Applying PCA to data, using top 2 components, \n",
    "pca = PCA(n_components = 2)\n",
    "\n",
    "# Performing Pca on the 3 dfs.\n",
    "PCA_X_train = pca.fit_transform(X_train)\n",
    "PCA_X_test = pca.transform(X_test)\n",
    "PCA_rows = pca.transform(last_3_rows)\n",
    " \n",
    "# Store the explained variance\n",
    "explained_variance = pca.explained_variance_ratio_\n",
    "\n",
    "print(explained_variance)"
   ]
  },
  {
   "cell_type": "code",
   "execution_count": 957,
   "metadata": {},
   "outputs": [
    {
     "name": "stdout",
     "output_type": "stream",
     "text": [
      "[0.69245027 0.26766411]\n"
     ]
    },
    {
     "data": {
      "image/png": "[encoded data removed]",
      "text/plain": [
       "<Figure size 432x288 with 1 Axes>"
      ]
     },
     "metadata": {
      "needs_background": "light"
     },
     "output_type": "display_data"
    }
   ],
   "source": [
    "#graphing variance of the 2 components chosen\n",
    "plt.bar(range(1,len(pca.explained_variance_ ) + 1), pca.explained_variance_ )\n",
    "plt.ylabel('Explained variance')\n",
    "plt.xlabel('Components')\n",
    "plt.plot(range(1, len(pca.explained_variance_ ) + 1), pca.explained_variance_,\n",
    "         c = 'red',\n",
    "         label = \"Cumulative Explained Variance\")\n",
    "plt.legend(loc = 'best')\n",
    "\n",
    "print(explained_variance)"
   ]
  },
  {
   "cell_type": "code",
   "execution_count": 958,
   "metadata": {},
   "outputs": [
    {
     "data": {
      "text/plain": [
       "array([[1, 3],\n",
       "       [1, 4]], dtype=int64)"
      ]
     },
     "execution_count": 958,
     "metadata": {},
     "output_type": "execute_result"
    }
   ],
   "source": [
    "# Repeating logistic regression steps, but now on the 2 principal components as opposed to whole df\n",
    "log_reg.fit(PCA_X_train, Y_train)\n",
    "y_pred_log_reg = log_reg.predict(PCA_X_test)\n",
    "confusion_matrix(Y_test, y_pred_log_reg)"
   ]
  },
  {
   "cell_type": "code",
   "execution_count": 959,
   "metadata": {},
   "outputs": [
    {
     "name": "stdout",
     "output_type": "stream",
     "text": [
      "[0. 0. 0.]\n"
     ]
    }
   ],
   "source": [
    "#using trained logistic regression model on data to predict future revenue changes\n",
    "actual_predictions =  log_reg.predict(PCA_rows)\n",
    "print(actual_predictions)"
   ]
  },
  {
   "cell_type": "markdown",
   "metadata": {},
   "source": [
    "# Predicition in US Dollars"
   ]
  },
  {
   "cell_type": "code",
   "execution_count": 960,
   "metadata": {},
   "outputs": [
    {
     "name": "stdout",
     "output_type": "stream",
     "text": [
      "X_train.shape =  (19, 4)\n",
      "X_test.shape =  (9, 4)\n",
      "Y_train.shape =  (19,)\n",
      "Y_test.shape =  (9,)\n",
      "X.shape =  (28, 4)\n",
      "y.shape =  (28,)\n",
      "KNeighborsClassifier()\n",
      "              precision    recall  f1-score   support\n",
      "\n",
      "         0.0       1.00      0.25      0.40         4\n",
      "         1.0       0.62      1.00      0.77         5\n",
      "\n",
      "    accuracy                           0.67         9\n",
      "   macro avg       0.81      0.62      0.58         9\n",
      "weighted avg       0.79      0.67      0.61         9\n",
      "\n",
      "[1. 1. 1.]\n"
     ]
    }
   ],
   "source": [
    "#making another copy of main df scaled in case this all goes wrong\n",
    "mushroom_value_scaled_temp = mushroom_value_scaled.copy()\n",
    "\n",
    "#applying function to US$ column to get new column for target outcomes for ML algorithms- checking tail to see if it worked\n",
    "mushroom_value_scaled_temp = triennial_delta(mushroom_value_scaled_temp,\"US$\")\n",
    "mushroom_value_scaled_temp.tail()\n",
    "\n",
    "# also checking head to be 100% \n",
    "mushroom_value_scaled_temp.head()\n",
    "\n",
    "#creating new df without predictor column for x_test\n",
    "X = mushroom_value_scaled_temp.drop([\"predictor\"],axis=1)\n",
    "\n",
    "#creating df last_3_rows to store the last 3 rows which will be used to predict future years based on algorithms\n",
    "last_3_rows = X.tail(3)\n",
    "\n",
    "#dropping last 3 rows from X as they aren't going to be used yet\n",
    "X = X.drop(X.index[[-1,-2,-3]])\n",
    "\n",
    "#creating df y with target answers, dropping last 3 rows but storing for later use\n",
    "y = mushroom_value_scaled_temp[\"predictor\"]\n",
    "y = y.drop(y.index[[-1,-2,-3]])\n",
    "\n",
    "#splitting data into X and Y training and testing at a 0.3 split- random state set for reproducability\n",
    "X_train, X_test, Y_train, Y_test = train_test_split(X, y, test_size=0.3, random_state= 7)\n",
    "\n",
    "#making sure shapes make sense\n",
    "print(\"X_train.shape = \",  X_train.shape)\n",
    "print(\"X_test.shape = \", X_test.shape)\n",
    "print(\"Y_train.shape = \", Y_train.shape)\n",
    "print(\"Y_test.shape = \", Y_test.shape)\n",
    "print(\"X.shape = \", X.shape)\n",
    "print(\"y.shape = \", y.shape)\n",
    "\n",
    "Y_test.head(6)\n",
    "\n",
    "\n",
    "#Storing KNN classifier as clf and fitting to training data\n",
    "clf = sklearn.neighbors.KNeighborsClassifier()\n",
    "clf.fit(X_train,Y_train)\n",
    "print(clf)\n",
    "\n",
    "\n",
    "#perfirming KNN classification and looking at classification report\n",
    "#recall = 67% accuracy\n",
    "y_expect = Y_test\n",
    "y_pred = clf.predict(X_test)\n",
    "\n",
    "print(metrics.classification_report(y_expect, y_pred))\n",
    "\n",
    "\n",
    "#Revenue - KNN\n",
    "#applying KNN algorithm to last 3 rows that were dropped earlier to predict whether there is an increase or not in revenue for 2021/2022/2023\n",
    "\n",
    "actual_predictions =  clf.predict(last_3_rows)\n",
    "print(actual_predictions)\n",
    "\n",
    "#### It predics an increse from 2019 for 2022\n",
    "#### It predics an increse from 2020 for 2023\n",
    "#### It predics an increse from 2021 for 2024"
   ]
  },
  {
   "cell_type": "markdown",
   "metadata": {},
   "source": [
    "It predics an increse from 2019 for 2022, \n",
    "It predics an increse from 2020 for 2023, \n",
    "It predics an increse from 2021 for 2024"
   ]
  },
  {
   "cell_type": "markdown",
   "metadata": {},
   "source": [
    "We need to note here that prediction is no increase in euros but because of the currency exchange rate, we will see an increase in revenue when converted to dollars"
   ]
  },
  {
   "cell_type": "code",
   "execution_count": 961,
   "metadata": {},
   "outputs": [
    {
     "name": "stdout",
     "output_type": "stream",
     "text": [
      "[0.69245027 0.26766411]\n",
      "[0.69245027 0.26766411]\n",
      "[1. 0. 0.]\n"
     ]
    },
    {
     "data": {
      "image/png": "[encoded data removed]",
      "text/plain": [
       "<Figure size 432x288 with 1 Axes>"
      ]
     },
     "metadata": {
      "needs_background": "light"
     },
     "output_type": "display_data"
    }
   ],
   "source": [
    "#Applying PCA to data, using top 2 components, \n",
    "pca = PCA(n_components = 2)\n",
    "\n",
    "# Performing Pca on the 3 dfs.\n",
    "PCA_X_train = pca.fit_transform(X_train)\n",
    "PCA_X_test = pca.transform(X_test)\n",
    "PCA_rows = pca.transform(last_3_rows)\n",
    " \n",
    "# Store the explained variance\n",
    "explained_variance = pca.explained_variance_ratio_\n",
    "\n",
    "print(explained_variance)\n",
    "\n",
    "\n",
    "#graphing variance of the 2 components chosen\n",
    "plt.bar(range(1,len(pca.explained_variance_ ) + 1), pca.explained_variance_ )\n",
    "plt.ylabel('Explained variance')\n",
    "plt.xlabel('Components')\n",
    "plt.plot(range(1, len(pca.explained_variance_ ) + 1), pca.explained_variance_,\n",
    "         c = 'red',\n",
    "         label = \"Cumulative Explained Variance\")\n",
    "plt.legend(loc = 'best')\n",
    "\n",
    "print(explained_variance)\n",
    "\n",
    "\n",
    "# Repeating logistic regression steps, but now on the 2 principal components as opposed to whole df\n",
    "log_reg.fit(PCA_X_train, Y_train)\n",
    "y_pred_log_reg = log_reg.predict(PCA_X_test)\n",
    "confusion_matrix(Y_test, y_pred_log_reg)\n",
    "\n",
    "#using trained logistic regression model on data to predict future revenue changes\n",
    "actual_predictions =  log_reg.predict(PCA_rows)\n",
    "print(actual_predictions)"
   ]
  },
  {
   "cell_type": "markdown",
   "metadata": {},
   "source": [
    "# US data - Mushrooms ########################"
   ]
  },
  {
   "cell_type": "code",
   "execution_count": 962,
   "metadata": {},
   "outputs": [
    {
     "data": {
      "text/html": [
       "<div>\n",
       "<style scoped>\n",
       "    .dataframe tbody tr th:only-of-type {\n",
       "        vertical-align: middle;\n",
       "    }\n",
       "\n",
       "    .dataframe tbody tr th {\n",
       "        vertical-align: top;\n",
       "    }\n",
       "\n",
       "    .dataframe thead th {\n",
       "        text-align: right;\n",
       "    }\n",
       "</style>\n",
       "<table border=\"1\" class=\"dataframe\">\n",
       "  <thead>\n",
       "    <tr style=\"text-align: right;\">\n",
       "      <th></th>\n",
       "      <th>Domain Code</th>\n",
       "      <th>Domain</th>\n",
       "      <th>Area Code (FAO)</th>\n",
       "      <th>Area</th>\n",
       "      <th>Element Code</th>\n",
       "      <th>Element</th>\n",
       "      <th>Item Code (FAO)</th>\n",
       "      <th>Item</th>\n",
       "      <th>Year Code</th>\n",
       "      <th>Year</th>\n",
       "      <th>Unit</th>\n",
       "      <th>Value</th>\n",
       "      <th>Flag</th>\n",
       "      <th>Flag Description</th>\n",
       "    </tr>\n",
       "  </thead>\n",
       "  <tbody>\n",
       "    <tr>\n",
       "      <th>0</th>\n",
       "      <td>QCL</td>\n",
       "      <td>Crops and livestock products</td>\n",
       "      <td>231</td>\n",
       "      <td>United States of America</td>\n",
       "      <td>5510</td>\n",
       "      <td>Production</td>\n",
       "      <td>449</td>\n",
       "      <td>Mushrooms and truffles</td>\n",
       "      <td>1972</td>\n",
       "      <td>1972</td>\n",
       "      <td>tonnes</td>\n",
       "      <td>115212</td>\n",
       "      <td>NaN</td>\n",
       "      <td>Official data</td>\n",
       "    </tr>\n",
       "    <tr>\n",
       "      <th>1</th>\n",
       "      <td>QCL</td>\n",
       "      <td>Crops and livestock products</td>\n",
       "      <td>231</td>\n",
       "      <td>United States of America</td>\n",
       "      <td>5510</td>\n",
       "      <td>Production</td>\n",
       "      <td>449</td>\n",
       "      <td>Mushrooms and truffles</td>\n",
       "      <td>1973</td>\n",
       "      <td>1973</td>\n",
       "      <td>tonnes</td>\n",
       "      <td>115213</td>\n",
       "      <td>NaN</td>\n",
       "      <td>Official data</td>\n",
       "    </tr>\n",
       "    <tr>\n",
       "      <th>2</th>\n",
       "      <td>QCL</td>\n",
       "      <td>Crops and livestock products</td>\n",
       "      <td>231</td>\n",
       "      <td>United States of America</td>\n",
       "      <td>5510</td>\n",
       "      <td>Production</td>\n",
       "      <td>449</td>\n",
       "      <td>Mushrooms and truffles</td>\n",
       "      <td>1974</td>\n",
       "      <td>1974</td>\n",
       "      <td>tonnes</td>\n",
       "      <td>126775</td>\n",
       "      <td>NaN</td>\n",
       "      <td>Official data</td>\n",
       "    </tr>\n",
       "    <tr>\n",
       "      <th>3</th>\n",
       "      <td>QCL</td>\n",
       "      <td>Crops and livestock products</td>\n",
       "      <td>231</td>\n",
       "      <td>United States of America</td>\n",
       "      <td>5510</td>\n",
       "      <td>Production</td>\n",
       "      <td>449</td>\n",
       "      <td>Mushrooms and truffles</td>\n",
       "      <td>1975</td>\n",
       "      <td>1975</td>\n",
       "      <td>tonnes</td>\n",
       "      <td>135660</td>\n",
       "      <td>NaN</td>\n",
       "      <td>Official data</td>\n",
       "    </tr>\n",
       "    <tr>\n",
       "      <th>4</th>\n",
       "      <td>QCL</td>\n",
       "      <td>Crops and livestock products</td>\n",
       "      <td>231</td>\n",
       "      <td>United States of America</td>\n",
       "      <td>5510</td>\n",
       "      <td>Production</td>\n",
       "      <td>449</td>\n",
       "      <td>Mushrooms and truffles</td>\n",
       "      <td>1976</td>\n",
       "      <td>1976</td>\n",
       "      <td>tonnes</td>\n",
       "      <td>140529</td>\n",
       "      <td>NaN</td>\n",
       "      <td>Official data</td>\n",
       "    </tr>\n",
       "    <tr>\n",
       "      <th>5</th>\n",
       "      <td>QCL</td>\n",
       "      <td>Crops and livestock products</td>\n",
       "      <td>231</td>\n",
       "      <td>United States of America</td>\n",
       "      <td>5510</td>\n",
       "      <td>Production</td>\n",
       "      <td>449</td>\n",
       "      <td>Mushrooms and truffles</td>\n",
       "      <td>1977</td>\n",
       "      <td>1977</td>\n",
       "      <td>tonnes</td>\n",
       "      <td>157454</td>\n",
       "      <td>NaN</td>\n",
       "      <td>Official data</td>\n",
       "    </tr>\n",
       "    <tr>\n",
       "      <th>6</th>\n",
       "      <td>QCL</td>\n",
       "      <td>Crops and livestock products</td>\n",
       "      <td>231</td>\n",
       "      <td>United States of America</td>\n",
       "      <td>5510</td>\n",
       "      <td>Production</td>\n",
       "      <td>449</td>\n",
       "      <td>Mushrooms and truffles</td>\n",
       "      <td>1978</td>\n",
       "      <td>1978</td>\n",
       "      <td>tonnes</td>\n",
       "      <td>180848</td>\n",
       "      <td>NaN</td>\n",
       "      <td>Official data</td>\n",
       "    </tr>\n",
       "    <tr>\n",
       "      <th>7</th>\n",
       "      <td>QCL</td>\n",
       "      <td>Crops and livestock products</td>\n",
       "      <td>231</td>\n",
       "      <td>United States of America</td>\n",
       "      <td>5510</td>\n",
       "      <td>Production</td>\n",
       "      <td>449</td>\n",
       "      <td>Mushrooms and truffles</td>\n",
       "      <td>1979</td>\n",
       "      <td>1979</td>\n",
       "      <td>tonnes</td>\n",
       "      <td>205930</td>\n",
       "      <td>NaN</td>\n",
       "      <td>Official data</td>\n",
       "    </tr>\n",
       "    <tr>\n",
       "      <th>8</th>\n",
       "      <td>QCL</td>\n",
       "      <td>Crops and livestock products</td>\n",
       "      <td>231</td>\n",
       "      <td>United States of America</td>\n",
       "      <td>5510</td>\n",
       "      <td>Production</td>\n",
       "      <td>449</td>\n",
       "      <td>Mushrooms and truffles</td>\n",
       "      <td>1980</td>\n",
       "      <td>1980</td>\n",
       "      <td>tonnes</td>\n",
       "      <td>213200</td>\n",
       "      <td>NaN</td>\n",
       "      <td>Official data</td>\n",
       "    </tr>\n",
       "    <tr>\n",
       "      <th>9</th>\n",
       "      <td>QCL</td>\n",
       "      <td>Crops and livestock products</td>\n",
       "      <td>231</td>\n",
       "      <td>United States of America</td>\n",
       "      <td>5510</td>\n",
       "      <td>Production</td>\n",
       "      <td>449</td>\n",
       "      <td>Mushrooms and truffles</td>\n",
       "      <td>1981</td>\n",
       "      <td>1981</td>\n",
       "      <td>tonnes</td>\n",
       "      <td>212990</td>\n",
       "      <td>NaN</td>\n",
       "      <td>Official data</td>\n",
       "    </tr>\n",
       "  </tbody>\n",
       "</table>\n",
       "</div>"
      ],
      "text/plain": [
       "  Domain Code                        Domain  Area Code (FAO)  \\\n",
       "0         QCL  Crops and livestock products              231   \n",
       "1         QCL  Crops and livestock products              231   \n",
       "2         QCL  Crops and livestock products              231   \n",
       "3         QCL  Crops and livestock products              231   \n",
       "4         QCL  Crops and livestock products              231   \n",
       "5         QCL  Crops and livestock products              231   \n",
       "6         QCL  Crops and livestock products              231   \n",
       "7         QCL  Crops and livestock products              231   \n",
       "8         QCL  Crops and livestock products              231   \n",
       "9         QCL  Crops and livestock products              231   \n",
       "\n",
       "                       Area  Element Code     Element  Item Code (FAO)  \\\n",
       "0  United States of America          5510  Production              449   \n",
       "1  United States of America          5510  Production              449   \n",
       "2  United States of America          5510  Production              449   \n",
       "3  United States of America          5510  Production              449   \n",
       "4  United States of America          5510  Production              449   \n",
       "5  United States of America          5510  Production              449   \n",
       "6  United States of America          5510  Production              449   \n",
       "7  United States of America          5510  Production              449   \n",
       "8  United States of America          5510  Production              449   \n",
       "9  United States of America          5510  Production              449   \n",
       "\n",
       "                     Item  Year Code  Year    Unit   Value  Flag  \\\n",
       "0  Mushrooms and truffles       1972  1972  tonnes  115212   NaN   \n",
       "1  Mushrooms and truffles       1973  1973  tonnes  115213   NaN   \n",
       "2  Mushrooms and truffles       1974  1974  tonnes  126775   NaN   \n",
       "3  Mushrooms and truffles       1975  1975  tonnes  135660   NaN   \n",
       "4  Mushrooms and truffles       1976  1976  tonnes  140529   NaN   \n",
       "5  Mushrooms and truffles       1977  1977  tonnes  157454   NaN   \n",
       "6  Mushrooms and truffles       1978  1978  tonnes  180848   NaN   \n",
       "7  Mushrooms and truffles       1979  1979  tonnes  205930   NaN   \n",
       "8  Mushrooms and truffles       1980  1980  tonnes  213200   NaN   \n",
       "9  Mushrooms and truffles       1981  1981  tonnes  212990   NaN   \n",
       "\n",
       "  Flag Description  \n",
       "0    Official data  \n",
       "1    Official data  \n",
       "2    Official data  \n",
       "3    Official data  \n",
       "4    Official data  \n",
       "5    Official data  \n",
       "6    Official data  \n",
       "7    Official data  \n",
       "8    Official data  \n",
       "9    Official data  "
      ]
     },
     "execution_count": 962,
     "metadata": {},
     "output_type": "execute_result"
    }
   ],
   "source": [
    "us_mushroom_dataset_name = 'US_data_mushroom.csv'\n",
    "us_mushroom_df = pd.read_csv(us_mushroom_dataset_name)\n",
    "us_mushroom_df.head(10)"
   ]
  },
  {
   "cell_type": "code",
   "execution_count": 963,
   "metadata": {},
   "outputs": [
    {
     "data": {
      "text/plain": [
       "Index(['Domain Code', 'Domain', 'Area Code (FAO)', 'Area', 'Element Code',\n",
       "       'Element', 'Item Code (FAO)', 'Item', 'Year Code', 'Year', 'Unit',\n",
       "       'Value', 'Flag', 'Flag Description'],\n",
       "      dtype='object')"
      ]
     },
     "execution_count": 963,
     "metadata": {},
     "output_type": "execute_result"
    }
   ],
   "source": [
    "us_mushroom_df.columns"
   ]
  },
  {
   "cell_type": "code",
   "execution_count": 964,
   "metadata": {},
   "outputs": [
    {
     "data": {
      "text/plain": [
       "(49, 14)"
      ]
     },
     "execution_count": 964,
     "metadata": {},
     "output_type": "execute_result"
    }
   ],
   "source": [
    "us_mushroom_df.shape"
   ]
  },
  {
   "cell_type": "code",
   "execution_count": 965,
   "metadata": {},
   "outputs": [
    {
     "data": {
      "text/plain": [
       "49"
      ]
     },
     "execution_count": 965,
     "metadata": {},
     "output_type": "execute_result"
    }
   ],
   "source": [
    "us_mushroom_size = us_mushroom_df.shape[0]\n",
    "us_mushroom_size"
   ]
  },
  {
   "cell_type": "code",
   "execution_count": 966,
   "metadata": {},
   "outputs": [
    {
     "data": {
      "image/png": "[encoded data removed]",
      "text/plain": [
       "<Figure size 2000x1200 with 1 Axes>"
      ]
     },
     "metadata": {
      "needs_background": "light"
     },
     "output_type": "display_data"
    }
   ],
   "source": [
    "#Revenue in Euros\n",
    "plt.figure(figsize=(10, 6), dpi=200)\n",
    "plt.plot(us_mushroom_df[\"Year\"],us_mushroom_df[\"Value\"])\n",
    "plt.xticks(np.arange(min(us_mushroom_df['Year']), max(us_mushroom_df['Year'])+1, 2.0))\n",
    "for year in range (1972,2020):\n",
    "    plt.vlines(ls=\"--\",x=year, ymax=us_mushroom_df[us_mushroom_df['Year'] ==  year][\"Value\"].tolist()[0], ymin=0)\n",
    "\n",
    "  \n",
    "plt.show()    \n"
   ]
  },
  {
   "cell_type": "code",
   "execution_count": 967,
   "metadata": {},
   "outputs": [
    {
     "data": {
      "text/plain": [
       "Domain Code          0\n",
       "Domain               0\n",
       "Area Code (FAO)      0\n",
       "Area                 0\n",
       "Element Code         0\n",
       "Element              0\n",
       "Item Code (FAO)      0\n",
       "Item                 0\n",
       "Year Code            0\n",
       "Year                 0\n",
       "Unit                 0\n",
       "Value                0\n",
       "Flag                49\n",
       "Flag Description     0\n",
       "dtype: int64"
      ]
     },
     "execution_count": 967,
     "metadata": {},
     "output_type": "execute_result"
    }
   ],
   "source": [
    "us_mushroom_df.isna().sum()\n"
   ]
  },
  {
   "cell_type": "code",
   "execution_count": 968,
   "metadata": {},
   "outputs": [
    {
     "data": {
      "text/html": [
       "<div>\n",
       "<style scoped>\n",
       "    .dataframe tbody tr th:only-of-type {\n",
       "        vertical-align: middle;\n",
       "    }\n",
       "\n",
       "    .dataframe tbody tr th {\n",
       "        vertical-align: top;\n",
       "    }\n",
       "\n",
       "    .dataframe thead th {\n",
       "        text-align: right;\n",
       "    }\n",
       "</style>\n",
       "<table border=\"1\" class=\"dataframe\">\n",
       "  <thead>\n",
       "    <tr style=\"text-align: right;\">\n",
       "      <th></th>\n",
       "      <th>Area Code (FAO)</th>\n",
       "      <th>Element Code</th>\n",
       "      <th>Item Code (FAO)</th>\n",
       "      <th>Year Code</th>\n",
       "      <th>Year</th>\n",
       "      <th>Value</th>\n",
       "      <th>Flag</th>\n",
       "    </tr>\n",
       "  </thead>\n",
       "  <tbody>\n",
       "    <tr>\n",
       "      <th>count</th>\n",
       "      <td>49.0</td>\n",
       "      <td>49.0</td>\n",
       "      <td>49.0</td>\n",
       "      <td>49.00000</td>\n",
       "      <td>49.00000</td>\n",
       "      <td>49.000000</td>\n",
       "      <td>0.0</td>\n",
       "    </tr>\n",
       "    <tr>\n",
       "      <th>mean</th>\n",
       "      <td>231.0</td>\n",
       "      <td>5510.0</td>\n",
       "      <td>449.0</td>\n",
       "      <td>1996.00000</td>\n",
       "      <td>1996.00000</td>\n",
       "      <td>316194.367347</td>\n",
       "      <td>NaN</td>\n",
       "    </tr>\n",
       "    <tr>\n",
       "      <th>std</th>\n",
       "      <td>0.0</td>\n",
       "      <td>0.0</td>\n",
       "      <td>0.0</td>\n",
       "      <td>14.28869</td>\n",
       "      <td>14.28869</td>\n",
       "      <td>94730.482388</td>\n",
       "      <td>NaN</td>\n",
       "    </tr>\n",
       "    <tr>\n",
       "      <th>min</th>\n",
       "      <td>231.0</td>\n",
       "      <td>5510.0</td>\n",
       "      <td>449.0</td>\n",
       "      <td>1972.00000</td>\n",
       "      <td>1972.00000</td>\n",
       "      <td>115212.000000</td>\n",
       "      <td>NaN</td>\n",
       "    </tr>\n",
       "    <tr>\n",
       "      <th>25%</th>\n",
       "      <td>231.0</td>\n",
       "      <td>5510.0</td>\n",
       "      <td>449.0</td>\n",
       "      <td>1984.00000</td>\n",
       "      <td>1984.00000</td>\n",
       "      <td>254700.000000</td>\n",
       "      <td>NaN</td>\n",
       "    </tr>\n",
       "    <tr>\n",
       "      <th>50%</th>\n",
       "      <td>231.0</td>\n",
       "      <td>5510.0</td>\n",
       "      <td>449.0</td>\n",
       "      <td>1996.00000</td>\n",
       "      <td>1996.00000</td>\n",
       "      <td>354250.000000</td>\n",
       "      <td>NaN</td>\n",
       "    </tr>\n",
       "    <tr>\n",
       "      <th>75%</th>\n",
       "      <td>231.0</td>\n",
       "      <td>5510.0</td>\n",
       "      <td>449.0</td>\n",
       "      <td>2008.00000</td>\n",
       "      <td>2008.00000</td>\n",
       "      <td>384540.000000</td>\n",
       "      <td>NaN</td>\n",
       "    </tr>\n",
       "    <tr>\n",
       "      <th>max</th>\n",
       "      <td>231.0</td>\n",
       "      <td>5510.0</td>\n",
       "      <td>449.0</td>\n",
       "      <td>2020.00000</td>\n",
       "      <td>2020.00000</td>\n",
       "      <td>432100.000000</td>\n",
       "      <td>NaN</td>\n",
       "    </tr>\n",
       "  </tbody>\n",
       "</table>\n",
       "</div>"
      ],
      "text/plain": [
       "       Area Code (FAO)  Element Code  Item Code (FAO)   Year Code        Year  \\\n",
       "count             49.0          49.0             49.0    49.00000    49.00000   \n",
       "mean             231.0        5510.0            449.0  1996.00000  1996.00000   \n",
       "std                0.0           0.0              0.0    14.28869    14.28869   \n",
       "min              231.0        5510.0            449.0  1972.00000  1972.00000   \n",
       "25%              231.0        5510.0            449.0  1984.00000  1984.00000   \n",
       "50%              231.0        5510.0            449.0  1996.00000  1996.00000   \n",
       "75%              231.0        5510.0            449.0  2008.00000  2008.00000   \n",
       "max              231.0        5510.0            449.0  2020.00000  2020.00000   \n",
       "\n",
       "               Value  Flag  \n",
       "count      49.000000   0.0  \n",
       "mean   316194.367347   NaN  \n",
       "std     94730.482388   NaN  \n",
       "min    115212.000000   NaN  \n",
       "25%    254700.000000   NaN  \n",
       "50%    354250.000000   NaN  \n",
       "75%    384540.000000   NaN  \n",
       "max    432100.000000   NaN  "
      ]
     },
     "execution_count": 968,
     "metadata": {},
     "output_type": "execute_result"
    }
   ],
   "source": [
    "us_mushroom_df.describe()"
   ]
  },
  {
   "cell_type": "code",
   "execution_count": 969,
   "metadata": {},
   "outputs": [],
   "source": [
    "#making copy of main df before I try standardize it, just in case\n",
    "us_mushroom_df.drop(['Domain Code'], axis=1, inplace=True)\n",
    "us_mushroom_df.drop(['Domain'], axis=1, inplace=True)\n",
    "us_mushroom_df.drop(['Area Code (FAO)'], axis=1, inplace=True)\n",
    "us_mushroom_df.drop(['Area'], axis=1, inplace=True)\n",
    "us_mushroom_df.drop(['Element Code'], axis=1, inplace=True)\n",
    "us_mushroom_df.drop(['Element'], axis=1, inplace=True)\n",
    "us_mushroom_df.drop(['Item Code (FAO)'], axis=1, inplace=True)\n",
    "us_mushroom_df.drop(['Item'], axis=1, inplace=True)\n",
    "us_mushroom_df.drop(['Year Code'], axis=1, inplace=True)\n",
    "us_mushroom_df.drop(['Unit'], axis=1, inplace=True)\n",
    "us_mushroom_df.drop(['Flag'], axis=1, inplace=True)\n",
    "us_mushroom_df.drop(['Flag Description'], axis=1, inplace=True)\n",
    "\n"
   ]
  },
  {
   "cell_type": "code",
   "execution_count": 970,
   "metadata": {},
   "outputs": [
    {
     "data": {
      "text/html": [
       "<div>\n",
       "<style scoped>\n",
       "    .dataframe tbody tr th:only-of-type {\n",
       "        vertical-align: middle;\n",
       "    }\n",
       "\n",
       "    .dataframe tbody tr th {\n",
       "        vertical-align: top;\n",
       "    }\n",
       "\n",
       "    .dataframe thead th {\n",
       "        text-align: right;\n",
       "    }\n",
       "</style>\n",
       "<table border=\"1\" class=\"dataframe\">\n",
       "  <thead>\n",
       "    <tr style=\"text-align: right;\">\n",
       "      <th></th>\n",
       "      <th>Year</th>\n",
       "      <th>Value</th>\n",
       "    </tr>\n",
       "  </thead>\n",
       "  <tbody>\n",
       "    <tr>\n",
       "      <th>0</th>\n",
       "      <td>1972</td>\n",
       "      <td>115212</td>\n",
       "    </tr>\n",
       "    <tr>\n",
       "      <th>1</th>\n",
       "      <td>1973</td>\n",
       "      <td>115213</td>\n",
       "    </tr>\n",
       "    <tr>\n",
       "      <th>2</th>\n",
       "      <td>1974</td>\n",
       "      <td>126775</td>\n",
       "    </tr>\n",
       "    <tr>\n",
       "      <th>3</th>\n",
       "      <td>1975</td>\n",
       "      <td>135660</td>\n",
       "    </tr>\n",
       "    <tr>\n",
       "      <th>4</th>\n",
       "      <td>1976</td>\n",
       "      <td>140529</td>\n",
       "    </tr>\n",
       "    <tr>\n",
       "      <th>5</th>\n",
       "      <td>1977</td>\n",
       "      <td>157454</td>\n",
       "    </tr>\n",
       "    <tr>\n",
       "      <th>6</th>\n",
       "      <td>1978</td>\n",
       "      <td>180848</td>\n",
       "    </tr>\n",
       "    <tr>\n",
       "      <th>7</th>\n",
       "      <td>1979</td>\n",
       "      <td>205930</td>\n",
       "    </tr>\n",
       "    <tr>\n",
       "      <th>8</th>\n",
       "      <td>1980</td>\n",
       "      <td>213200</td>\n",
       "    </tr>\n",
       "    <tr>\n",
       "      <th>9</th>\n",
       "      <td>1981</td>\n",
       "      <td>212990</td>\n",
       "    </tr>\n",
       "    <tr>\n",
       "      <th>10</th>\n",
       "      <td>1982</td>\n",
       "      <td>234570</td>\n",
       "    </tr>\n",
       "    <tr>\n",
       "      <th>11</th>\n",
       "      <td>1983</td>\n",
       "      <td>222630</td>\n",
       "    </tr>\n",
       "    <tr>\n",
       "      <th>12</th>\n",
       "      <td>1984</td>\n",
       "      <td>254700</td>\n",
       "    </tr>\n",
       "    <tr>\n",
       "      <th>13</th>\n",
       "      <td>1985</td>\n",
       "      <td>270200</td>\n",
       "    </tr>\n",
       "    <tr>\n",
       "      <th>14</th>\n",
       "      <td>1986</td>\n",
       "      <td>266700</td>\n",
       "    </tr>\n",
       "    <tr>\n",
       "      <th>15</th>\n",
       "      <td>1987</td>\n",
       "      <td>278700</td>\n",
       "    </tr>\n",
       "    <tr>\n",
       "      <th>16</th>\n",
       "      <td>1988</td>\n",
       "      <td>286600</td>\n",
       "    </tr>\n",
       "    <tr>\n",
       "      <th>17</th>\n",
       "      <td>1989</td>\n",
       "      <td>302900</td>\n",
       "    </tr>\n",
       "    <tr>\n",
       "      <th>18</th>\n",
       "      <td>1990</td>\n",
       "      <td>324315</td>\n",
       "    </tr>\n",
       "    <tr>\n",
       "      <th>19</th>\n",
       "      <td>1991</td>\n",
       "      <td>338760</td>\n",
       "    </tr>\n",
       "    <tr>\n",
       "      <th>20</th>\n",
       "      <td>1992</td>\n",
       "      <td>352150</td>\n",
       "    </tr>\n",
       "    <tr>\n",
       "      <th>21</th>\n",
       "      <td>1993</td>\n",
       "      <td>340560</td>\n",
       "    </tr>\n",
       "    <tr>\n",
       "      <th>22</th>\n",
       "      <td>1994</td>\n",
       "      <td>354250</td>\n",
       "    </tr>\n",
       "    <tr>\n",
       "      <th>23</th>\n",
       "      <td>1995</td>\n",
       "      <td>352836</td>\n",
       "    </tr>\n",
       "    <tr>\n",
       "      <th>24</th>\n",
       "      <td>1996</td>\n",
       "      <td>352300</td>\n",
       "    </tr>\n",
       "    <tr>\n",
       "      <th>25</th>\n",
       "      <td>1997</td>\n",
       "      <td>366810</td>\n",
       "    </tr>\n",
       "    <tr>\n",
       "      <th>26</th>\n",
       "      <td>1998</td>\n",
       "      <td>384540</td>\n",
       "    </tr>\n",
       "    <tr>\n",
       "      <th>27</th>\n",
       "      <td>1999</td>\n",
       "      <td>387550</td>\n",
       "    </tr>\n",
       "    <tr>\n",
       "      <th>28</th>\n",
       "      <td>2000</td>\n",
       "      <td>383830</td>\n",
       "    </tr>\n",
       "    <tr>\n",
       "      <th>29</th>\n",
       "      <td>2001</td>\n",
       "      <td>376980</td>\n",
       "    </tr>\n",
       "    <tr>\n",
       "      <th>30</th>\n",
       "      <td>2002</td>\n",
       "      <td>377080</td>\n",
       "    </tr>\n",
       "    <tr>\n",
       "      <th>31</th>\n",
       "      <td>2003</td>\n",
       "      <td>387601</td>\n",
       "    </tr>\n",
       "    <tr>\n",
       "      <th>32</th>\n",
       "      <td>2004</td>\n",
       "      <td>387601</td>\n",
       "    </tr>\n",
       "    <tr>\n",
       "      <th>33</th>\n",
       "      <td>2005</td>\n",
       "      <td>386984</td>\n",
       "    </tr>\n",
       "    <tr>\n",
       "      <th>34</th>\n",
       "      <td>2006</td>\n",
       "      <td>382541</td>\n",
       "    </tr>\n",
       "    <tr>\n",
       "      <th>35</th>\n",
       "      <td>2007</td>\n",
       "      <td>359630</td>\n",
       "    </tr>\n",
       "    <tr>\n",
       "      <th>36</th>\n",
       "      <td>2008</td>\n",
       "      <td>368591</td>\n",
       "    </tr>\n",
       "    <tr>\n",
       "      <th>37</th>\n",
       "      <td>2009</td>\n",
       "      <td>371844</td>\n",
       "    </tr>\n",
       "    <tr>\n",
       "      <th>38</th>\n",
       "      <td>2010</td>\n",
       "      <td>359469</td>\n",
       "    </tr>\n",
       "    <tr>\n",
       "      <th>39</th>\n",
       "      <td>2011</td>\n",
       "      <td>390902</td>\n",
       "    </tr>\n",
       "    <tr>\n",
       "      <th>40</th>\n",
       "      <td>2012</td>\n",
       "      <td>402904</td>\n",
       "    </tr>\n",
       "    <tr>\n",
       "      <th>41</th>\n",
       "      <td>2013</td>\n",
       "      <td>408157</td>\n",
       "    </tr>\n",
       "    <tr>\n",
       "      <th>42</th>\n",
       "      <td>2014</td>\n",
       "      <td>432100</td>\n",
       "    </tr>\n",
       "    <tr>\n",
       "      <th>43</th>\n",
       "      <td>2015</td>\n",
       "      <td>420853</td>\n",
       "    </tr>\n",
       "    <tr>\n",
       "      <th>44</th>\n",
       "      <td>2016</td>\n",
       "      <td>427925</td>\n",
       "    </tr>\n",
       "    <tr>\n",
       "      <th>45</th>\n",
       "      <td>2017</td>\n",
       "      <td>423360</td>\n",
       "    </tr>\n",
       "    <tr>\n",
       "      <th>46</th>\n",
       "      <td>2018</td>\n",
       "      <td>416050</td>\n",
       "    </tr>\n",
       "    <tr>\n",
       "      <th>47</th>\n",
       "      <td>2019</td>\n",
       "      <td>383960</td>\n",
       "    </tr>\n",
       "    <tr>\n",
       "      <th>48</th>\n",
       "      <td>2020</td>\n",
       "      <td>370280</td>\n",
       "    </tr>\n",
       "  </tbody>\n",
       "</table>\n",
       "</div>"
      ],
      "text/plain": [
       "    Year   Value\n",
       "0   1972  115212\n",
       "1   1973  115213\n",
       "2   1974  126775\n",
       "3   1975  135660\n",
       "4   1976  140529\n",
       "5   1977  157454\n",
       "6   1978  180848\n",
       "7   1979  205930\n",
       "8   1980  213200\n",
       "9   1981  212990\n",
       "10  1982  234570\n",
       "11  1983  222630\n",
       "12  1984  254700\n",
       "13  1985  270200\n",
       "14  1986  266700\n",
       "15  1987  278700\n",
       "16  1988  286600\n",
       "17  1989  302900\n",
       "18  1990  324315\n",
       "19  1991  338760\n",
       "20  1992  352150\n",
       "21  1993  340560\n",
       "22  1994  354250\n",
       "23  1995  352836\n",
       "24  1996  352300\n",
       "25  1997  366810\n",
       "26  1998  384540\n",
       "27  1999  387550\n",
       "28  2000  383830\n",
       "29  2001  376980\n",
       "30  2002  377080\n",
       "31  2003  387601\n",
       "32  2004  387601\n",
       "33  2005  386984\n",
       "34  2006  382541\n",
       "35  2007  359630\n",
       "36  2008  368591\n",
       "37  2009  371844\n",
       "38  2010  359469\n",
       "39  2011  390902\n",
       "40  2012  402904\n",
       "41  2013  408157\n",
       "42  2014  432100\n",
       "43  2015  420853\n",
       "44  2016  427925\n",
       "45  2017  423360\n",
       "46  2018  416050\n",
       "47  2019  383960\n",
       "48  2020  370280"
      ]
     },
     "execution_count": 970,
     "metadata": {},
     "output_type": "execute_result"
    }
   ],
   "source": [
    "us_mushroom_df"
   ]
  },
  {
   "cell_type": "code",
   "execution_count": 971,
   "metadata": {},
   "outputs": [
    {
     "data": {
      "image/png": "[encoded data removed]",
      "text/plain": [
       "<Figure size 432x288 with 1 Axes>"
      ]
     },
     "metadata": {
      "needs_background": "light"
     },
     "output_type": "display_data"
    }
   ],
   "source": [
    "plt.hist(us_mushroom_df['Value'])\n",
    "plt.xlabel('Tons')\n",
    "plt.ylabel('Year')\n",
    "plt.show()"
   ]
  },
  {
   "cell_type": "code",
   "execution_count": 972,
   "metadata": {},
   "outputs": [
    {
     "data": {
      "text/plain": [
       "Text(0.5, 0, '')"
      ]
     },
     "execution_count": 972,
     "metadata": {},
     "output_type": "execute_result"
    },
    {
     "data": {
      "image/png": "[encoded data removed]",
      "text/plain": [
       "<Figure size 432x288 with 1 Axes>"
      ]
     },
     "metadata": {
      "needs_background": "light"
     },
     "output_type": "display_data"
    }
   ],
   "source": [
    "us_mushroom_df.boxplot('Value')\n",
    "plt.title('Boxplot of revenue')\n",
    "plt.xlabel('')"
   ]
  },
  {
   "cell_type": "code",
   "execution_count": 973,
   "metadata": {},
   "outputs": [],
   "source": [
    "mean = stats.mean(us_mushroom_df[\"Value\"])\n",
    "sd = stats.stdev(us_mushroom_df[\"Value\"])\n",
    "revenue = us_mushroom_df[\"Value\"]"
   ]
  },
  {
   "cell_type": "code",
   "execution_count": 974,
   "metadata": {},
   "outputs": [
    {
     "data": {
      "image/png": "[encoded data removed]",
      "text/plain": [
       "<Figure size 432x288 with 1 Axes>"
      ]
     },
     "metadata": {
      "needs_background": "light"
     },
     "output_type": "display_data"
    }
   ],
   "source": [
    "#normal distribution\n",
    "plt.plot(revenue,norm.pdf(revenue,mean,sd))\n",
    "plt.title(\"Normal Distribution - revenue\")\n",
    "plt.xlabel(\"Output\")\n",
    "plt.ylabel(\"Count\")\n",
    "plt.show()"
   ]
  },
  {
   "cell_type": "code",
   "execution_count": 975,
   "metadata": {},
   "outputs": [
    {
     "data": {
      "text/plain": [
       "<matplotlib.collections.PathCollection at 0x1c5d384c400>"
      ]
     },
     "execution_count": 975,
     "metadata": {},
     "output_type": "execute_result"
    },
    {
     "data": {
      "image/png": "[encoded data removed]",
      "text/plain": [
       "<Figure size 432x288 with 1 Axes>"
      ]
     },
     "metadata": {
      "needs_background": "light"
     },
     "output_type": "display_data"
    }
   ],
   "source": [
    "#basic scatter plot to see potential correlation between year and revenue\n",
    "plt.scatter(us_mushroom_df[\"Year\"],us_mushroom_df[\"Value\"])"
   ]
  },
  {
   "cell_type": "markdown",
   "metadata": {},
   "source": [
    "plotting large correlation heatmap to see how variables are linked. \n",
    "year and currency correlation (0.84) is the highest "
   ]
  },
  {
   "cell_type": "code",
   "execution_count": 976,
   "metadata": {},
   "outputs": [
    {
     "data": {
      "text/plain": [
       "<AxesSubplot:>"
      ]
     },
     "execution_count": 976,
     "metadata": {},
     "output_type": "execute_result"
    },
    {
     "data": {
      "image/png": "[encoded data removed]",
      "text/plain": [
       "<Figure size 1152x1152 with 2 Axes>"
      ]
     },
     "metadata": {
      "needs_background": "light"
     },
     "output_type": "display_data"
    }
   ],
   "source": [
    "plt.figure(figsize = (16,16))\n",
    "sns.heatmap(us_mushroom_df.corr(), annot = True, fmt = '.2f', linewidths = 0.5)"
   ]
  },
  {
   "cell_type": "code",
   "execution_count": 977,
   "metadata": {},
   "outputs": [
    {
     "data": {
      "image/png": "[encoded data removed]",
      "text/plain": [
       "<Figure size 1440x1440 with 2 Axes>"
      ]
     },
     "metadata": {
      "needs_background": "light"
     },
     "output_type": "display_data"
    }
   ],
   "source": [
    "# histograms of each variable \n",
    "fig = plt.figure(figsize = (20,20))             \n",
    "ax = fig.gca()                                \n",
    "us_mushroom_df.hist(ax = ax)                          \n",
    "plt.show()"
   ]
  },
  {
   "cell_type": "code",
   "execution_count": 978,
   "metadata": {},
   "outputs": [],
   "source": [
    "us_mushroom_df_scaled = us_mushroom_df.copy()"
   ]
  },
  {
   "cell_type": "code",
   "execution_count": 979,
   "metadata": {},
   "outputs": [
    {
     "data": {
      "text/html": [
       "<div>\n",
       "<style scoped>\n",
       "    .dataframe tbody tr th:only-of-type {\n",
       "        vertical-align: middle;\n",
       "    }\n",
       "\n",
       "    .dataframe tbody tr th {\n",
       "        vertical-align: top;\n",
       "    }\n",
       "\n",
       "    .dataframe thead th {\n",
       "        text-align: right;\n",
       "    }\n",
       "</style>\n",
       "<table border=\"1\" class=\"dataframe\">\n",
       "  <thead>\n",
       "    <tr style=\"text-align: right;\">\n",
       "      <th></th>\n",
       "      <th>Year</th>\n",
       "      <th>Value</th>\n",
       "    </tr>\n",
       "  </thead>\n",
       "  <tbody>\n",
       "    <tr>\n",
       "      <th>0</th>\n",
       "      <td>-1.697056</td>\n",
       "      <td>-2.143609</td>\n",
       "    </tr>\n",
       "    <tr>\n",
       "      <th>1</th>\n",
       "      <td>-1.626346</td>\n",
       "      <td>-2.143599</td>\n",
       "    </tr>\n",
       "    <tr>\n",
       "      <th>2</th>\n",
       "      <td>-1.555635</td>\n",
       "      <td>-2.020282</td>\n",
       "    </tr>\n",
       "    <tr>\n",
       "      <th>3</th>\n",
       "      <td>-1.484924</td>\n",
       "      <td>-1.925518</td>\n",
       "    </tr>\n",
       "    <tr>\n",
       "      <th>4</th>\n",
       "      <td>-1.414214</td>\n",
       "      <td>-1.873587</td>\n",
       "    </tr>\n",
       "  </tbody>\n",
       "</table>\n",
       "</div>"
      ],
      "text/plain": [
       "       Year     Value\n",
       "0 -1.697056 -2.143609\n",
       "1 -1.626346 -2.143599\n",
       "2 -1.555635 -2.020282\n",
       "3 -1.484924 -1.925518\n",
       "4 -1.414214 -1.873587"
      ]
     },
     "execution_count": 979,
     "metadata": {},
     "output_type": "execute_result"
    }
   ],
   "source": [
    "#applying standard scalar to copy of main df to bring all variables into a similar scale\n",
    "\n",
    "scaler = StandardScaler()\n",
    "\n",
    "us_mushroom_df_scaled = pd.DataFrame(scaler.fit_transform(us_mushroom_df),columns=us_mushroom_df.columns)\n",
    "\n",
    "us_mushroom_df_scaled.head()"
   ]
  },
  {
   "cell_type": "code",
   "execution_count": 980,
   "metadata": {},
   "outputs": [],
   "source": [
    "#making another copy of main df scaled in case this all goes wrong\n",
    "us_mushroom_df_scaled_temp = us_mushroom_df_scaled.copy()"
   ]
  },
  {
   "cell_type": "code",
   "execution_count": 981,
   "metadata": {},
   "outputs": [
    {
     "data": {
      "text/html": [
       "<div>\n",
       "<style scoped>\n",
       "    .dataframe tbody tr th:only-of-type {\n",
       "        vertical-align: middle;\n",
       "    }\n",
       "\n",
       "    .dataframe tbody tr th {\n",
       "        vertical-align: top;\n",
       "    }\n",
       "\n",
       "    .dataframe thead th {\n",
       "        text-align: right;\n",
       "    }\n",
       "</style>\n",
       "<table border=\"1\" class=\"dataframe\">\n",
       "  <thead>\n",
       "    <tr style=\"text-align: right;\">\n",
       "      <th></th>\n",
       "      <th>Year</th>\n",
       "      <th>Value</th>\n",
       "      <th>predictor</th>\n",
       "    </tr>\n",
       "  </thead>\n",
       "  <tbody>\n",
       "    <tr>\n",
       "      <th>44</th>\n",
       "      <td>1.414214</td>\n",
       "      <td>1.191681</td>\n",
       "      <td>0.0</td>\n",
       "    </tr>\n",
       "    <tr>\n",
       "      <th>45</th>\n",
       "      <td>1.484924</td>\n",
       "      <td>1.142992</td>\n",
       "      <td>0.0</td>\n",
       "    </tr>\n",
       "    <tr>\n",
       "      <th>46</th>\n",
       "      <td>1.555635</td>\n",
       "      <td>1.065026</td>\n",
       "      <td>NaN</td>\n",
       "    </tr>\n",
       "    <tr>\n",
       "      <th>47</th>\n",
       "      <td>1.626346</td>\n",
       "      <td>0.722765</td>\n",
       "      <td>NaN</td>\n",
       "    </tr>\n",
       "    <tr>\n",
       "      <th>48</th>\n",
       "      <td>1.697056</td>\n",
       "      <td>0.576859</td>\n",
       "      <td>NaN</td>\n",
       "    </tr>\n",
       "  </tbody>\n",
       "</table>\n",
       "</div>"
      ],
      "text/plain": [
       "        Year     Value  predictor\n",
       "44  1.414214  1.191681        0.0\n",
       "45  1.484924  1.142992        0.0\n",
       "46  1.555635  1.065026        NaN\n",
       "47  1.626346  0.722765        NaN\n",
       "48  1.697056  0.576859        NaN"
      ]
     },
     "execution_count": 981,
     "metadata": {},
     "output_type": "execute_result"
    }
   ],
   "source": [
    "#applying function to EUR$ column to get new column for target outcomes for ML algorithms- checking tail to see if it worked\n",
    "us_mushroom_df_scaled_temp = triennial_delta(us_mushroom_df_scaled_temp,\"Value\")\n",
    "us_mushroom_df_scaled_temp.tail()"
   ]
  },
  {
   "cell_type": "code",
   "execution_count": 982,
   "metadata": {},
   "outputs": [
    {
     "data": {
      "text/html": [
       "<div>\n",
       "<style scoped>\n",
       "    .dataframe tbody tr th:only-of-type {\n",
       "        vertical-align: middle;\n",
       "    }\n",
       "\n",
       "    .dataframe tbody tr th {\n",
       "        vertical-align: top;\n",
       "    }\n",
       "\n",
       "    .dataframe thead th {\n",
       "        text-align: right;\n",
       "    }\n",
       "</style>\n",
       "<table border=\"1\" class=\"dataframe\">\n",
       "  <thead>\n",
       "    <tr style=\"text-align: right;\">\n",
       "      <th></th>\n",
       "      <th>Year</th>\n",
       "      <th>Value</th>\n",
       "      <th>predictor</th>\n",
       "    </tr>\n",
       "  </thead>\n",
       "  <tbody>\n",
       "    <tr>\n",
       "      <th>0</th>\n",
       "      <td>-1.697056</td>\n",
       "      <td>-2.143609</td>\n",
       "      <td>1.0</td>\n",
       "    </tr>\n",
       "    <tr>\n",
       "      <th>1</th>\n",
       "      <td>-1.626346</td>\n",
       "      <td>-2.143599</td>\n",
       "      <td>1.0</td>\n",
       "    </tr>\n",
       "    <tr>\n",
       "      <th>2</th>\n",
       "      <td>-1.555635</td>\n",
       "      <td>-2.020282</td>\n",
       "      <td>1.0</td>\n",
       "    </tr>\n",
       "    <tr>\n",
       "      <th>3</th>\n",
       "      <td>-1.484924</td>\n",
       "      <td>-1.925518</td>\n",
       "      <td>1.0</td>\n",
       "    </tr>\n",
       "    <tr>\n",
       "      <th>4</th>\n",
       "      <td>-1.414214</td>\n",
       "      <td>-1.873587</td>\n",
       "      <td>1.0</td>\n",
       "    </tr>\n",
       "  </tbody>\n",
       "</table>\n",
       "</div>"
      ],
      "text/plain": [
       "       Year     Value  predictor\n",
       "0 -1.697056 -2.143609        1.0\n",
       "1 -1.626346 -2.143599        1.0\n",
       "2 -1.555635 -2.020282        1.0\n",
       "3 -1.484924 -1.925518        1.0\n",
       "4 -1.414214 -1.873587        1.0"
      ]
     },
     "execution_count": 982,
     "metadata": {},
     "output_type": "execute_result"
    }
   ],
   "source": [
    "# also checking head to be 100% \n",
    "us_mushroom_df_scaled_temp.head()"
   ]
  },
  {
   "cell_type": "code",
   "execution_count": 983,
   "metadata": {},
   "outputs": [],
   "source": [
    "#creating new df without predictor column for x_test\n",
    "X = us_mushroom_df_scaled_temp.drop([\"predictor\"],axis=1)\n",
    "\n",
    "#creating df last_3_rows to store the last 3 rows which will be used to predict future years based on algorithms\n",
    "last_3_rows = X.tail(3)\n",
    "\n",
    "#dropping last 3 rows from X as they aren't going to be used yet\n",
    "X = X.drop(X.index[[-1,-2,-3]])\n"
   ]
  },
  {
   "cell_type": "code",
   "execution_count": 984,
   "metadata": {},
   "outputs": [],
   "source": [
    "#creating df y with target answers, dropping last 3 rows but storing for later use\n",
    "y = us_mushroom_df_scaled_temp[\"predictor\"]\n",
    "y = y.drop(y.index[[-1,-2,-3]])"
   ]
  },
  {
   "cell_type": "code",
   "execution_count": 985,
   "metadata": {},
   "outputs": [
    {
     "name": "stdout",
     "output_type": "stream",
     "text": [
      "(32, 2)\n",
      "(14, 2)\n",
      "(32,)\n",
      "(14,)\n",
      "(46, 2)\n",
      "(46,)\n"
     ]
    },
    {
     "data": {
      "text/plain": [
       "13    1.0\n",
       "20    1.0\n",
       "15    1.0\n",
       "18    1.0\n",
       "22    1.0\n",
       "34    0.0\n",
       "Name: predictor, dtype: float64"
      ]
     },
     "execution_count": 985,
     "metadata": {},
     "output_type": "execute_result"
    }
   ],
   "source": [
    "#splitting data into X and Y training and testing at a 0.3 split- random state set for reproducability\n",
    "X_train, X_test, Y_train, Y_test = train_test_split(X, y, test_size=0.3, random_state= 7)\n",
    "\n",
    "#making sure shapes make sense\n",
    "print(X_train.shape)\n",
    "print(X_test.shape)\n",
    "print(Y_train.shape)\n",
    "print(Y_test.shape)\n",
    "print(X.shape)\n",
    "print(y.shape)\n",
    "\n",
    "Y_test.head(6)"
   ]
  },
  {
   "cell_type": "code",
   "execution_count": 986,
   "metadata": {},
   "outputs": [
    {
     "name": "stdout",
     "output_type": "stream",
     "text": [
      "KNeighborsClassifier()\n"
     ]
    }
   ],
   "source": [
    "#Storing KNN classifier as clf and fitting to training data\n",
    "clf = sklearn.neighbors.KNeighborsClassifier()\n",
    "clf.fit(X_train,Y_train)\n",
    "print(clf)"
   ]
  },
  {
   "cell_type": "code",
   "execution_count": 987,
   "metadata": {},
   "outputs": [
    {
     "name": "stdout",
     "output_type": "stream",
     "text": [
      "              precision    recall  f1-score   support\n",
      "\n",
      "         0.0       0.75      0.75      0.75         4\n",
      "         1.0       0.90      0.90      0.90        10\n",
      "\n",
      "    accuracy                           0.86        14\n",
      "   macro avg       0.82      0.82      0.82        14\n",
      "weighted avg       0.86      0.86      0.86        14\n",
      "\n"
     ]
    }
   ],
   "source": [
    "#perfirming KNN classification and looking at classification report\n",
    "#recall = 86% accuracy\n",
    "y_expect = Y_test\n",
    "y_pred = clf.predict(X_test)\n",
    "\n",
    "print(metrics.classification_report(y_expect, y_pred))"
   ]
  },
  {
   "cell_type": "code",
   "execution_count": 988,
   "metadata": {},
   "outputs": [
    {
     "name": "stdout",
     "output_type": "stream",
     "text": [
      "[0. 1. 1.]\n"
     ]
    }
   ],
   "source": [
    "#Revenue - KNN\n",
    "#applying KNN algorithm to last 3 rows that were dropped earlier to predict whether there is an increase or not in revenue for 2021/2022/2023\n",
    "\n",
    "actual_predictions =  clf.predict(last_3_rows)\n",
    "print(actual_predictions)"
   ]
  },
  {
   "cell_type": "markdown",
   "metadata": {},
   "source": [
    "It predics no increse from 2019 for 2022\n",
    "It predics a increse from 2020 for 2023\n",
    "It predics a increse from 2021 for 2024"
   ]
  },
  {
   "cell_type": "code",
   "execution_count": 989,
   "metadata": {},
   "outputs": [
    {
     "data": {
      "text/plain": [
       "LogisticRegression()"
      ]
     },
     "execution_count": 989,
     "metadata": {},
     "output_type": "execute_result"
    }
   ],
   "source": [
    "#now performing Logistic regression in revenue predictions\n",
    "\n",
    "log_reg = LogisticRegression()\n",
    "log_reg.fit(X_train, Y_train)"
   ]
  },
  {
   "cell_type": "code",
   "execution_count": 990,
   "metadata": {},
   "outputs": [
    {
     "data": {
      "text/plain": [
       "array([[ 1,  3],\n",
       "       [ 0, 10]], dtype=int64)"
      ]
     },
     "execution_count": 990,
     "metadata": {},
     "output_type": "execute_result"
    }
   ],
   "source": [
    "#creating confusion matrix to show Success and error types in logistic regression\n",
    "\n",
    "y_pred_log_reg = log_reg.predict(X_test)\n",
    "confusion_matrix(Y_test, y_pred_log_reg)"
   ]
  },
  {
   "cell_type": "markdown",
   "metadata": {},
   "source": [
    "1 True positives, 3 true negatives, 0 false positive, 10 false negative "
   ]
  },
  {
   "cell_type": "code",
   "execution_count": 991,
   "metadata": {},
   "outputs": [
    {
     "name": "stdout",
     "output_type": "stream",
     "text": [
      "[0. 0. 1.]\n"
     ]
    }
   ],
   "source": [
    "#Revenue - Log Reg - using the trained logistic regression algorithm on the last 3 rows of data to predict future revenue changes\n",
    "\n",
    "actual_predictions =  log_reg.predict(last_3_rows)\n",
    "print(actual_predictions)\n",
    "\n"
   ]
  },
  {
   "cell_type": "markdown",
   "metadata": {},
   "source": [
    " It predics no increse from 2019 for 2022\n",
    " It predics no increse from 2020 for 2023\n",
    " It predics a increse from 2021 for 2024"
   ]
  },
  {
   "cell_type": "code",
   "execution_count": 992,
   "metadata": {},
   "outputs": [
    {
     "name": "stdout",
     "output_type": "stream",
     "text": [
      "[0.97424677 0.02575323]\n"
     ]
    }
   ],
   "source": [
    "#Applying PCA to data, using top 2 components, \n",
    "pca = PCA(n_components = 2)\n",
    "\n",
    "# Performing Pca on the 3 dfs.\n",
    "PCA_X_train = pca.fit_transform(X_train)\n",
    "PCA_X_test = pca.transform(X_test)\n",
    "PCA_rows = pca.transform(last_3_rows)\n",
    " \n",
    "# Store the explained variance\n",
    "explained_variance = pca.explained_variance_ratio_\n",
    "\n",
    "print(explained_variance)"
   ]
  },
  {
   "cell_type": "code",
   "execution_count": 993,
   "metadata": {},
   "outputs": [
    {
     "name": "stdout",
     "output_type": "stream",
     "text": [
      "[0.97424677 0.02575323]\n"
     ]
    },
    {
     "data": {
      "image/png": "[encoded data removed]",
      "text/plain": [
       "<Figure size 432x288 with 1 Axes>"
      ]
     },
     "metadata": {
      "needs_background": "light"
     },
     "output_type": "display_data"
    }
   ],
   "source": [
    "#graphing variance of the 2 components chosen\n",
    "plt.bar(range(1,len(pca.explained_variance_ ) + 1), pca.explained_variance_ )\n",
    "plt.ylabel('Explained variance')\n",
    "plt.xlabel('Components')\n",
    "plt.plot(range(1, len(pca.explained_variance_ ) + 1), pca.explained_variance_,\n",
    "         c = 'red',\n",
    "         label = \"Cumulative Explained Variance\")\n",
    "plt.legend(loc = 'best')\n",
    "\n",
    "print(explained_variance)"
   ]
  },
  {
   "cell_type": "code",
   "execution_count": 994,
   "metadata": {},
   "outputs": [
    {
     "data": {
      "text/plain": [
       "array([[ 1,  3],\n",
       "       [ 0, 10]], dtype=int64)"
      ]
     },
     "execution_count": 994,
     "metadata": {},
     "output_type": "execute_result"
    }
   ],
   "source": [
    "# Repeating logistic regression steps, but now on the 2 principal components as opposed to whole df\n",
    "log_reg.fit(PCA_X_train, Y_train)\n",
    "y_pred_log_reg = log_reg.predict(PCA_X_test)\n",
    "confusion_matrix(Y_test, y_pred_log_reg)"
   ]
  },
  {
   "cell_type": "code",
   "execution_count": 995,
   "metadata": {},
   "outputs": [
    {
     "name": "stdout",
     "output_type": "stream",
     "text": [
      "[0. 0. 1.]\n"
     ]
    }
   ],
   "source": [
    "#using trained logistic regression model on data to predict future revenue changes\n",
    "actual_predictions =  log_reg.predict(PCA_rows)\n",
    "print(actual_predictions)"
   ]
  },
  {
   "cell_type": "markdown",
   "metadata": {},
   "source": [
    "# Using interactive graphs "
   ]
  },
  {
   "cell_type": "code",
   "execution_count": 996,
   "metadata": {},
   "outputs": [
    {
     "name": "stdout",
     "output_type": "stream",
     "text": [
      "Note: you may need to restart the kernel to use updated packages.\n"
     ]
    },
    {
     "name": "stderr",
     "output_type": "stream",
     "text": [
      "WARNING: Ignoring invalid distribution -andas (c:\\programdata\\anaconda3\\lib\\site-packages)\n",
      "WARNING: Ignoring invalid distribution -andas (c:\\programdata\\anaconda3\\lib\\site-packages)\n",
      "WARNING: Ignoring invalid distribution -andas (c:\\programdata\\anaconda3\\lib\\site-packages)\n",
      "WARNING: Ignoring invalid distribution -andas (c:\\programdata\\anaconda3\\lib\\site-packages)\n"
     ]
    },
    {
     "name": "stdout",
     "output_type": "stream",
     "text": [
      "Requirement already satisfied: pandas-bokeh in c:\\programdata\\anaconda3\\lib\\site-packages (0.5.5)\n",
      "Requirement already satisfied: pandas>=0.22.0 in c:\\programdata\\anaconda3\\lib\\site-packages (from pandas-bokeh) (1.3.4)\n",
      "Requirement already satisfied: bokeh>=2.0 in c:\\programdata\\anaconda3\\lib\\site-packages (from pandas-bokeh) (2.4.1)\n",
      "Requirement already satisfied: packaging>=16.8 in c:\\programdata\\anaconda3\\lib\\site-packages (from bokeh>=2.0->pandas-bokeh) (21.0)\n",
      "Requirement already satisfied: tornado>=5.1 in c:\\programdata\\anaconda3\\lib\\site-packages (from bokeh>=2.0->pandas-bokeh) (6.1)\n",
      "Requirement already satisfied: PyYAML>=3.10 in c:\\programdata\\anaconda3\\lib\\site-packages (from bokeh>=2.0->pandas-bokeh) (6.0)\n",
      "Requirement already satisfied: pillow>=7.1.0 in c:\\programdata\\anaconda3\\lib\\site-packages (from bokeh>=2.0->pandas-bokeh) (8.4.0)\n",
      "Requirement already satisfied: typing-extensions>=3.10.0 in c:\\programdata\\anaconda3\\lib\\site-packages (from bokeh>=2.0->pandas-bokeh) (3.10.0.2)\n",
      "Requirement already satisfied: Jinja2>=2.9 in c:\\programdata\\anaconda3\\lib\\site-packages (from bokeh>=2.0->pandas-bokeh) (2.11.3)\n",
      "Requirement already satisfied: numpy>=1.11.3 in c:\\programdata\\anaconda3\\lib\\site-packages (from bokeh>=2.0->pandas-bokeh) (1.21.2)\n",
      "Requirement already satisfied: pytz>=2017.3 in c:\\programdata\\anaconda3\\lib\\site-packages (from pandas>=0.22.0->pandas-bokeh) (2021.3)\n",
      "Requirement already satisfied: python-dateutil>=2.7.3 in c:\\programdata\\anaconda3\\lib\\site-packages (from pandas>=0.22.0->pandas-bokeh) (2.8.2)\n",
      "Requirement already satisfied: MarkupSafe>=0.23 in c:\\programdata\\anaconda3\\lib\\site-packages (from Jinja2>=2.9->bokeh>=2.0->pandas-bokeh) (2.0.1)\n",
      "Requirement already satisfied: pyparsing>=2.0.2 in c:\\programdata\\anaconda3\\lib\\site-packages (from packaging>=16.8->bokeh>=2.0->pandas-bokeh) (3.0.4)\n",
      "Requirement already satisfied: six>=1.5 in c:\\programdata\\anaconda3\\lib\\site-packages (from python-dateutil>=2.7.3->pandas>=0.22.0->pandas-bokeh) (1.16.0)\n"
     ]
    }
   ],
   "source": [
    "pip install pandas-bokeh"
   ]
  },
  {
   "cell_type": "code",
   "execution_count": 997,
   "metadata": {},
   "outputs": [],
   "source": [
    "import pandas as pd\n",
    "import pandas_bokeh"
   ]
  },
  {
   "cell_type": "code",
   "execution_count": 998,
   "metadata": {},
   "outputs": [
    {
     "data": {
      "text/html": [
       "\n",
       "    <div class=\"bk-root\">\n",
       "        <a href=\"https://bokeh.org\" target=\"_blank\" class=\"bk-logo bk-logo-small bk-logo-notebook\"></a>\n",
       "        <span id=\"1875\">Loading BokehJS ...</span>\n",
       "    </div>"
      ]
     },
     "metadata": {},
     "output_type": "display_data"
    },
    {
     "data": {
      "application/javascript": [
       "\n",
       "(function(root) {\n",
       "  function now() {\n",
       "    return new Date();\n",
       "  }\n",
       "\n",
       "  const force = true;\n",
       "\n",
       "  if (typeof root._bokeh_onload_callbacks === \"undefined\" || force === true) {\n",
       "    root._bokeh_onload_callbacks = [];\n",
       "    root._bokeh_is_loading = undefined;\n",
       "  }\n",
       "\n",
       "  const JS_MIME_TYPE = 'application/javascript';\n",
       "  const HTML_MIME_TYPE = 'text/html';\n",
       "  const EXEC_MIME_TYPE = 'application/vnd.bokehjs_exec.v0+json';\n",
       "  const CLASS_NAME = 'output_bokeh rendered_html';\n",
       "\n",
       "  /**\n",
       "   * Render data to the DOM node\n",
       "   */\n",
       "  function render(props, node) {\n",
       "    const script = document.createElement(\"script\");\n",
       "    node.appendChild(script);\n",
       "  }\n",
       "\n",
       "  /**\n",
       "   * Handle when an output is cleared or removed\n",
       "   */\n",
       "  function handleClearOutput(event, handle) {\n",
       "    const cell = handle.cell;\n",
       "\n",
       "    const id = cell.output_area._bokeh_element_id;\n",
       "    const server_id = cell.output_area._bokeh_server_id;\n",
       "    // Clean up Bokeh references\n",
       "    if (id != null && id in Bokeh.index) {\n",
       "      Bokeh.index[id].model.document.clear();\n",
       "      delete Bokeh.index[id];\n",
       "    }\n",
       "\n",
       "    if (server_id !== undefined) {\n",
       "      // Clean up Bokeh references\n",
       "      const cmd_clean = \"from bokeh.io.state import curstate; print(curstate().uuid_to_server['\" + server_id + \"'].get_sessions()[0].document.roots[0]._id)\";\n",
       "      cell.notebook.kernel.execute(cmd_clean, {\n",
       "        iopub: {\n",
       "          output: function(msg) {\n",
       "            const id = msg.content.text.trim();\n",
       "            if (id in Bokeh.index) {\n",
       "              Bokeh.index[id].model.document.clear();\n",
       "              delete Bokeh.index[id];\n",
       "            }\n",
       "          }\n",
       "        }\n",
       "      });\n",
       "      // Destroy server and session\n",
       "      const cmd_destroy = \"import bokeh.io.notebook as ion; ion.destroy_server('\" + server_id + \"')\";\n",
       "      cell.notebook.kernel.execute(cmd_destroy);\n",
       "    }\n",
       "  }\n",
       "\n",
       "  /**\n",
       "   * Handle when a new output is added\n",
       "   */\n",
       "  function handleAddOutput(event, handle) {\n",
       "    const output_area = handle.output_area;\n",
       "    const output = handle.output;\n",
       "\n",
       "    // limit handleAddOutput to display_data with EXEC_MIME_TYPE content only\n",
       "    if ((output.output_type != \"display_data\") || (!Object.prototype.hasOwnProperty.call(output.data, EXEC_MIME_TYPE))) {\n",
       "      return\n",
       "    }\n",
       "\n",
       "    const toinsert = output_area.element.find(\".\" + CLASS_NAME.split(' ')[0]);\n",
       "\n",
       "    if (output.metadata[EXEC_MIME_TYPE][\"id\"] !== undefined) {\n",
       "      toinsert[toinsert.length - 1].firstChild.textContent = output.data[JS_MIME_TYPE];\n",
       "      // store reference to embed id on output_area\n",
       "      output_area._bokeh_element_id = output.metadata[EXEC_MIME_TYPE][\"id\"];\n",
       "    }\n",
       "    if (output.metadata[EXEC_MIME_TYPE][\"server_id\"] !== undefined) {\n",
       "      const bk_div = document.createElement(\"div\");\n",
       "      bk_div.innerHTML = output.data[HTML_MIME_TYPE];\n",
       "      const script_attrs = bk_div.children[0].attributes;\n",
       "      for (let i = 0; i < script_attrs.length; i++) {\n",
       "        toinsert[toinsert.length - 1].firstChild.setAttribute(script_attrs[i].name, script_attrs[i].value);\n",
       "        toinsert[toinsert.length - 1].firstChild.textContent = bk_div.children[0].textContent\n",
       "      }\n",
       "      // store reference to server id on output_area\n",
       "      output_area._bokeh_server_id = output.metadata[EXEC_MIME_TYPE][\"server_id\"];\n",
       "    }\n",
       "  }\n",
       "\n",
       "  function register_renderer(events, OutputArea) {\n",
       "\n",
       "    function append_mime(data, metadata, element) {\n",
       "      // create a DOM node to render to\n",
       "      const toinsert = this.create_output_subarea(\n",
       "        metadata,\n",
       "        CLASS_NAME,\n",
       "        EXEC_MIME_TYPE\n",
       "      );\n",
       "      this.keyboard_manager.register_events(toinsert);\n",
       "      // Render to node\n",
       "      const props = {data: data, metadata: metadata[EXEC_MIME_TYPE]};\n",
       "      render(props, toinsert[toinsert.length - 1]);\n",
       "      element.append(toinsert);\n",
       "      return toinsert\n",
       "    }\n",
       "\n",
       "    /* Handle when an output is cleared or removed */\n",
       "    events.on('clear_output.CodeCell', handleClearOutput);\n",
       "    events.on('delete.Cell', handleClearOutput);\n",
       "\n",
       "    /* Handle when a new output is added */\n",
       "    events.on('output_added.OutputArea', handleAddOutput);\n",
       "\n",
       "    /**\n",
       "     * Register the mime type and append_mime function with output_area\n",
       "     */\n",
       "    OutputArea.prototype.register_mime_type(EXEC_MIME_TYPE, append_mime, {\n",
       "      /* Is output safe? */\n",
       "      safe: true,\n",
       "      /* Index of renderer in `output_area.display_order` */\n",
       "      index: 0\n",
       "    });\n",
       "  }\n",
       "\n",
       "  // register the mime type if in Jupyter Notebook environment and previously unregistered\n",
       "  if (root.Jupyter !== undefined) {\n",
       "    const events = require('base/js/events');\n",
       "    const OutputArea = require('notebook/js/outputarea').OutputArea;\n",
       "\n",
       "    if (OutputArea.prototype.mime_types().indexOf(EXEC_MIME_TYPE) == -1) {\n",
       "      register_renderer(events, OutputArea);\n",
       "    }\n",
       "  }\n",
       "\n",
       "  \n",
       "  if (typeof (root._bokeh_timeout) === \"undefined\" || force === true) {\n",
       "    root._bokeh_timeout = Date.now() + 5000;\n",
       "    root._bokeh_failed_load = false;\n",
       "  }\n",
       "\n",
       "  const NB_LOAD_WARNING = {'data': {'text/html':\n",
       "     \"<div style='background-color: #fdd'>\\n\"+\n",
       "     \"<p>\\n\"+\n",
       "     \"BokehJS does not appear to have successfully loaded. If loading BokehJS from CDN, this \\n\"+\n",
       "     \"may be due to a slow or bad network connection. Possible fixes:\\n\"+\n",
       "     \"</p>\\n\"+\n",
       "     \"<ul>\\n\"+\n",
       "     \"<li>re-rerun `output_notebook()` to attempt to load from CDN again, or</li>\\n\"+\n",
       "     \"<li>use INLINE resources instead, as so:</li>\\n\"+\n",
       "     \"</ul>\\n\"+\n",
       "     \"<code>\\n\"+\n",
       "     \"from bokeh.resources import INLINE\\n\"+\n",
       "     \"output_notebook(resources=INLINE)\\n\"+\n",
       "     \"</code>\\n\"+\n",
       "     \"</div>\"}};\n",
       "\n",
       "  function display_loaded() {\n",
       "    const el = document.getElementById(\"1875\");\n",
       "    if (el != null) {\n",
       "      el.textContent = \"BokehJS is loading...\";\n",
       "    }\n",
       "    if (root.Bokeh !== undefined) {\n",
       "      if (el != null) {\n",
       "        el.textContent = \"BokehJS \" + root.Bokeh.version + \" successfully loaded.\";\n",
       "      }\n",
       "    } else if (Date.now() < root._bokeh_timeout) {\n",
       "      setTimeout(display_loaded, 100)\n",
       "    }\n",
       "  }\n",
       "\n",
       "\n",
       "  function run_callbacks() {\n",
       "    try {\n",
       "      root._bokeh_onload_callbacks.forEach(function(callback) {\n",
       "        if (callback != null)\n",
       "          callback();\n",
       "      });\n",
       "    } finally {\n",
       "      delete root._bokeh_onload_callbacks\n",
       "    }\n",
       "    console.debug(\"Bokeh: all callbacks have finished\");\n",
       "  }\n",
       "\n",
       "  function load_libs(css_urls, js_urls, callback) {\n",
       "    if (css_urls == null) css_urls = [];\n",
       "    if (js_urls == null) js_urls = [];\n",
       "\n",
       "    root._bokeh_onload_callbacks.push(callback);\n",
       "    if (root._bokeh_is_loading > 0) {\n",
       "      console.debug(\"Bokeh: BokehJS is being loaded, scheduling callback at\", now());\n",
       "      return null;\n",
       "    }\n",
       "    if (js_urls == null || js_urls.length === 0) {\n",
       "      run_callbacks();\n",
       "      return null;\n",
       "    }\n",
       "    console.debug(\"Bokeh: BokehJS not loaded, scheduling load and callback at\", now());\n",
       "    root._bokeh_is_loading = css_urls.length + js_urls.length;\n",
       "\n",
       "    function on_load() {\n",
       "      root._bokeh_is_loading--;\n",
       "      if (root._bokeh_is_loading === 0) {\n",
       "        console.debug(\"Bokeh: all BokehJS libraries/stylesheets loaded\");\n",
       "        run_callbacks()\n",
       "      }\n",
       "    }\n",
       "\n",
       "    function on_error(url) {\n",
       "      console.error(\"failed to load \" + url);\n",
       "    }\n",
       "\n",
       "    for (let i = 0; i < css_urls.length; i++) {\n",
       "      const url = css_urls[i];\n",
       "      const element = document.createElement(\"link\");\n",
       "      element.onload = on_load;\n",
       "      element.onerror = on_error.bind(null, url);\n",
       "      element.rel = \"stylesheet\";\n",
       "      element.type = \"text/css\";\n",
       "      element.href = url;\n",
       "      console.debug(\"Bokeh: injecting link tag for BokehJS stylesheet: \", url);\n",
       "      document.body.appendChild(element);\n",
       "    }\n",
       "\n",
       "    for (let i = 0; i < js_urls.length; i++) {\n",
       "      const url = js_urls[i];\n",
       "      const element = document.createElement('script');\n",
       "      element.onload = on_load;\n",
       "      element.onerror = on_error.bind(null, url);\n",
       "      element.async = false;\n",
       "      element.src = url;\n",
       "      console.debug(\"Bokeh: injecting script tag for BokehJS library: \", url);\n",
       "      document.head.appendChild(element);\n",
       "    }\n",
       "  };\n",
       "\n",
       "  function inject_raw_css(css) {\n",
       "    const element = document.createElement(\"style\");\n",
       "    element.appendChild(document.createTextNode(css));\n",
       "    document.body.appendChild(element);\n",
       "  }\n",
       "\n",
       "  \n",
       "  const js_urls = [\"https://cdn.bokeh.org/bokeh/release/bokeh-2.4.1.min.js\", \"https://cdn.bokeh.org/bokeh/release/bokeh-gl-2.4.1.min.js\", \"https://cdn.bokeh.org/bokeh/release/bokeh-widgets-2.4.1.min.js\", \"https://cdn.bokeh.org/bokeh/release/bokeh-tables-2.4.1.min.js\", \"https://cdn.bokeh.org/bokeh/release/bokeh-mathjax-2.4.1.min.js\"];\n",
       "  const css_urls = [];\n",
       "  \n",
       "\n",
       "  const inline_js = [\n",
       "    function(Bokeh) {\n",
       "      Bokeh.set_log_level(\"info\");\n",
       "    },\n",
       "    function(Bokeh) {\n",
       "    \n",
       "    \n",
       "    }\n",
       "  ];\n",
       "\n",
       "  function run_inline_js() {\n",
       "    \n",
       "    if (root.Bokeh !== undefined || force === true) {\n",
       "      \n",
       "    for (let i = 0; i < inline_js.length; i++) {\n",
       "      inline_js[i].call(root, root.Bokeh);\n",
       "    }\n",
       "    if (force === true) {\n",
       "        display_loaded();\n",
       "      }} else if (Date.now() < root._bokeh_timeout) {\n",
       "      setTimeout(run_inline_js, 100);\n",
       "    } else if (!root._bokeh_failed_load) {\n",
       "      console.log(\"Bokeh: BokehJS failed to load within specified timeout.\");\n",
       "      root._bokeh_failed_load = true;\n",
       "    } else if (force !== true) {\n",
       "      const cell = $(document.getElementById(\"1875\")).parents('.cell').data().cell;\n",
       "      cell.output_area.append_execute_result(NB_LOAD_WARNING)\n",
       "    }\n",
       "\n",
       "  }\n",
       "\n",
       "  if (root._bokeh_is_loading === 0) {\n",
       "    console.debug(\"Bokeh: BokehJS loaded, going straight to plotting\");\n",
       "    run_inline_js();\n",
       "  } else {\n",
       "    load_libs(css_urls, js_urls, function() {\n",
       "      console.debug(\"Bokeh: BokehJS plotting callback run at\", now());\n",
       "      run_inline_js();\n",
       "    });\n",
       "  }\n",
       "}(window));"
      ],
      "application/vnd.bokehjs_load.v0+json": "\n(function(root) {\n  function now() {\n    return new Date();\n  }\n\n  const force = true;\n\n  if (typeof root._bokeh_onload_callbacks === \"undefined\" || force === true) {\n    root._bokeh_onload_callbacks = [];\n    root._bokeh_is_loading = undefined;\n  }\n\n  \n\n  \n  if (typeof (root._bokeh_timeout) === \"undefined\" || force === true) {\n    root._bokeh_timeout = Date.now() + 5000;\n    root._bokeh_failed_load = false;\n  }\n\n  const NB_LOAD_WARNING = {'data': {'text/html':\n     \"<div style='background-color: #fdd'>\\n\"+\n     \"<p>\\n\"+\n     \"BokehJS does not appear to have successfully loaded. If loading BokehJS from CDN, this \\n\"+\n     \"may be due to a slow or bad network connection. Possible fixes:\\n\"+\n     \"</p>\\n\"+\n     \"<ul>\\n\"+\n     \"<li>re-rerun `output_notebook()` to attempt to load from CDN again, or</li>\\n\"+\n     \"<li>use INLINE resources instead, as so:</li>\\n\"+\n     \"</ul>\\n\"+\n     \"<code>\\n\"+\n     \"from bokeh.resources import INLINE\\n\"+\n     \"output_notebook(resources=INLINE)\\n\"+\n     \"</code>\\n\"+\n     \"</div>\"}};\n\n  function display_loaded() {\n    const el = document.getElementById(\"1875\");\n    if (el != null) {\n      el.textContent = \"BokehJS is loading...\";\n    }\n    if (root.Bokeh !== undefined) {\n      if (el != null) {\n        el.textContent = \"BokehJS \" + root.Bokeh.version + \" successfully loaded.\";\n      }\n    } else if (Date.now() < root._bokeh_timeout) {\n      setTimeout(display_loaded, 100)\n    }\n  }\n\n\n  function run_callbacks() {\n    try {\n      root._bokeh_onload_callbacks.forEach(function(callback) {\n        if (callback != null)\n          callback();\n      });\n    } finally {\n      delete root._bokeh_onload_callbacks\n    }\n    console.debug(\"Bokeh: all callbacks have finished\");\n  }\n\n  function load_libs(css_urls, js_urls, callback) {\n    if (css_urls == null) css_urls = [];\n    if (js_urls == null) js_urls = [];\n\n    root._bokeh_onload_callbacks.push(callback);\n    if (root._bokeh_is_loading > 0) {\n      console.debug(\"Bokeh: BokehJS is being loaded, scheduling callback at\", now());\n      return null;\n    }\n    if (js_urls == null || js_urls.length === 0) {\n      run_callbacks();\n      return null;\n    }\n    console.debug(\"Bokeh: BokehJS not loaded, scheduling load and callback at\", now());\n    root._bokeh_is_loading = css_urls.length + js_urls.length;\n\n    function on_load() {\n      root._bokeh_is_loading--;\n      if (root._bokeh_is_loading === 0) {\n        console.debug(\"Bokeh: all BokehJS libraries/stylesheets loaded\");\n        run_callbacks()\n      }\n    }\n\n    function on_error(url) {\n      console.error(\"failed to load \" + url);\n    }\n\n    for (let i = 0; i < css_urls.length; i++) {\n      const url = css_urls[i];\n      const element = document.createElement(\"link\");\n      element.onload = on_load;\n      element.onerror = on_error.bind(null, url);\n      element.rel = \"stylesheet\";\n      element.type = \"text/css\";\n      element.href = url;\n      console.debug(\"Bokeh: injecting link tag for BokehJS stylesheet: \", url);\n      document.body.appendChild(element);\n    }\n\n    for (let i = 0; i < js_urls.length; i++) {\n      const url = js_urls[i];\n      const element = document.createElement('script');\n      element.onload = on_load;\n      element.onerror = on_error.bind(null, url);\n      element.async = false;\n      element.src = url;\n      console.debug(\"Bokeh: injecting script tag for BokehJS library: \", url);\n      document.head.appendChild(element);\n    }\n  };\n\n  function inject_raw_css(css) {\n    const element = document.createElement(\"style\");\n    element.appendChild(document.createTextNode(css));\n    document.body.appendChild(element);\n  }\n\n  \n  const js_urls = [\"https://cdn.bokeh.org/bokeh/release/bokeh-2.4.1.min.js\", \"https://cdn.bokeh.org/bokeh/release/bokeh-gl-2.4.1.min.js\", \"https://cdn.bokeh.org/bokeh/release/bokeh-widgets-2.4.1.min.js\", \"https://cdn.bokeh.org/bokeh/release/bokeh-tables-2.4.1.min.js\", \"https://cdn.bokeh.org/bokeh/release/bokeh-mathjax-2.4.1.min.js\"];\n  const css_urls = [];\n  \n\n  const inline_js = [\n    function(Bokeh) {\n      Bokeh.set_log_level(\"info\");\n    },\n    function(Bokeh) {\n    \n    \n    }\n  ];\n\n  function run_inline_js() {\n    \n    if (root.Bokeh !== undefined || force === true) {\n      \n    for (let i = 0; i < inline_js.length; i++) {\n      inline_js[i].call(root, root.Bokeh);\n    }\n    if (force === true) {\n        display_loaded();\n      }} else if (Date.now() < root._bokeh_timeout) {\n      setTimeout(run_inline_js, 100);\n    } else if (!root._bokeh_failed_load) {\n      console.log(\"Bokeh: BokehJS failed to load within specified timeout.\");\n      root._bokeh_failed_load = true;\n    } else if (force !== true) {\n      const cell = $(document.getElementById(\"1875\")).parents('.cell').data().cell;\n      cell.output_area.append_execute_result(NB_LOAD_WARNING)\n    }\n\n  }\n\n  if (root._bokeh_is_loading === 0) {\n    console.debug(\"Bokeh: BokehJS loaded, going straight to plotting\");\n    run_inline_js();\n  } else {\n    load_libs(css_urls, js_urls, function() {\n      console.debug(\"Bokeh: BokehJS plotting callback run at\", now());\n      run_inline_js();\n    });\n  }\n}(window));"
     },
     "metadata": {},
     "output_type": "display_data"
    }
   ],
   "source": [
    "pandas_bokeh.output_notebook()"
   ]
  },
  {
   "cell_type": "markdown",
   "metadata": {},
   "source": [
    "### Comparing Irish Revenue in Mushrooms in Euros vs Dollar"
   ]
  },
  {
   "cell_type": "code",
   "execution_count": 999,
   "metadata": {},
   "outputs": [
    {
     "data": {
      "text/html": [
       "<div>\n",
       "<style scoped>\n",
       "    .dataframe tbody tr th:only-of-type {\n",
       "        vertical-align: middle;\n",
       "    }\n",
       "\n",
       "    .dataframe tbody tr th {\n",
       "        vertical-align: top;\n",
       "    }\n",
       "\n",
       "    .dataframe thead th {\n",
       "        text-align: right;\n",
       "    }\n",
       "</style>\n",
       "<table border=\"1\" class=\"dataframe\">\n",
       "  <thead>\n",
       "    <tr style=\"text-align: right;\">\n",
       "      <th></th>\n",
       "      <th>Year</th>\n",
       "      <th>EUR$</th>\n",
       "      <th>Rate</th>\n",
       "      <th>US$</th>\n",
       "    </tr>\n",
       "  </thead>\n",
       "  <tbody>\n",
       "    <tr>\n",
       "      <th>512</th>\n",
       "      <td>1990</td>\n",
       "      <td>57.1</td>\n",
       "      <td>1.066116</td>\n",
       "      <td>60.875224</td>\n",
       "    </tr>\n",
       "    <tr>\n",
       "      <th>513</th>\n",
       "      <td>1991</td>\n",
       "      <td>63.5</td>\n",
       "      <td>1.066116</td>\n",
       "      <td>67.698366</td>\n",
       "    </tr>\n",
       "    <tr>\n",
       "      <th>514</th>\n",
       "      <td>1992</td>\n",
       "      <td>64.8</td>\n",
       "      <td>1.066116</td>\n",
       "      <td>69.084317</td>\n",
       "    </tr>\n",
       "    <tr>\n",
       "      <th>515</th>\n",
       "      <td>1993</td>\n",
       "      <td>68.1</td>\n",
       "      <td>1.066116</td>\n",
       "      <td>72.602500</td>\n",
       "    </tr>\n",
       "    <tr>\n",
       "      <th>516</th>\n",
       "      <td>1994</td>\n",
       "      <td>76.3</td>\n",
       "      <td>1.066116</td>\n",
       "      <td>81.344651</td>\n",
       "    </tr>\n",
       "    <tr>\n",
       "      <th>517</th>\n",
       "      <td>1995</td>\n",
       "      <td>78.0</td>\n",
       "      <td>1.066116</td>\n",
       "      <td>83.157048</td>\n",
       "    </tr>\n",
       "    <tr>\n",
       "      <th>518</th>\n",
       "      <td>1996</td>\n",
       "      <td>92.3</td>\n",
       "      <td>1.066116</td>\n",
       "      <td>98.402507</td>\n",
       "    </tr>\n",
       "    <tr>\n",
       "      <th>519</th>\n",
       "      <td>1997</td>\n",
       "      <td>101.9</td>\n",
       "      <td>1.066116</td>\n",
       "      <td>108.637220</td>\n",
       "    </tr>\n",
       "    <tr>\n",
       "      <th>520</th>\n",
       "      <td>1998</td>\n",
       "      <td>106.7</td>\n",
       "      <td>1.066116</td>\n",
       "      <td>113.754577</td>\n",
       "    </tr>\n",
       "    <tr>\n",
       "      <th>521</th>\n",
       "      <td>1999</td>\n",
       "      <td>111.4</td>\n",
       "      <td>1.066116</td>\n",
       "      <td>118.765322</td>\n",
       "    </tr>\n",
       "    <tr>\n",
       "      <th>522</th>\n",
       "      <td>2000</td>\n",
       "      <td>114.8</td>\n",
       "      <td>0.923498</td>\n",
       "      <td>106.017570</td>\n",
       "    </tr>\n",
       "    <tr>\n",
       "      <th>523</th>\n",
       "      <td>2001</td>\n",
       "      <td>115.6</td>\n",
       "      <td>0.895969</td>\n",
       "      <td>103.574016</td>\n",
       "    </tr>\n",
       "    <tr>\n",
       "      <th>524</th>\n",
       "      <td>2002</td>\n",
       "      <td>137.7</td>\n",
       "      <td>0.942468</td>\n",
       "      <td>129.777844</td>\n",
       "    </tr>\n",
       "    <tr>\n",
       "      <th>525</th>\n",
       "      <td>2003</td>\n",
       "      <td>124.5</td>\n",
       "      <td>1.134134</td>\n",
       "      <td>141.199683</td>\n",
       "    </tr>\n",
       "    <tr>\n",
       "      <th>526</th>\n",
       "      <td>2004</td>\n",
       "      <td>114.7</td>\n",
       "      <td>1.244143</td>\n",
       "      <td>142.703202</td>\n",
       "    </tr>\n",
       "    <tr>\n",
       "      <th>527</th>\n",
       "      <td>2005</td>\n",
       "      <td>110.0</td>\n",
       "      <td>1.246376</td>\n",
       "      <td>137.101360</td>\n",
       "    </tr>\n",
       "    <tr>\n",
       "      <th>528</th>\n",
       "      <td>2006</td>\n",
       "      <td>99.9</td>\n",
       "      <td>1.256316</td>\n",
       "      <td>125.505968</td>\n",
       "    </tr>\n",
       "    <tr>\n",
       "      <th>529</th>\n",
       "      <td>2007</td>\n",
       "      <td>99.6</td>\n",
       "      <td>1.370412</td>\n",
       "      <td>136.493035</td>\n",
       "    </tr>\n",
       "    <tr>\n",
       "      <th>530</th>\n",
       "      <td>2008</td>\n",
       "      <td>102.8</td>\n",
       "      <td>1.471366</td>\n",
       "      <td>151.256425</td>\n",
       "    </tr>\n",
       "    <tr>\n",
       "      <th>531</th>\n",
       "      <td>2009</td>\n",
       "      <td>98.8</td>\n",
       "      <td>1.394480</td>\n",
       "      <td>137.774624</td>\n",
       "    </tr>\n",
       "    <tr>\n",
       "      <th>532</th>\n",
       "      <td>2010</td>\n",
       "      <td>98.5</td>\n",
       "      <td>1.327386</td>\n",
       "      <td>130.747521</td>\n",
       "    </tr>\n",
       "    <tr>\n",
       "      <th>533</th>\n",
       "      <td>2011</td>\n",
       "      <td>100.2</td>\n",
       "      <td>1.392705</td>\n",
       "      <td>139.549041</td>\n",
       "    </tr>\n",
       "    <tr>\n",
       "      <th>534</th>\n",
       "      <td>2012</td>\n",
       "      <td>111.9</td>\n",
       "      <td>1.285697</td>\n",
       "      <td>143.869494</td>\n",
       "    </tr>\n",
       "    <tr>\n",
       "      <th>535</th>\n",
       "      <td>2013</td>\n",
       "      <td>121.5</td>\n",
       "      <td>1.328464</td>\n",
       "      <td>161.408376</td>\n",
       "    </tr>\n",
       "    <tr>\n",
       "      <th>536</th>\n",
       "      <td>2014</td>\n",
       "      <td>133.2</td>\n",
       "      <td>1.329165</td>\n",
       "      <td>177.044778</td>\n",
       "    </tr>\n",
       "    <tr>\n",
       "      <th>537</th>\n",
       "      <td>2015</td>\n",
       "      <td>137.0</td>\n",
       "      <td>1.109729</td>\n",
       "      <td>152.032873</td>\n",
       "    </tr>\n",
       "    <tr>\n",
       "      <th>538</th>\n",
       "      <td>2016</td>\n",
       "      <td>121.7</td>\n",
       "      <td>1.106560</td>\n",
       "      <td>134.668352</td>\n",
       "    </tr>\n",
       "    <tr>\n",
       "      <th>539</th>\n",
       "      <td>2017</td>\n",
       "      <td>118.2</td>\n",
       "      <td>1.130051</td>\n",
       "      <td>133.572028</td>\n",
       "    </tr>\n",
       "    <tr>\n",
       "      <th>540</th>\n",
       "      <td>2018</td>\n",
       "      <td>117.1</td>\n",
       "      <td>1.181011</td>\n",
       "      <td>138.296388</td>\n",
       "    </tr>\n",
       "    <tr>\n",
       "      <th>541</th>\n",
       "      <td>2019</td>\n",
       "      <td>119.2</td>\n",
       "      <td>1.120129</td>\n",
       "      <td>133.519377</td>\n",
       "    </tr>\n",
       "    <tr>\n",
       "      <th>542</th>\n",
       "      <td>2020</td>\n",
       "      <td>123.8</td>\n",
       "      <td>1.142203</td>\n",
       "      <td>141.404731</td>\n",
       "    </tr>\n",
       "  </tbody>\n",
       "</table>\n",
       "</div>"
      ],
      "text/plain": [
       "     Year   EUR$      Rate         US$\n",
       "512  1990   57.1  1.066116   60.875224\n",
       "513  1991   63.5  1.066116   67.698366\n",
       "514  1992   64.8  1.066116   69.084317\n",
       "515  1993   68.1  1.066116   72.602500\n",
       "516  1994   76.3  1.066116   81.344651\n",
       "517  1995   78.0  1.066116   83.157048\n",
       "518  1996   92.3  1.066116   98.402507\n",
       "519  1997  101.9  1.066116  108.637220\n",
       "520  1998  106.7  1.066116  113.754577\n",
       "521  1999  111.4  1.066116  118.765322\n",
       "522  2000  114.8  0.923498  106.017570\n",
       "523  2001  115.6  0.895969  103.574016\n",
       "524  2002  137.7  0.942468  129.777844\n",
       "525  2003  124.5  1.134134  141.199683\n",
       "526  2004  114.7  1.244143  142.703202\n",
       "527  2005  110.0  1.246376  137.101360\n",
       "528  2006   99.9  1.256316  125.505968\n",
       "529  2007   99.6  1.370412  136.493035\n",
       "530  2008  102.8  1.471366  151.256425\n",
       "531  2009   98.8  1.394480  137.774624\n",
       "532  2010   98.5  1.327386  130.747521\n",
       "533  2011  100.2  1.392705  139.549041\n",
       "534  2012  111.9  1.285697  143.869494\n",
       "535  2013  121.5  1.328464  161.408376\n",
       "536  2014  133.2  1.329165  177.044778\n",
       "537  2015  137.0  1.109729  152.032873\n",
       "538  2016  121.7  1.106560  134.668352\n",
       "539  2017  118.2  1.130051  133.572028\n",
       "540  2018  117.1  1.181011  138.296388\n",
       "541  2019  119.2  1.120129  133.519377\n",
       "542  2020  123.8  1.142203  141.404731"
      ]
     },
     "execution_count": 999,
     "metadata": {},
     "output_type": "execute_result"
    }
   ],
   "source": [
    "mushroom_value"
   ]
  },
  {
   "cell_type": "code",
   "execution_count": 1000,
   "metadata": {},
   "outputs": [
    {
     "data": {
      "text/html": [
       "\n",
       "\n",
       "\n",
       "\n",
       "\n",
       "\n",
       "  <div class=\"bk-root\" id=\"fd46c8c6-f7c1-41e4-8927-31ecb144d6f0\" data-root-id=\"1876\"></div>\n"
      ]
     },
     "metadata": {},
     "output_type": "display_data"
    },
    {
     "data": {
      "application/javascript": [
       "(function(root) {\n",
       "  function embed_document(root) {\n",
       "    \n",
       "  const docs_json = {\"02234f85-af25-4c67-9846-598084a22a6d\":{\"defs\":[],\"roots\":{\"references\":[{\"attributes\":{\"below\":[{\"id\":\"1887\"}],\"center\":[{\"id\":\"1890\"},{\"id\":\"1894\"},{\"id\":\"1926\"}],\"height\":400,\"left\":[{\"id\":\"1891\"}],\"output_backend\":\"webgl\",\"renderers\":[{\"id\":\"1914\"},{\"id\":\"1935\"},{\"id\":\"1957\"},{\"id\":\"1981\"}],\"sizing_mode\":\"fixed\",\"title\":{\"id\":\"1877\"},\"toolbar\":{\"id\":\"1902\"},\"x_range\":{\"id\":\"1879\"},\"x_scale\":{\"id\":\"1883\"},\"y_range\":{\"id\":\"1881\"},\"y_scale\":{\"id\":\"1885\"}},\"id\":\"1876\",\"subtype\":\"Figure\",\"type\":\"Plot\"},{\"attributes\":{\"callback\":null,\"mode\":\"vline\",\"renderers\":[{\"id\":\"1935\"}],\"tooltips\":[[\"Year\",\"@__x__values_original\"],[\"EUR$\",\"@{EUR$}\"]]},\"id\":\"1950\",\"type\":\"HoverTool\"},{\"attributes\":{\"bottom_units\":\"screen\",\"coordinates\":null,\"fill_alpha\":0.5,\"fill_color\":\"lightgrey\",\"group\":null,\"left_units\":\"screen\",\"level\":\"overlay\",\"line_alpha\":1.0,\"line_color\":\"black\",\"line_dash\":[4,4],\"line_width\":2,\"right_units\":\"screen\",\"syncable\":false,\"top_units\":\"screen\"},\"id\":\"1901\",\"type\":\"BoxAnnotation\"},{\"attributes\":{\"coordinates\":null,\"data_source\":{\"id\":\"1930\"},\"glyph\":{\"id\":\"1932\"},\"group\":null,\"hover_glyph\":null,\"muted_glyph\":{\"id\":\"1934\"},\"nonselection_glyph\":{\"id\":\"1933\"},\"view\":{\"id\":\"1936\"}},\"id\":\"1935\",\"type\":\"GlyphRenderer\"},{\"attributes\":{\"data\":{\"EUR$\":{\"__ndarray__\":\"zczMzMyMTEAAAAAAAMBPQDMzMzMzM1BAZmZmZmYGUUAzMzMzMxNTQAAAAAAAgFNAMzMzMzMTV0CamZmZmXlZQM3MzMzMrFpAmpmZmZnZW0AzMzMzM7NcQGZmZmZm5lxAZmZmZmY2YUAAAAAAACBfQM3MzMzMrFxAAAAAAACAW0CamZmZmflYQGZmZmZm5lhAMzMzMzOzWUAzMzMzM7NYQAAAAAAAoFhAzczMzMwMWUCamZmZmflbQAAAAAAAYF5AZmZmZmamYEAAAAAAACBhQM3MzMzMbF5AzczMzMyMXUBmZmZmZkZdQM3MzMzMzF1AMzMzMzPzXkA=\",\"dtype\":\"float64\",\"order\":\"little\",\"shape\":[31]},\"Rate\":{\"__ndarray__\":\"nOCbps8O8T+c4Jumzw7xP5zgm6bPDvE/nOCbps8O8T+c4Jumzw7xP5zgm6bPDvE/nOCbps8O8T+c4Jumzw7xP5zgm6bPDvE/nOCbps8O8T8tfH2tS43tP7haJy7Hq+w/UdmwprIo7j+ygXSxaSXyP9vBiH0C6PM/CU/o9Sfx8z+IEFfO3hn0Pzi8ICI17fU/MSQnE7eK9z850a5Cyk/2Py2xMhr5PPU/Y5y/CYVI9j+FC3kEN5L0Pw+dnndjQfU/Mc7fhEJE9T+5wyYyc8HxP/j8MEJ4tPE/WP58W7AU8j/JdVPKa+XyP6bR5GIM7PE/F0omp3ZG8j8=\",\"dtype\":\"float64\",\"order\":\"little\",\"shape\":[31]},\"US$\":{\"__ndarray__\":\"/VexUwdwTkDbqE4HsuxQQDegSnJlRVFAmXZ7Wo8mUkCTojrCDlZUQL75DRMNylRAuprhq8KZWEAGlhI4yChbQKsTK/5KcFxAXbnNCvuwXUArWJnfH4FaQIdXSK+85FlA5OxCGOQ4YEAmUprNY6ZhQFC/sKGA1mFA7KNTVz4jYUDOs0jJYWBfQNt4wfHGD2FARDzIoTToYkBLVkW4yThhQFgCKbHrV2BAOWVuvpFxYUDf0bXl0vthQBWPi2oRLWRAkbJF0m4hZkB8fa1LDQFjQOvGuyNj1WBAeWwVDk6yYECOjeUCfElhQKNJGLyesGBAQtVDj/OsYUA=\",\"dtype\":\"float64\",\"order\":\"little\",\"shape\":[31]},\"Year\":[1990,1991,1992,1993,1994,1995,1996,1997,1998,1999,2000,2001,2002,2003,2004,2005,2006,2007,2008,2009,2010,2011,2012,2013,2014,2015,2016,2017,2018,2019,2020],\"__x__values\":[1990,1991,1992,1993,1994,1995,1996,1997,1998,1999,2000,2001,2002,2003,2004,2005,2006,2007,2008,2009,2010,2011,2012,2013,2014,2015,2016,2017,2018,2019,2020],\"__x__values_original\":[1990,1991,1992,1993,1994,1995,1996,1997,1998,1999,2000,2001,2002,2003,2004,2005,2006,2007,2008,2009,2010,2011,2012,2013,2014,2015,2016,2017,2018,2019,2020]},\"selected\":{\"id\":\"1947\"},\"selection_policy\":{\"id\":\"1946\"}},\"id\":\"1930\",\"type\":\"ColumnDataSource\"},{\"attributes\":{\"line_color\":\"#ff7f0e\",\"line_width\":2,\"x\":{\"field\":\"__x__values\"},\"y\":{\"field\":\"EUR$\"}},\"id\":\"1932\",\"type\":\"Line\"},{\"attributes\":{\"line_alpha\":0.2,\"line_color\":\"#ff7f0e\",\"line_width\":2,\"x\":{\"field\":\"__x__values\"},\"y\":{\"field\":\"EUR$\"}},\"id\":\"1934\",\"type\":\"Line\"},{\"attributes\":{},\"id\":\"1898\",\"type\":\"SaveTool\"},{\"attributes\":{\"callback\":null,\"mode\":\"vline\",\"renderers\":[{\"id\":\"1957\"}],\"tooltips\":[[\"Year\",\"@__x__values_original\"],[\"Rate\",\"@{Rate}\"]]},\"id\":\"1974\",\"type\":\"HoverTool\"},{\"attributes\":{\"line_color\":\"#2ca02c\",\"line_width\":2,\"x\":{\"field\":\"__x__values\"},\"y\":{\"field\":\"Rate\"}},\"id\":\"1954\",\"type\":\"Line\"},{\"attributes\":{\"line_alpha\":0.1,\"line_color\":\"#ff7f0e\",\"line_width\":2,\"x\":{\"field\":\"__x__values\"},\"y\":{\"field\":\"EUR$\"}},\"id\":\"1933\",\"type\":\"Line\"},{\"attributes\":{\"coordinates\":null,\"data_source\":{\"id\":\"1952\"},\"glyph\":{\"id\":\"1954\"},\"group\":null,\"hover_glyph\":null,\"muted_glyph\":{\"id\":\"1956\"},\"nonselection_glyph\":{\"id\":\"1955\"},\"view\":{\"id\":\"1958\"}},\"id\":\"1957\",\"type\":\"GlyphRenderer\"},{\"attributes\":{\"source\":{\"id\":\"1930\"}},\"id\":\"1936\",\"type\":\"CDSView\"},{\"attributes\":{},\"id\":\"1918\",\"type\":\"BasicTickFormatter\"},{\"attributes\":{\"data\":{\"EUR$\":{\"__ndarray__\":\"zczMzMyMTEAAAAAAAMBPQDMzMzMzM1BAZmZmZmYGUUAzMzMzMxNTQAAAAAAAgFNAMzMzMzMTV0CamZmZmXlZQM3MzMzMrFpAmpmZmZnZW0AzMzMzM7NcQGZmZmZm5lxAZmZmZmY2YUAAAAAAACBfQM3MzMzMrFxAAAAAAACAW0CamZmZmflYQGZmZmZm5lhAMzMzMzOzWUAzMzMzM7NYQAAAAAAAoFhAzczMzMwMWUCamZmZmflbQAAAAAAAYF5AZmZmZmamYEAAAAAAACBhQM3MzMzMbF5AzczMzMyMXUBmZmZmZkZdQM3MzMzMzF1AMzMzMzPzXkA=\",\"dtype\":\"float64\",\"order\":\"little\",\"shape\":[31]},\"Rate\":{\"__ndarray__\":\"nOCbps8O8T+c4Jumzw7xP5zgm6bPDvE/nOCbps8O8T+c4Jumzw7xP5zgm6bPDvE/nOCbps8O8T+c4Jumzw7xP5zgm6bPDvE/nOCbps8O8T8tfH2tS43tP7haJy7Hq+w/UdmwprIo7j+ygXSxaSXyP9vBiH0C6PM/CU/o9Sfx8z+IEFfO3hn0Pzi8ICI17fU/MSQnE7eK9z850a5Cyk/2Py2xMhr5PPU/Y5y/CYVI9j+FC3kEN5L0Pw+dnndjQfU/Mc7fhEJE9T+5wyYyc8HxP/j8MEJ4tPE/WP58W7AU8j/JdVPKa+XyP6bR5GIM7PE/F0omp3ZG8j8=\",\"dtype\":\"float64\",\"order\":\"little\",\"shape\":[31]},\"US$\":{\"__ndarray__\":\"/VexUwdwTkDbqE4HsuxQQDegSnJlRVFAmXZ7Wo8mUkCTojrCDlZUQL75DRMNylRAuprhq8KZWEAGlhI4yChbQKsTK/5KcFxAXbnNCvuwXUArWJnfH4FaQIdXSK+85FlA5OxCGOQ4YEAmUprNY6ZhQFC/sKGA1mFA7KNTVz4jYUDOs0jJYWBfQNt4wfHGD2FARDzIoTToYkBLVkW4yThhQFgCKbHrV2BAOWVuvpFxYUDf0bXl0vthQBWPi2oRLWRAkbJF0m4hZkB8fa1LDQFjQOvGuyNj1WBAeWwVDk6yYECOjeUCfElhQKNJGLyesGBAQtVDj/OsYUA=\",\"dtype\":\"float64\",\"order\":\"little\",\"shape\":[31]},\"Year\":[1990,1991,1992,1993,1994,1995,1996,1997,1998,1999,2000,2001,2002,2003,2004,2005,2006,2007,2008,2009,2010,2011,2012,2013,2014,2015,2016,2017,2018,2019,2020],\"__x__values\":[1990,1991,1992,1993,1994,1995,1996,1997,1998,1999,2000,2001,2002,2003,2004,2005,2006,2007,2008,2009,2010,2011,2012,2013,2014,2015,2016,2017,2018,2019,2020],\"__x__values_original\":[1990,1991,1992,1993,1994,1995,1996,1997,1998,1999,2000,2001,2002,2003,2004,2005,2006,2007,2008,2009,2010,2011,2012,2013,2014,2015,2016,2017,2018,2019,2020]},\"selected\":{\"id\":\"1971\"},\"selection_policy\":{\"id\":\"1970\"}},\"id\":\"1952\",\"type\":\"ColumnDataSource\"},{\"attributes\":{\"callback\":null,\"mode\":\"vline\",\"renderers\":[{\"id\":\"1914\"}],\"tooltips\":[[\"Year\",\"@__x__values_original\"],[\"Year\",\"@{Year}\"]]},\"id\":\"1928\",\"type\":\"HoverTool\"},{\"attributes\":{\"callback\":null,\"mode\":\"vline\",\"renderers\":[{\"id\":\"1981\"}],\"tooltips\":[[\"Year\",\"@__x__values_original\"],[\"US$\",\"@{US$}\"]]},\"id\":\"2000\",\"type\":\"HoverTool\"},{\"attributes\":{\"data\":{\"EUR$\":{\"__ndarray__\":\"zczMzMyMTEAAAAAAAMBPQDMzMzMzM1BAZmZmZmYGUUAzMzMzMxNTQAAAAAAAgFNAMzMzMzMTV0CamZmZmXlZQM3MzMzMrFpAmpmZmZnZW0AzMzMzM7NcQGZmZmZm5lxAZmZmZmY2YUAAAAAAACBfQM3MzMzMrFxAAAAAAACAW0CamZmZmflYQGZmZmZm5lhAMzMzMzOzWUAzMzMzM7NYQAAAAAAAoFhAzczMzMwMWUCamZmZmflbQAAAAAAAYF5AZmZmZmamYEAAAAAAACBhQM3MzMzMbF5AzczMzMyMXUBmZmZmZkZdQM3MzMzMzF1AMzMzMzPzXkA=\",\"dtype\":\"float64\",\"order\":\"little\",\"shape\":[31]},\"Rate\":{\"__ndarray__\":\"nOCbps8O8T+c4Jumzw7xP5zgm6bPDvE/nOCbps8O8T+c4Jumzw7xP5zgm6bPDvE/nOCbps8O8T+c4Jumzw7xP5zgm6bPDvE/nOCbps8O8T8tfH2tS43tP7haJy7Hq+w/UdmwprIo7j+ygXSxaSXyP9vBiH0C6PM/CU/o9Sfx8z+IEFfO3hn0Pzi8ICI17fU/MSQnE7eK9z850a5Cyk/2Py2xMhr5PPU/Y5y/CYVI9j+FC3kEN5L0Pw+dnndjQfU/Mc7fhEJE9T+5wyYyc8HxP/j8MEJ4tPE/WP58W7AU8j/JdVPKa+XyP6bR5GIM7PE/F0omp3ZG8j8=\",\"dtype\":\"float64\",\"order\":\"little\",\"shape\":[31]},\"US$\":{\"__ndarray__\":\"/VexUwdwTkDbqE4HsuxQQDegSnJlRVFAmXZ7Wo8mUkCTojrCDlZUQL75DRMNylRAuprhq8KZWEAGlhI4yChbQKsTK/5KcFxAXbnNCvuwXUArWJnfH4FaQIdXSK+85FlA5OxCGOQ4YEAmUprNY6ZhQFC/sKGA1mFA7KNTVz4jYUDOs0jJYWBfQNt4wfHGD2FARDzIoTToYkBLVkW4yThhQFgCKbHrV2BAOWVuvpFxYUDf0bXl0vthQBWPi2oRLWRAkbJF0m4hZkB8fa1LDQFjQOvGuyNj1WBAeWwVDk6yYECOjeUCfElhQKNJGLyesGBAQtVDj/OsYUA=\",\"dtype\":\"float64\",\"order\":\"little\",\"shape\":[31]},\"Year\":[1990,1991,1992,1993,1994,1995,1996,1997,1998,1999,2000,2001,2002,2003,2004,2005,2006,2007,2008,2009,2010,2011,2012,2013,2014,2015,2016,2017,2018,2019,2020],\"__x__values\":[1990,1991,1992,1993,1994,1995,1996,1997,1998,1999,2000,2001,2002,2003,2004,2005,2006,2007,2008,2009,2010,2011,2012,2013,2014,2015,2016,2017,2018,2019,2020],\"__x__values_original\":[1990,1991,1992,1993,1994,1995,1996,1997,1998,1999,2000,2001,2002,2003,2004,2005,2006,2007,2008,2009,2010,2011,2012,2013,2014,2015,2016,2017,2018,2019,2020]},\"selected\":{\"id\":\"1924\"},\"selection_policy\":{\"id\":\"1923\"}},\"id\":\"1909\",\"type\":\"ColumnDataSource\"},{\"attributes\":{\"line_alpha\":0.2,\"line_color\":\"#2ca02c\",\"line_width\":2,\"x\":{\"field\":\"__x__values\"},\"y\":{\"field\":\"Rate\"}},\"id\":\"1956\",\"type\":\"Line\"},{\"attributes\":{\"label\":{\"value\":\" EUR$\"},\"renderers\":[{\"id\":\"1935\"}]},\"id\":\"1949\",\"type\":\"LegendItem\"},{\"attributes\":{\"line_color\":\"#1f77b4\",\"line_width\":2,\"x\":{\"field\":\"__x__values\"},\"y\":{\"field\":\"Year\"}},\"id\":\"1911\",\"type\":\"Line\"},{\"attributes\":{},\"id\":\"1919\",\"type\":\"AllLabels\"},{\"attributes\":{},\"id\":\"1946\",\"type\":\"UnionRenderers\"},{\"attributes\":{\"line_color\":\"#d62728\",\"line_width\":2,\"x\":{\"field\":\"__x__values\"},\"y\":{\"field\":\"US$\"}},\"id\":\"1978\",\"type\":\"Line\"},{\"attributes\":{\"coordinates\":null,\"data_source\":{\"id\":\"1909\"},\"glyph\":{\"id\":\"1911\"},\"group\":null,\"hover_glyph\":null,\"muted_glyph\":{\"id\":\"1913\"},\"nonselection_glyph\":{\"id\":\"1912\"},\"view\":{\"id\":\"1915\"}},\"id\":\"1914\",\"type\":\"GlyphRenderer\"},{\"attributes\":{\"coordinates\":null,\"data_source\":{\"id\":\"1976\"},\"glyph\":{\"id\":\"1978\"},\"group\":null,\"hover_glyph\":null,\"muted_glyph\":{\"id\":\"1980\"},\"nonselection_glyph\":{\"id\":\"1979\"},\"view\":{\"id\":\"1982\"}},\"id\":\"1981\",\"type\":\"GlyphRenderer\"},{\"attributes\":{\"line_alpha\":0.1,\"line_color\":\"#2ca02c\",\"line_width\":2,\"x\":{\"field\":\"__x__values\"},\"y\":{\"field\":\"Rate\"}},\"id\":\"1955\",\"type\":\"Line\"},{\"attributes\":{},\"id\":\"1970\",\"type\":\"UnionRenderers\"},{\"attributes\":{\"overlay\":{\"id\":\"1901\"}},\"id\":\"1897\",\"type\":\"BoxZoomTool\"},{\"attributes\":{},\"id\":\"1921\",\"type\":\"BasicTickFormatter\"},{\"attributes\":{\"source\":{\"id\":\"1952\"}},\"id\":\"1958\",\"type\":\"CDSView\"},{\"attributes\":{\"data\":{\"EUR$\":{\"__ndarray__\":\"zczMzMyMTEAAAAAAAMBPQDMzMzMzM1BAZmZmZmYGUUAzMzMzMxNTQAAAAAAAgFNAMzMzMzMTV0CamZmZmXlZQM3MzMzMrFpAmpmZmZnZW0AzMzMzM7NcQGZmZmZm5lxAZmZmZmY2YUAAAAAAACBfQM3MzMzMrFxAAAAAAACAW0CamZmZmflYQGZmZmZm5lhAMzMzMzOzWUAzMzMzM7NYQAAAAAAAoFhAzczMzMwMWUCamZmZmflbQAAAAAAAYF5AZmZmZmamYEAAAAAAACBhQM3MzMzMbF5AzczMzMyMXUBmZmZmZkZdQM3MzMzMzF1AMzMzMzPzXkA=\",\"dtype\":\"float64\",\"order\":\"little\",\"shape\":[31]},\"Rate\":{\"__ndarray__\":\"nOCbps8O8T+c4Jumzw7xP5zgm6bPDvE/nOCbps8O8T+c4Jumzw7xP5zgm6bPDvE/nOCbps8O8T+c4Jumzw7xP5zgm6bPDvE/nOCbps8O8T8tfH2tS43tP7haJy7Hq+w/UdmwprIo7j+ygXSxaSXyP9vBiH0C6PM/CU/o9Sfx8z+IEFfO3hn0Pzi8ICI17fU/MSQnE7eK9z850a5Cyk/2Py2xMhr5PPU/Y5y/CYVI9j+FC3kEN5L0Pw+dnndjQfU/Mc7fhEJE9T+5wyYyc8HxP/j8MEJ4tPE/WP58W7AU8j/JdVPKa+XyP6bR5GIM7PE/F0omp3ZG8j8=\",\"dtype\":\"float64\",\"order\":\"little\",\"shape\":[31]},\"US$\":{\"__ndarray__\":\"/VexUwdwTkDbqE4HsuxQQDegSnJlRVFAmXZ7Wo8mUkCTojrCDlZUQL75DRMNylRAuprhq8KZWEAGlhI4yChbQKsTK/5KcFxAXbnNCvuwXUArWJnfH4FaQIdXSK+85FlA5OxCGOQ4YEAmUprNY6ZhQFC/sKGA1mFA7KNTVz4jYUDOs0jJYWBfQNt4wfHGD2FARDzIoTToYkBLVkW4yThhQFgCKbHrV2BAOWVuvpFxYUDf0bXl0vthQBWPi2oRLWRAkbJF0m4hZkB8fa1LDQFjQOvGuyNj1WBAeWwVDk6yYECOjeUCfElhQKNJGLyesGBAQtVDj/OsYUA=\",\"dtype\":\"float64\",\"order\":\"little\",\"shape\":[31]},\"Year\":[1990,1991,1992,1993,1994,1995,1996,1997,1998,1999,2000,2001,2002,2003,2004,2005,2006,2007,2008,2009,2010,2011,2012,2013,2014,2015,2016,2017,2018,2019,2020],\"__x__values\":[1990,1991,1992,1993,1994,1995,1996,1997,1998,1999,2000,2001,2002,2003,2004,2005,2006,2007,2008,2009,2010,2011,2012,2013,2014,2015,2016,2017,2018,2019,2020],\"__x__values_original\":[1990,1991,1992,1993,1994,1995,1996,1997,1998,1999,2000,2001,2002,2003,2004,2005,2006,2007,2008,2009,2010,2011,2012,2013,2014,2015,2016,2017,2018,2019,2020]},\"selected\":{\"id\":\"1997\"},\"selection_policy\":{\"id\":\"1996\"}},\"id\":\"1976\",\"type\":\"ColumnDataSource\"},{\"attributes\":{},\"id\":\"1896\",\"type\":\"WheelZoomTool\"},{\"attributes\":{\"line_alpha\":0.2,\"line_color\":\"#1f77b4\",\"line_width\":2,\"x\":{\"field\":\"__x__values\"},\"y\":{\"field\":\"Year\"}},\"id\":\"1913\",\"type\":\"Line\"},{\"attributes\":{\"line_alpha\":0.2,\"line_color\":\"#d62728\",\"line_width\":2,\"x\":{\"field\":\"__x__values\"},\"y\":{\"field\":\"US$\"}},\"id\":\"1980\",\"type\":\"Line\"},{\"attributes\":{\"label\":{\"value\":\" Rate\"},\"renderers\":[{\"id\":\"1957\"}]},\"id\":\"1973\",\"type\":\"LegendItem\"},{\"attributes\":{},\"id\":\"1947\",\"type\":\"Selection\"},{\"attributes\":{},\"id\":\"1899\",\"type\":\"ResetTool\"},{\"attributes\":{},\"id\":\"1922\",\"type\":\"AllLabels\"},{\"attributes\":{\"click_policy\":\"hide\",\"coordinates\":null,\"group\":null,\"items\":[{\"id\":\"1927\"},{\"id\":\"1949\"},{\"id\":\"1973\"},{\"id\":\"1999\"}]},\"id\":\"1926\",\"type\":\"Legend\"},{\"attributes\":{\"axis\":{\"id\":\"1891\"},\"coordinates\":null,\"dimension\":1,\"group\":null,\"ticker\":null},\"id\":\"1894\",\"type\":\"Grid\"},{\"attributes\":{},\"id\":\"1971\",\"type\":\"Selection\"},{\"attributes\":{\"line_alpha\":0.1,\"line_color\":\"#1f77b4\",\"line_width\":2,\"x\":{\"field\":\"__x__values\"},\"y\":{\"field\":\"Year\"}},\"id\":\"1912\",\"type\":\"Line\"},{\"attributes\":{\"line_alpha\":0.1,\"line_color\":\"#d62728\",\"line_width\":2,\"x\":{\"field\":\"__x__values\"},\"y\":{\"field\":\"US$\"}},\"id\":\"1979\",\"type\":\"Line\"},{\"attributes\":{},\"id\":\"1895\",\"type\":\"PanTool\"},{\"attributes\":{},\"id\":\"1892\",\"type\":\"BasicTicker\"},{\"attributes\":{},\"id\":\"1996\",\"type\":\"UnionRenderers\"},{\"attributes\":{\"source\":{\"id\":\"1909\"}},\"id\":\"1915\",\"type\":\"CDSView\"},{\"attributes\":{\"source\":{\"id\":\"1976\"}},\"id\":\"1982\",\"type\":\"CDSView\"},{\"attributes\":{\"label\":{\"value\":\" US$\"},\"renderers\":[{\"id\":\"1981\"}]},\"id\":\"1999\",\"type\":\"LegendItem\"},{\"attributes\":{},\"id\":\"1900\",\"type\":\"HelpTool\"},{\"attributes\":{},\"id\":\"1997\",\"type\":\"Selection\"},{\"attributes\":{\"label\":{\"value\":\" Year\"},\"renderers\":[{\"id\":\"1914\"}]},\"id\":\"1927\",\"type\":\"LegendItem\"},{\"attributes\":{},\"id\":\"1885\",\"type\":\"LinearScale\"},{\"attributes\":{\"coordinates\":null,\"formatter\":{\"id\":\"1918\"},\"group\":null,\"major_label_policy\":{\"id\":\"1919\"},\"ticker\":{\"id\":\"1892\"}},\"id\":\"1891\",\"type\":\"LinearAxis\"},{\"attributes\":{\"axis_label\":\"Year\",\"coordinates\":null,\"formatter\":{\"id\":\"1921\"},\"group\":null,\"major_label_policy\":{\"id\":\"1922\"},\"ticker\":{\"id\":\"1888\"}},\"id\":\"1887\",\"type\":\"LinearAxis\"},{\"attributes\":{},\"id\":\"1923\",\"type\":\"UnionRenderers\"},{\"attributes\":{},\"id\":\"1888\",\"type\":\"BasicTicker\"},{\"attributes\":{\"coordinates\":null,\"group\":null},\"id\":\"1877\",\"type\":\"Title\"},{\"attributes\":{},\"id\":\"1881\",\"type\":\"DataRange1d\"},{\"attributes\":{},\"id\":\"1924\",\"type\":\"Selection\"},{\"attributes\":{\"axis\":{\"id\":\"1887\"},\"coordinates\":null,\"group\":null,\"ticker\":null},\"id\":\"1890\",\"type\":\"Grid\"},{\"attributes\":{},\"id\":\"1879\",\"type\":\"DataRange1d\"},{\"attributes\":{},\"id\":\"1883\",\"type\":\"LinearScale\"},{\"attributes\":{\"active_scroll\":{\"id\":\"1896\"},\"tools\":[{\"id\":\"1895\"},{\"id\":\"1896\"},{\"id\":\"1897\"},{\"id\":\"1898\"},{\"id\":\"1899\"},{\"id\":\"1900\"},{\"id\":\"1928\"},{\"id\":\"1950\"},{\"id\":\"1974\"},{\"id\":\"2000\"}]},\"id\":\"1902\",\"type\":\"Toolbar\"}],\"root_ids\":[\"1876\"]},\"title\":\"Bokeh Application\",\"version\":\"2.4.1\"}};\n",
       "  const render_items = [{\"docid\":\"02234f85-af25-4c67-9846-598084a22a6d\",\"root_ids\":[\"1876\"],\"roots\":{\"1876\":\"fd46c8c6-f7c1-41e4-8927-31ecb144d6f0\"}}];\n",
       "  root.Bokeh.embed.embed_items_notebook(docs_json, render_items);\n",
       "\n",
       "  }\n",
       "  if (root.Bokeh !== undefined) {\n",
       "    embed_document(root);\n",
       "  } else {\n",
       "    let attempts = 0;\n",
       "    const timer = setInterval(function(root) {\n",
       "      if (root.Bokeh !== undefined) {\n",
       "        clearInterval(timer);\n",
       "        embed_document(root);\n",
       "      } else {\n",
       "        attempts++;\n",
       "        if (attempts > 100) {\n",
       "          clearInterval(timer);\n",
       "          console.log(\"Bokeh: ERROR: Unable to run BokehJS code because BokehJS library is missing\");\n",
       "        }\n",
       "      }\n",
       "    }, 10, root)\n",
       "  }\n",
       "})(window);"
      ],
      "application/vnd.bokehjs_exec.v0+json": ""
     },
     "metadata": {
      "application/vnd.bokehjs_exec.v0+json": {
       "id": "1876"
      }
     },
     "output_type": "display_data"
    },
    {
     "data": {
      "text/html": [
       "<div style=\"display: table;\"><div style=\"display: table-row;\"><div style=\"display: table-cell;\"><b title=\"bokeh.plotting.figure.Figure\">Figure</b>(</div><div style=\"display: table-cell;\">id&nbsp;=&nbsp;'1876', <span id=\"2099\" style=\"cursor: pointer;\">&hellip;)</span></div></div><div class=\"2098\" style=\"display: none;\"><div style=\"display: table-cell;\"></div><div style=\"display: table-cell;\">above&nbsp;=&nbsp;[],</div></div><div class=\"2098\" style=\"display: none;\"><div style=\"display: table-cell;\"></div><div style=\"display: table-cell;\">align&nbsp;=&nbsp;'start',</div></div><div class=\"2098\" style=\"display: none;\"><div style=\"display: table-cell;\"></div><div style=\"display: table-cell;\">aspect_ratio&nbsp;=&nbsp;None,</div></div><div class=\"2098\" style=\"display: none;\"><div style=\"display: table-cell;\"></div><div style=\"display: table-cell;\">aspect_scale&nbsp;=&nbsp;1,</div></div><div class=\"2098\" style=\"display: none;\"><div style=\"display: table-cell;\"></div><div style=\"display: table-cell;\">background&nbsp;=&nbsp;None,</div></div><div class=\"2098\" style=\"display: none;\"><div style=\"display: table-cell;\"></div><div style=\"display: table-cell;\">background_fill_alpha&nbsp;=&nbsp;1.0,</div></div><div class=\"2098\" style=\"display: none;\"><div style=\"display: table-cell;\"></div><div style=\"display: table-cell;\">background_fill_color&nbsp;=&nbsp;'#ffffff',</div></div><div class=\"2098\" style=\"display: none;\"><div style=\"display: table-cell;\"></div><div style=\"display: table-cell;\">below&nbsp;=&nbsp;[LinearAxis(id='1887', ...)],</div></div><div class=\"2098\" style=\"display: none;\"><div style=\"display: table-cell;\"></div><div style=\"display: table-cell;\">border_fill_alpha&nbsp;=&nbsp;1.0,</div></div><div class=\"2098\" style=\"display: none;\"><div style=\"display: table-cell;\"></div><div style=\"display: table-cell;\">border_fill_color&nbsp;=&nbsp;'#ffffff',</div></div><div class=\"2098\" style=\"display: none;\"><div style=\"display: table-cell;\"></div><div style=\"display: table-cell;\">center&nbsp;=&nbsp;[Grid(id='1890', ...), Grid(id='1894', ...), Legend(id='1926', ...)],</div></div><div class=\"2098\" style=\"display: none;\"><div style=\"display: table-cell;\"></div><div style=\"display: table-cell;\">css_classes&nbsp;=&nbsp;[],</div></div><div class=\"2098\" style=\"display: none;\"><div style=\"display: table-cell;\"></div><div style=\"display: table-cell;\">disabled&nbsp;=&nbsp;False,</div></div><div class=\"2098\" style=\"display: none;\"><div style=\"display: table-cell;\"></div><div style=\"display: table-cell;\">extra_x_ranges&nbsp;=&nbsp;{},</div></div><div class=\"2098\" style=\"display: none;\"><div style=\"display: table-cell;\"></div><div style=\"display: table-cell;\">extra_x_scales&nbsp;=&nbsp;{},</div></div><div class=\"2098\" style=\"display: none;\"><div style=\"display: table-cell;\"></div><div style=\"display: table-cell;\">extra_y_ranges&nbsp;=&nbsp;{},</div></div><div class=\"2098\" style=\"display: none;\"><div style=\"display: table-cell;\"></div><div style=\"display: table-cell;\">extra_y_scales&nbsp;=&nbsp;{},</div></div><div class=\"2098\" style=\"display: none;\"><div style=\"display: table-cell;\"></div><div style=\"display: table-cell;\">frame_height&nbsp;=&nbsp;None,</div></div><div class=\"2098\" style=\"display: none;\"><div style=\"display: table-cell;\"></div><div style=\"display: table-cell;\">frame_width&nbsp;=&nbsp;None,</div></div><div class=\"2098\" style=\"display: none;\"><div style=\"display: table-cell;\"></div><div style=\"display: table-cell;\">height&nbsp;=&nbsp;400,</div></div><div class=\"2098\" style=\"display: none;\"><div style=\"display: table-cell;\"></div><div style=\"display: table-cell;\">height_policy&nbsp;=&nbsp;'auto',</div></div><div class=\"2098\" style=\"display: none;\"><div style=\"display: table-cell;\"></div><div style=\"display: table-cell;\">hidpi&nbsp;=&nbsp;True,</div></div><div class=\"2098\" style=\"display: none;\"><div style=\"display: table-cell;\"></div><div style=\"display: table-cell;\">inner_height&nbsp;=&nbsp;0,</div></div><div class=\"2098\" style=\"display: none;\"><div style=\"display: table-cell;\"></div><div style=\"display: table-cell;\">inner_width&nbsp;=&nbsp;0,</div></div><div class=\"2098\" style=\"display: none;\"><div style=\"display: table-cell;\"></div><div style=\"display: table-cell;\">js_event_callbacks&nbsp;=&nbsp;{},</div></div><div class=\"2098\" style=\"display: none;\"><div style=\"display: table-cell;\"></div><div style=\"display: table-cell;\">js_property_callbacks&nbsp;=&nbsp;{},</div></div><div class=\"2098\" style=\"display: none;\"><div style=\"display: table-cell;\"></div><div style=\"display: table-cell;\">left&nbsp;=&nbsp;[LinearAxis(id='1891', ...)],</div></div><div class=\"2098\" style=\"display: none;\"><div style=\"display: table-cell;\"></div><div style=\"display: table-cell;\">lod_factor&nbsp;=&nbsp;10,</div></div><div class=\"2098\" style=\"display: none;\"><div style=\"display: table-cell;\"></div><div style=\"display: table-cell;\">lod_interval&nbsp;=&nbsp;300,</div></div><div class=\"2098\" style=\"display: none;\"><div style=\"display: table-cell;\"></div><div style=\"display: table-cell;\">lod_threshold&nbsp;=&nbsp;2000,</div></div><div class=\"2098\" style=\"display: none;\"><div style=\"display: table-cell;\"></div><div style=\"display: table-cell;\">lod_timeout&nbsp;=&nbsp;500,</div></div><div class=\"2098\" style=\"display: none;\"><div style=\"display: table-cell;\"></div><div style=\"display: table-cell;\">margin&nbsp;=&nbsp;(0, 0, 0, 0),</div></div><div class=\"2098\" style=\"display: none;\"><div style=\"display: table-cell;\"></div><div style=\"display: table-cell;\">match_aspect&nbsp;=&nbsp;False,</div></div><div class=\"2098\" style=\"display: none;\"><div style=\"display: table-cell;\"></div><div style=\"display: table-cell;\">max_height&nbsp;=&nbsp;None,</div></div><div class=\"2098\" style=\"display: none;\"><div style=\"display: table-cell;\"></div><div style=\"display: table-cell;\">max_width&nbsp;=&nbsp;None,</div></div><div class=\"2098\" style=\"display: none;\"><div style=\"display: table-cell;\"></div><div style=\"display: table-cell;\">min_border&nbsp;=&nbsp;5,</div></div><div class=\"2098\" style=\"display: none;\"><div style=\"display: table-cell;\"></div><div style=\"display: table-cell;\">min_border_bottom&nbsp;=&nbsp;None,</div></div><div class=\"2098\" style=\"display: none;\"><div style=\"display: table-cell;\"></div><div style=\"display: table-cell;\">min_border_left&nbsp;=&nbsp;None,</div></div><div class=\"2098\" style=\"display: none;\"><div style=\"display: table-cell;\"></div><div style=\"display: table-cell;\">min_border_right&nbsp;=&nbsp;None,</div></div><div class=\"2098\" style=\"display: none;\"><div style=\"display: table-cell;\"></div><div style=\"display: table-cell;\">min_border_top&nbsp;=&nbsp;None,</div></div><div class=\"2098\" style=\"display: none;\"><div style=\"display: table-cell;\"></div><div style=\"display: table-cell;\">min_height&nbsp;=&nbsp;None,</div></div><div class=\"2098\" style=\"display: none;\"><div style=\"display: table-cell;\"></div><div style=\"display: table-cell;\">min_width&nbsp;=&nbsp;None,</div></div><div class=\"2098\" style=\"display: none;\"><div style=\"display: table-cell;\"></div><div style=\"display: table-cell;\">name&nbsp;=&nbsp;None,</div></div><div class=\"2098\" style=\"display: none;\"><div style=\"display: table-cell;\"></div><div style=\"display: table-cell;\">outer_height&nbsp;=&nbsp;0,</div></div><div class=\"2098\" style=\"display: none;\"><div style=\"display: table-cell;\"></div><div style=\"display: table-cell;\">outer_width&nbsp;=&nbsp;0,</div></div><div class=\"2098\" style=\"display: none;\"><div style=\"display: table-cell;\"></div><div style=\"display: table-cell;\">outline_line_alpha&nbsp;=&nbsp;1.0,</div></div><div class=\"2098\" style=\"display: none;\"><div style=\"display: table-cell;\"></div><div style=\"display: table-cell;\">outline_line_cap&nbsp;=&nbsp;'butt',</div></div><div class=\"2098\" style=\"display: none;\"><div style=\"display: table-cell;\"></div><div style=\"display: table-cell;\">outline_line_color&nbsp;=&nbsp;'#e5e5e5',</div></div><div class=\"2098\" style=\"display: none;\"><div style=\"display: table-cell;\"></div><div style=\"display: table-cell;\">outline_line_dash&nbsp;=&nbsp;[],</div></div><div class=\"2098\" style=\"display: none;\"><div style=\"display: table-cell;\"></div><div style=\"display: table-cell;\">outline_line_dash_offset&nbsp;=&nbsp;0,</div></div><div class=\"2098\" style=\"display: none;\"><div style=\"display: table-cell;\"></div><div style=\"display: table-cell;\">outline_line_join&nbsp;=&nbsp;'bevel',</div></div><div class=\"2098\" style=\"display: none;\"><div style=\"display: table-cell;\"></div><div style=\"display: table-cell;\">outline_line_width&nbsp;=&nbsp;1,</div></div><div class=\"2098\" style=\"display: none;\"><div style=\"display: table-cell;\"></div><div style=\"display: table-cell;\">output_backend&nbsp;=&nbsp;'webgl',</div></div><div class=\"2098\" style=\"display: none;\"><div style=\"display: table-cell;\"></div><div style=\"display: table-cell;\">renderers&nbsp;=&nbsp;[GlyphRenderer(id='1914', ...), GlyphRenderer(id='1935', ...), GlyphRenderer(id='1957', ...), GlyphRenderer(id='1981', ...)],</div></div><div class=\"2098\" style=\"display: none;\"><div style=\"display: table-cell;\"></div><div style=\"display: table-cell;\">reset_policy&nbsp;=&nbsp;'standard',</div></div><div class=\"2098\" style=\"display: none;\"><div style=\"display: table-cell;\"></div><div style=\"display: table-cell;\">right&nbsp;=&nbsp;[],</div></div><div class=\"2098\" style=\"display: none;\"><div style=\"display: table-cell;\"></div><div style=\"display: table-cell;\">sizing_mode&nbsp;=&nbsp;'fixed',</div></div><div class=\"2098\" style=\"display: none;\"><div style=\"display: table-cell;\"></div><div style=\"display: table-cell;\">subscribed_events&nbsp;=&nbsp;[],</div></div><div class=\"2098\" style=\"display: none;\"><div style=\"display: table-cell;\"></div><div style=\"display: table-cell;\">syncable&nbsp;=&nbsp;True,</div></div><div class=\"2098\" style=\"display: none;\"><div style=\"display: table-cell;\"></div><div style=\"display: table-cell;\">tags&nbsp;=&nbsp;[],</div></div><div class=\"2098\" style=\"display: none;\"><div style=\"display: table-cell;\"></div><div style=\"display: table-cell;\">title&nbsp;=&nbsp;Title(id='1877', ...),</div></div><div class=\"2098\" style=\"display: none;\"><div style=\"display: table-cell;\"></div><div style=\"display: table-cell;\">title_location&nbsp;=&nbsp;'above',</div></div><div class=\"2098\" style=\"display: none;\"><div style=\"display: table-cell;\"></div><div style=\"display: table-cell;\">toolbar&nbsp;=&nbsp;Toolbar(id='1902', ...),</div></div><div class=\"2098\" style=\"display: none;\"><div style=\"display: table-cell;\"></div><div style=\"display: table-cell;\">toolbar_location&nbsp;=&nbsp;'right',</div></div><div class=\"2098\" style=\"display: none;\"><div style=\"display: table-cell;\"></div><div style=\"display: table-cell;\">toolbar_sticky&nbsp;=&nbsp;True,</div></div><div class=\"2098\" style=\"display: none;\"><div style=\"display: table-cell;\"></div><div style=\"display: table-cell;\">visible&nbsp;=&nbsp;True,</div></div><div class=\"2098\" style=\"display: none;\"><div style=\"display: table-cell;\"></div><div style=\"display: table-cell;\">width&nbsp;=&nbsp;600,</div></div><div class=\"2098\" style=\"display: none;\"><div style=\"display: table-cell;\"></div><div style=\"display: table-cell;\">width_policy&nbsp;=&nbsp;'auto',</div></div><div class=\"2098\" style=\"display: none;\"><div style=\"display: table-cell;\"></div><div style=\"display: table-cell;\">x_range&nbsp;=&nbsp;DataRange1d(id='1879', ...),</div></div><div class=\"2098\" style=\"display: none;\"><div style=\"display: table-cell;\"></div><div style=\"display: table-cell;\">x_scale&nbsp;=&nbsp;LinearScale(id='1883', ...),</div></div><div class=\"2098\" style=\"display: none;\"><div style=\"display: table-cell;\"></div><div style=\"display: table-cell;\">y_range&nbsp;=&nbsp;DataRange1d(id='1881', ...),</div></div><div class=\"2098\" style=\"display: none;\"><div style=\"display: table-cell;\"></div><div style=\"display: table-cell;\">y_scale&nbsp;=&nbsp;LinearScale(id='1885', ...))</div></div></div>\n",
       "<script>\n",
       "(function() {\n",
       "  let expanded = false;\n",
       "  const ellipsis = document.getElementById(\"2099\");\n",
       "  ellipsis.addEventListener(\"click\", function() {\n",
       "    const rows = document.getElementsByClassName(\"2098\");\n",
       "    for (let i = 0; i < rows.length; i++) {\n",
       "      const el = rows[i];\n",
       "      el.style.display = expanded ? \"none\" : \"table-row\";\n",
       "    }\n",
       "    ellipsis.innerHTML = expanded ? \"&hellip;)\" : \"&lsaquo;&lsaquo;&lsaquo;\";\n",
       "    expanded = !expanded;\n",
       "  });\n",
       "})();\n",
       "</script>\n"
      ],
      "text/plain": [
       "Figure(id='1876', ...)"
      ]
     },
     "execution_count": 1000,
     "metadata": {},
     "output_type": "execute_result"
    }
   ],
   "source": [
    "mushroom_value_bokeh = mushroom_value\n",
    "mushroom_value_bokeh.index = mushroom_value_bokeh['Year']\n",
    "mushroom_value_bokeh.plot_bokeh.line()"
   ]
  },
  {
   "cell_type": "markdown",
   "metadata": {},
   "source": [
    "### Pie chart displaying the amount of mushrooms produced in US"
   ]
  },
  {
   "cell_type": "code",
   "execution_count": 1001,
   "metadata": {},
   "outputs": [
    {
     "name": "stdout",
     "output_type": "stream",
     "text": [
      "__x__values_original\n"
     ]
    },
    {
     "data": {
      "text/html": [
       "\n",
       "\n",
       "\n",
       "\n",
       "\n",
       "\n",
       "  <div class=\"bk-root\" id=\"10b3cd83-09c9-43ef-a119-ff7402a51e24\" data-root-id=\"2136\"></div>\n"
      ]
     },
     "metadata": {},
     "output_type": "display_data"
    },
    {
     "data": {
      "application/javascript": [
       "(function(root) {\n",
       "  function embed_document(root) {\n",
       "    \n",
       "  const docs_json = {\"1ca6f053-fa6c-4388-bd19-c6205afef32f\":{\"defs\":[],\"roots\":{\"references\":[{\"attributes\":{\"below\":[{\"id\":\"2147\"}],\"center\":[{\"id\":\"2150\"},{\"id\":\"2154\"},{\"id\":\"2188\"}],\"height\":400,\"left\":[{\"id\":\"2151\"}],\"renderers\":[{\"id\":\"2176\"}],\"title\":{\"id\":\"2137\"},\"toolbar\":{\"id\":\"2162\"},\"toolbar_location\":null,\"x_range\":{\"id\":\"2139\"},\"x_scale\":{\"id\":\"2143\"},\"y_range\":{\"id\":\"2141\"},\"y_scale\":{\"id\":\"2145\"}},\"id\":\"2136\",\"subtype\":\"Figure\",\"type\":\"Plot\"},{\"attributes\":{\"end\":2,\"start\":-1.65},\"id\":\"2139\",\"type\":\"Range1d\"},{\"attributes\":{\"end\":1.2,\"start\":-1.2},\"id\":\"2141\",\"type\":\"Range1d\"},{\"attributes\":{\"field\":\"Value_angle\"},\"id\":\"2170\",\"type\":\"CumSum\"},{\"attributes\":{\"coordinates\":null,\"formatter\":{\"id\":\"2180\"},\"group\":null,\"major_label_policy\":{\"id\":\"2181\"},\"ticker\":{\"id\":\"2152\"},\"visible\":false},\"id\":\"2151\",\"type\":\"LinearAxis\"},{\"attributes\":{\"coordinates\":null,\"formatter\":{\"id\":\"2183\"},\"group\":null,\"major_label_policy\":{\"id\":\"2184\"},\"ticker\":{\"id\":\"2192\"},\"visible\":false},\"id\":\"2147\",\"type\":\"LinearAxis\"},{\"attributes\":{},\"id\":\"2145\",\"type\":\"LinearScale\"},{\"attributes\":{},\"id\":\"2160\",\"type\":\"HelpTool\"},{\"attributes\":{\"coordinates\":null,\"group\":null},\"id\":\"2137\",\"type\":\"Title\"},{\"attributes\":{},\"id\":\"2143\",\"type\":\"LinearScale\"},{\"attributes\":{\"callback\":null,\"renderers\":[{\"id\":\"2176\"}],\"tooltips\":[[\"Year\",\"@__x__values_original\"],[\"Value\",\"@{Value}\"]]},\"id\":\"2190\",\"type\":\"HoverTool\"},{\"attributes\":{\"axis\":{\"id\":\"2147\"},\"coordinates\":null,\"grid_line_color\":null,\"group\":null,\"ticker\":null},\"id\":\"2150\",\"type\":\"Grid\"},{\"attributes\":{},\"id\":\"2180\",\"type\":\"BasicTickFormatter\"},{\"attributes\":{},\"id\":\"2152\",\"type\":\"BasicTicker\"},{\"attributes\":{\"axis\":{\"id\":\"2151\"},\"coordinates\":null,\"dimension\":1,\"grid_line_color\":null,\"group\":null,\"ticker\":null},\"id\":\"2154\",\"type\":\"Grid\"},{\"attributes\":{},\"id\":\"2181\",\"type\":\"AllLabels\"},{\"attributes\":{\"ticks\":[0,1,2,3,4,5,6,7,8,9,10,11,12,13,14,15,16,17,18,19,20,21,22,23,24,25,26,27,28,29,30,31,32,33,34,35,36,37,38,39,40,41,42,43,44,45,46,47,48]},\"id\":\"2192\",\"type\":\"FixedTicker\"},{\"attributes\":{},\"id\":\"2183\",\"type\":\"BasicTickFormatter\"},{\"attributes\":{\"tools\":[{\"id\":\"2155\"},{\"id\":\"2156\"},{\"id\":\"2157\"},{\"id\":\"2158\"},{\"id\":\"2159\"},{\"id\":\"2160\"},{\"id\":\"2190\"}]},\"id\":\"2162\",\"type\":\"Toolbar\"},{\"attributes\":{},\"id\":\"2156\",\"type\":\"WheelZoomTool\"},{\"attributes\":{},\"id\":\"2155\",\"type\":\"PanTool\"},{\"attributes\":{\"overlay\":{\"id\":\"2161\"}},\"id\":\"2157\",\"type\":\"BoxZoomTool\"},{\"attributes\":{},\"id\":\"2184\",\"type\":\"AllLabels\"},{\"attributes\":{},\"id\":\"2158\",\"type\":\"SaveTool\"},{\"attributes\":{},\"id\":\"2159\",\"type\":\"ResetTool\"},{\"attributes\":{\"label\":{\"field\":\"__x__values_original\"},\"renderers\":[{\"id\":\"2176\"}]},\"id\":\"2189\",\"type\":\"LegendItem\"},{\"attributes\":{\"field\":\"Value_angle\",\"include_zero\":true},\"id\":\"2169\",\"type\":\"CumSum\"},{\"attributes\":{\"data\":{\"Value\":[115212,115213,126775,135660,140529,157454,180848,205930,213200,212990,234570,222630,254700,270200,266700,278700,286600,302900,324315,338760,352150,340560,354250,352836,352300,366810,384540,387550,383830,376980,377080,387601,387601,386984,382541,359630,368591,371844,359469,390902,402904,408157,432100,420853,427925,423360,416050,383960,370280],\"Value_angle\":{\"__ndarray__\":\"K2Fbpgfspz/E+uJBFeynP5QyIpynUqo/IDZole4qrD94nnSvvS2tP51StaGwWLA/eop2AHDGsj8VKUYiDGG1P4gqsIhDIrY/fSoSvq4ctj/LLmYTOFq4P2osKhPjHLc/zzK08Tdxuj/nNchcKg28PzU11CslsLs/mDf0ZRLvvD8tOTgsCMG9P208LJs9cr8/WqCmKLLVwD/KITxhppXBPyAj3ZyVR8I/+CGYxZGtwT9WI/ORfWPCP5iJNE6zUMI/JCM65ZNJwj+WJCs9ZQrDP1smgqYA9sM/qCaZUgAexD9JJv1PkezDP5olZmeKkcM/nSWkl96Swz8QDZrRrR7EPxANmtGtHsQ/M8Al23oWxD+ODIxIcNvDP98jYbX7qsI/KgvD/g8iwz+wvkdTSk3DP3U9TwHYqMI/yvN5cItKxD/KwU3bCOrEP4N1qvTWL8U/Git+RgJuxj8u3eRHjdjFP6+qYWiHNsY/Oiogzt35xT+AKZ8HupjFP0wmtI5L7sM/7yQsx4E4wz8=\",\"dtype\":\"float64\",\"order\":\"little\",\"shape\":[49]},\"__x__values\":[1972,1973,1974,1975,1976,1977,1978,1979,1980,1981,1982,1983,1984,1985,1986,1987,1988,1989,1990,1991,1992,1993,1994,1995,1996,1997,1998,1999,2000,2001,2002,2003,2004,2005,2006,2007,2008,2009,2010,2011,2012,2013,2014,2015,2016,2017,2018,2019,2020],\"__x__values_original\":[1972,1973,1974,1975,1976,1977,1978,1979,1980,1981,1982,1983,1984,1985,1986,1987,1988,1989,1990,1991,1992,1993,1994,1995,1996,1997,1998,1999,2000,2001,2002,2003,2004,2005,2006,2007,2008,2009,2010,2011,2012,2013,2014,2015,2016,2017,2018,2019,2020],\"color\":[\"#1f77b4\",\"#aec7e8\",\"#ff7f0e\",\"#ffbb78\",\"#2ca02c\",\"#98df8a\",\"#d62728\",\"#ff9896\",\"#9467bd\",\"#c5b0d5\",\"#8c564b\",\"#c49c94\",\"#e377c2\",\"#f7b6d2\",\"#7f7f7f\",\"#c7c7c7\",\"#bcbd22\",\"#dbdb8d\",\"#17becf\",\"#9edae5\",\"#1f77b4\",\"#aec7e8\",\"#ff7f0e\",\"#ffbb78\",\"#2ca02c\",\"#98df8a\",\"#d62728\",\"#ff9896\",\"#9467bd\",\"#c5b0d5\",\"#8c564b\",\"#c49c94\",\"#e377c2\",\"#f7b6d2\",\"#7f7f7f\",\"#c7c7c7\",\"#bcbd22\",\"#dbdb8d\",\"#17becf\",\"#9edae5\",\"#1f77b4\",\"#aec7e8\",\"#ff7f0e\",\"#ffbb78\",\"#2ca02c\",\"#98df8a\",\"#d62728\",\"#ff9896\",\"#9467bd\"],\"inner_radius\":[0.0,0.0,0.0,0.0,0.0,0.0,0.0,0.0,0.0,0.0,0.0,0.0,0.0,0.0,0.0,0.0,0.0,0.0,0.0,0.0,0.0,0.0,0.0,0.0,0.0,0.0,0.0,0.0,0.0,0.0,0.0,0.0,0.0,0.0,0.0,0.0,0.0,0.0,0.0,0.0,0.0,0.0,0.0,0.0,0.0,0.0,0.0,0.0,0.0],\"outer_radius\":[0.9,0.9,0.9,0.9,0.9,0.9,0.9,0.9,0.9,0.9,0.9,0.9,0.9,0.9,0.9,0.9,0.9,0.9,0.9,0.9,0.9,0.9,0.9,0.9,0.9,0.9,0.9,0.9,0.9,0.9,0.9,0.9,0.9,0.9,0.9,0.9,0.9,0.9,0.9,0.9,0.9,0.9,0.9,0.9,0.9,0.9,0.9,0.9,0.9]},\"selected\":{\"id\":\"2186\"},\"selection_policy\":{\"id\":\"2185\"}},\"id\":\"2171\",\"type\":\"ColumnDataSource\"},{\"attributes\":{\"end_angle\":{\"expr\":{\"id\":\"2170\"}},\"fill_color\":{\"field\":\"color\"},\"inner_radius\":{\"field\":\"inner_radius\"},\"line_color\":{\"value\":\"white\"},\"line_width\":{\"value\":2},\"outer_radius\":{\"field\":\"outer_radius\"},\"start_angle\":{\"expr\":{\"id\":\"2169\"}},\"x\":{\"value\":0},\"y\":{\"value\":0}},\"id\":\"2173\",\"type\":\"AnnularWedge\"},{\"attributes\":{\"bottom_units\":\"screen\",\"coordinates\":null,\"fill_alpha\":0.5,\"fill_color\":\"lightgrey\",\"group\":null,\"left_units\":\"screen\",\"level\":\"overlay\",\"line_alpha\":1.0,\"line_color\":\"black\",\"line_dash\":[4,4],\"line_width\":2,\"right_units\":\"screen\",\"syncable\":false,\"top_units\":\"screen\"},\"id\":\"2161\",\"type\":\"BoxAnnotation\"},{\"attributes\":{\"coordinates\":null,\"data_source\":{\"id\":\"2171\"},\"glyph\":{\"id\":\"2173\"},\"group\":null,\"hover_glyph\":null,\"muted_glyph\":{\"id\":\"2175\"},\"nonselection_glyph\":{\"id\":\"2174\"},\"view\":{\"id\":\"2177\"}},\"id\":\"2176\",\"type\":\"GlyphRenderer\"},{\"attributes\":{\"end_angle\":{\"expr\":{\"id\":\"2170\"}},\"fill_alpha\":{\"value\":0.1},\"fill_color\":{\"field\":\"color\"},\"hatch_alpha\":{\"value\":0.1},\"inner_radius\":{\"field\":\"inner_radius\"},\"line_alpha\":{\"value\":0.1},\"line_color\":{\"value\":\"white\"},\"line_width\":{\"value\":2},\"outer_radius\":{\"field\":\"outer_radius\"},\"start_angle\":{\"expr\":{\"id\":\"2169\"}},\"x\":{\"value\":0},\"y\":{\"value\":0}},\"id\":\"2174\",\"type\":\"AnnularWedge\"},{\"attributes\":{},\"id\":\"2185\",\"type\":\"UnionRenderers\"},{\"attributes\":{\"source\":{\"id\":\"2171\"}},\"id\":\"2177\",\"type\":\"CDSView\"},{\"attributes\":{\"end_angle\":{\"expr\":{\"id\":\"2170\"}},\"fill_alpha\":{\"value\":0.2},\"fill_color\":{\"field\":\"color\"},\"hatch_alpha\":{\"value\":0.2},\"inner_radius\":{\"field\":\"inner_radius\"},\"line_alpha\":{\"value\":0.2},\"line_color\":{\"value\":\"white\"},\"line_width\":{\"value\":2},\"outer_radius\":{\"field\":\"outer_radius\"},\"start_angle\":{\"expr\":{\"id\":\"2169\"}},\"x\":{\"value\":0},\"y\":{\"value\":0}},\"id\":\"2175\",\"type\":\"AnnularWedge\"},{\"attributes\":{},\"id\":\"2186\",\"type\":\"Selection\"},{\"attributes\":{\"coordinates\":null,\"group\":null,\"items\":[{\"id\":\"2189\"}]},\"id\":\"2188\",\"type\":\"Legend\"}],\"root_ids\":[\"2136\"]},\"title\":\"Bokeh Application\",\"version\":\"2.4.1\"}};\n",
       "  const render_items = [{\"docid\":\"1ca6f053-fa6c-4388-bd19-c6205afef32f\",\"root_ids\":[\"2136\"],\"roots\":{\"2136\":\"10b3cd83-09c9-43ef-a119-ff7402a51e24\"}}];\n",
       "  root.Bokeh.embed.embed_items_notebook(docs_json, render_items);\n",
       "\n",
       "  }\n",
       "  if (root.Bokeh !== undefined) {\n",
       "    embed_document(root);\n",
       "  } else {\n",
       "    let attempts = 0;\n",
       "    const timer = setInterval(function(root) {\n",
       "      if (root.Bokeh !== undefined) {\n",
       "        clearInterval(timer);\n",
       "        embed_document(root);\n",
       "      } else {\n",
       "        attempts++;\n",
       "        if (attempts > 100) {\n",
       "          clearInterval(timer);\n",
       "          console.log(\"Bokeh: ERROR: Unable to run BokehJS code because BokehJS library is missing\");\n",
       "        }\n",
       "      }\n",
       "    }, 10, root)\n",
       "  }\n",
       "})(window);"
      ],
      "application/vnd.bokehjs_exec.v0+json": ""
     },
     "metadata": {
      "application/vnd.bokehjs_exec.v0+json": {
       "id": "2136"
      }
     },
     "output_type": "display_data"
    },
    {
     "data": {
      "text/html": [
       "<div style=\"display: table;\"><div style=\"display: table-row;\"><div style=\"display: table-cell;\"><b title=\"bokeh.plotting.figure.Figure\">Figure</b>(</div><div style=\"display: table-cell;\">id&nbsp;=&nbsp;'2136', <span id=\"2265\" style=\"cursor: pointer;\">&hellip;)</span></div></div><div class=\"2264\" style=\"display: none;\"><div style=\"display: table-cell;\"></div><div style=\"display: table-cell;\">above&nbsp;=&nbsp;[],</div></div><div class=\"2264\" style=\"display: none;\"><div style=\"display: table-cell;\"></div><div style=\"display: table-cell;\">align&nbsp;=&nbsp;'start',</div></div><div class=\"2264\" style=\"display: none;\"><div style=\"display: table-cell;\"></div><div style=\"display: table-cell;\">aspect_ratio&nbsp;=&nbsp;None,</div></div><div class=\"2264\" style=\"display: none;\"><div style=\"display: table-cell;\"></div><div style=\"display: table-cell;\">aspect_scale&nbsp;=&nbsp;1,</div></div><div class=\"2264\" style=\"display: none;\"><div style=\"display: table-cell;\"></div><div style=\"display: table-cell;\">background&nbsp;=&nbsp;None,</div></div><div class=\"2264\" style=\"display: none;\"><div style=\"display: table-cell;\"></div><div style=\"display: table-cell;\">background_fill_alpha&nbsp;=&nbsp;1.0,</div></div><div class=\"2264\" style=\"display: none;\"><div style=\"display: table-cell;\"></div><div style=\"display: table-cell;\">background_fill_color&nbsp;=&nbsp;'#ffffff',</div></div><div class=\"2264\" style=\"display: none;\"><div style=\"display: table-cell;\"></div><div style=\"display: table-cell;\">below&nbsp;=&nbsp;[LinearAxis(id='2147', ...)],</div></div><div class=\"2264\" style=\"display: none;\"><div style=\"display: table-cell;\"></div><div style=\"display: table-cell;\">border_fill_alpha&nbsp;=&nbsp;1.0,</div></div><div class=\"2264\" style=\"display: none;\"><div style=\"display: table-cell;\"></div><div style=\"display: table-cell;\">border_fill_color&nbsp;=&nbsp;'#ffffff',</div></div><div class=\"2264\" style=\"display: none;\"><div style=\"display: table-cell;\"></div><div style=\"display: table-cell;\">center&nbsp;=&nbsp;[Grid(id='2150', ...), Grid(id='2154', ...), Legend(id='2188', ...)],</div></div><div class=\"2264\" style=\"display: none;\"><div style=\"display: table-cell;\"></div><div style=\"display: table-cell;\">css_classes&nbsp;=&nbsp;[],</div></div><div class=\"2264\" style=\"display: none;\"><div style=\"display: table-cell;\"></div><div style=\"display: table-cell;\">disabled&nbsp;=&nbsp;False,</div></div><div class=\"2264\" style=\"display: none;\"><div style=\"display: table-cell;\"></div><div style=\"display: table-cell;\">extra_x_ranges&nbsp;=&nbsp;{},</div></div><div class=\"2264\" style=\"display: none;\"><div style=\"display: table-cell;\"></div><div style=\"display: table-cell;\">extra_x_scales&nbsp;=&nbsp;{},</div></div><div class=\"2264\" style=\"display: none;\"><div style=\"display: table-cell;\"></div><div style=\"display: table-cell;\">extra_y_ranges&nbsp;=&nbsp;{},</div></div><div class=\"2264\" style=\"display: none;\"><div style=\"display: table-cell;\"></div><div style=\"display: table-cell;\">extra_y_scales&nbsp;=&nbsp;{},</div></div><div class=\"2264\" style=\"display: none;\"><div style=\"display: table-cell;\"></div><div style=\"display: table-cell;\">frame_height&nbsp;=&nbsp;None,</div></div><div class=\"2264\" style=\"display: none;\"><div style=\"display: table-cell;\"></div><div style=\"display: table-cell;\">frame_width&nbsp;=&nbsp;None,</div></div><div class=\"2264\" style=\"display: none;\"><div style=\"display: table-cell;\"></div><div style=\"display: table-cell;\">height&nbsp;=&nbsp;400,</div></div><div class=\"2264\" style=\"display: none;\"><div style=\"display: table-cell;\"></div><div style=\"display: table-cell;\">height_policy&nbsp;=&nbsp;'auto',</div></div><div class=\"2264\" style=\"display: none;\"><div style=\"display: table-cell;\"></div><div style=\"display: table-cell;\">hidpi&nbsp;=&nbsp;True,</div></div><div class=\"2264\" style=\"display: none;\"><div style=\"display: table-cell;\"></div><div style=\"display: table-cell;\">inner_height&nbsp;=&nbsp;0,</div></div><div class=\"2264\" style=\"display: none;\"><div style=\"display: table-cell;\"></div><div style=\"display: table-cell;\">inner_width&nbsp;=&nbsp;0,</div></div><div class=\"2264\" style=\"display: none;\"><div style=\"display: table-cell;\"></div><div style=\"display: table-cell;\">js_event_callbacks&nbsp;=&nbsp;{},</div></div><div class=\"2264\" style=\"display: none;\"><div style=\"display: table-cell;\"></div><div style=\"display: table-cell;\">js_property_callbacks&nbsp;=&nbsp;{},</div></div><div class=\"2264\" style=\"display: none;\"><div style=\"display: table-cell;\"></div><div style=\"display: table-cell;\">left&nbsp;=&nbsp;[LinearAxis(id='2151', ...)],</div></div><div class=\"2264\" style=\"display: none;\"><div style=\"display: table-cell;\"></div><div style=\"display: table-cell;\">lod_factor&nbsp;=&nbsp;10,</div></div><div class=\"2264\" style=\"display: none;\"><div style=\"display: table-cell;\"></div><div style=\"display: table-cell;\">lod_interval&nbsp;=&nbsp;300,</div></div><div class=\"2264\" style=\"display: none;\"><div style=\"display: table-cell;\"></div><div style=\"display: table-cell;\">lod_threshold&nbsp;=&nbsp;2000,</div></div><div class=\"2264\" style=\"display: none;\"><div style=\"display: table-cell;\"></div><div style=\"display: table-cell;\">lod_timeout&nbsp;=&nbsp;500,</div></div><div class=\"2264\" style=\"display: none;\"><div style=\"display: table-cell;\"></div><div style=\"display: table-cell;\">margin&nbsp;=&nbsp;(0, 0, 0, 0),</div></div><div class=\"2264\" style=\"display: none;\"><div style=\"display: table-cell;\"></div><div style=\"display: table-cell;\">match_aspect&nbsp;=&nbsp;False,</div></div><div class=\"2264\" style=\"display: none;\"><div style=\"display: table-cell;\"></div><div style=\"display: table-cell;\">max_height&nbsp;=&nbsp;None,</div></div><div class=\"2264\" style=\"display: none;\"><div style=\"display: table-cell;\"></div><div style=\"display: table-cell;\">max_width&nbsp;=&nbsp;None,</div></div><div class=\"2264\" style=\"display: none;\"><div style=\"display: table-cell;\"></div><div style=\"display: table-cell;\">min_border&nbsp;=&nbsp;5,</div></div><div class=\"2264\" style=\"display: none;\"><div style=\"display: table-cell;\"></div><div style=\"display: table-cell;\">min_border_bottom&nbsp;=&nbsp;None,</div></div><div class=\"2264\" style=\"display: none;\"><div style=\"display: table-cell;\"></div><div style=\"display: table-cell;\">min_border_left&nbsp;=&nbsp;None,</div></div><div class=\"2264\" style=\"display: none;\"><div style=\"display: table-cell;\"></div><div style=\"display: table-cell;\">min_border_right&nbsp;=&nbsp;None,</div></div><div class=\"2264\" style=\"display: none;\"><div style=\"display: table-cell;\"></div><div style=\"display: table-cell;\">min_border_top&nbsp;=&nbsp;None,</div></div><div class=\"2264\" style=\"display: none;\"><div style=\"display: table-cell;\"></div><div style=\"display: table-cell;\">min_height&nbsp;=&nbsp;None,</div></div><div class=\"2264\" style=\"display: none;\"><div style=\"display: table-cell;\"></div><div style=\"display: table-cell;\">min_width&nbsp;=&nbsp;None,</div></div><div class=\"2264\" style=\"display: none;\"><div style=\"display: table-cell;\"></div><div style=\"display: table-cell;\">name&nbsp;=&nbsp;None,</div></div><div class=\"2264\" style=\"display: none;\"><div style=\"display: table-cell;\"></div><div style=\"display: table-cell;\">outer_height&nbsp;=&nbsp;0,</div></div><div class=\"2264\" style=\"display: none;\"><div style=\"display: table-cell;\"></div><div style=\"display: table-cell;\">outer_width&nbsp;=&nbsp;0,</div></div><div class=\"2264\" style=\"display: none;\"><div style=\"display: table-cell;\"></div><div style=\"display: table-cell;\">outline_line_alpha&nbsp;=&nbsp;1.0,</div></div><div class=\"2264\" style=\"display: none;\"><div style=\"display: table-cell;\"></div><div style=\"display: table-cell;\">outline_line_cap&nbsp;=&nbsp;'butt',</div></div><div class=\"2264\" style=\"display: none;\"><div style=\"display: table-cell;\"></div><div style=\"display: table-cell;\">outline_line_color&nbsp;=&nbsp;'#e5e5e5',</div></div><div class=\"2264\" style=\"display: none;\"><div style=\"display: table-cell;\"></div><div style=\"display: table-cell;\">outline_line_dash&nbsp;=&nbsp;[],</div></div><div class=\"2264\" style=\"display: none;\"><div style=\"display: table-cell;\"></div><div style=\"display: table-cell;\">outline_line_dash_offset&nbsp;=&nbsp;0,</div></div><div class=\"2264\" style=\"display: none;\"><div style=\"display: table-cell;\"></div><div style=\"display: table-cell;\">outline_line_join&nbsp;=&nbsp;'bevel',</div></div><div class=\"2264\" style=\"display: none;\"><div style=\"display: table-cell;\"></div><div style=\"display: table-cell;\">outline_line_width&nbsp;=&nbsp;1,</div></div><div class=\"2264\" style=\"display: none;\"><div style=\"display: table-cell;\"></div><div style=\"display: table-cell;\">output_backend&nbsp;=&nbsp;'canvas',</div></div><div class=\"2264\" style=\"display: none;\"><div style=\"display: table-cell;\"></div><div style=\"display: table-cell;\">renderers&nbsp;=&nbsp;[GlyphRenderer(id='2176', ...)],</div></div><div class=\"2264\" style=\"display: none;\"><div style=\"display: table-cell;\"></div><div style=\"display: table-cell;\">reset_policy&nbsp;=&nbsp;'standard',</div></div><div class=\"2264\" style=\"display: none;\"><div style=\"display: table-cell;\"></div><div style=\"display: table-cell;\">right&nbsp;=&nbsp;[],</div></div><div class=\"2264\" style=\"display: none;\"><div style=\"display: table-cell;\"></div><div style=\"display: table-cell;\">sizing_mode&nbsp;=&nbsp;None,</div></div><div class=\"2264\" style=\"display: none;\"><div style=\"display: table-cell;\"></div><div style=\"display: table-cell;\">subscribed_events&nbsp;=&nbsp;[],</div></div><div class=\"2264\" style=\"display: none;\"><div style=\"display: table-cell;\"></div><div style=\"display: table-cell;\">syncable&nbsp;=&nbsp;True,</div></div><div class=\"2264\" style=\"display: none;\"><div style=\"display: table-cell;\"></div><div style=\"display: table-cell;\">tags&nbsp;=&nbsp;[],</div></div><div class=\"2264\" style=\"display: none;\"><div style=\"display: table-cell;\"></div><div style=\"display: table-cell;\">title&nbsp;=&nbsp;Title(id='2137', ...),</div></div><div class=\"2264\" style=\"display: none;\"><div style=\"display: table-cell;\"></div><div style=\"display: table-cell;\">title_location&nbsp;=&nbsp;'above',</div></div><div class=\"2264\" style=\"display: none;\"><div style=\"display: table-cell;\"></div><div style=\"display: table-cell;\">toolbar&nbsp;=&nbsp;Toolbar(id='2162', ...),</div></div><div class=\"2264\" style=\"display: none;\"><div style=\"display: table-cell;\"></div><div style=\"display: table-cell;\">toolbar_location&nbsp;=&nbsp;None,</div></div><div class=\"2264\" style=\"display: none;\"><div style=\"display: table-cell;\"></div><div style=\"display: table-cell;\">toolbar_sticky&nbsp;=&nbsp;True,</div></div><div class=\"2264\" style=\"display: none;\"><div style=\"display: table-cell;\"></div><div style=\"display: table-cell;\">visible&nbsp;=&nbsp;True,</div></div><div class=\"2264\" style=\"display: none;\"><div style=\"display: table-cell;\"></div><div style=\"display: table-cell;\">width&nbsp;=&nbsp;600,</div></div><div class=\"2264\" style=\"display: none;\"><div style=\"display: table-cell;\"></div><div style=\"display: table-cell;\">width_policy&nbsp;=&nbsp;'auto',</div></div><div class=\"2264\" style=\"display: none;\"><div style=\"display: table-cell;\"></div><div style=\"display: table-cell;\">x_range&nbsp;=&nbsp;Range1d(id='2139', ...),</div></div><div class=\"2264\" style=\"display: none;\"><div style=\"display: table-cell;\"></div><div style=\"display: table-cell;\">x_scale&nbsp;=&nbsp;LinearScale(id='2143', ...),</div></div><div class=\"2264\" style=\"display: none;\"><div style=\"display: table-cell;\"></div><div style=\"display: table-cell;\">y_range&nbsp;=&nbsp;Range1d(id='2141', ...),</div></div><div class=\"2264\" style=\"display: none;\"><div style=\"display: table-cell;\"></div><div style=\"display: table-cell;\">y_scale&nbsp;=&nbsp;LinearScale(id='2145', ...))</div></div></div>\n",
       "<script>\n",
       "(function() {\n",
       "  let expanded = false;\n",
       "  const ellipsis = document.getElementById(\"2265\");\n",
       "  ellipsis.addEventListener(\"click\", function() {\n",
       "    const rows = document.getElementsByClassName(\"2264\");\n",
       "    for (let i = 0; i < rows.length; i++) {\n",
       "      const el = rows[i];\n",
       "      el.style.display = expanded ? \"none\" : \"table-row\";\n",
       "    }\n",
       "    ellipsis.innerHTML = expanded ? \"&hellip;)\" : \"&lsaquo;&lsaquo;&lsaquo;\";\n",
       "    expanded = !expanded;\n",
       "  });\n",
       "})();\n",
       "</script>\n"
      ],
      "text/plain": [
       "Figure(id='2136', ...)"
      ]
     },
     "execution_count": 1001,
     "metadata": {},
     "output_type": "execute_result"
    }
   ],
   "source": [
    "us_mushroom_df_bokeh = us_mushroom_df\n",
    "us_mushroom_df_bokeh.index=us_mushroom_df_bokeh['Year']\n",
    "us_mushroom_df_bokeh.plot_bokeh.pie(y ='Value')"
   ]
  }
 ],
 "metadata": {
  "kernelspec": {
   "display_name": "Python 3 (ipykernel)",
   "language": "python",
   "name": "python3"
  },
  "language_info": {
   "codemirror_mode": {
    "name": "ipython",
    "version": 3
   },
   "file_extension": ".py",
   "mimetype": "text/x-python",
   "name": "python",
   "nbconvert_exporter": "python",
   "pygments_lexer": "ipython3",
   "version": "3.8.12"
  }
 },
 "nbformat": 4,
 "nbformat_minor": 4
}
